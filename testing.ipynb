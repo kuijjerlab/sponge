{
 "cells": [
  {
   "cell_type": "code",
   "execution_count": 1,
   "metadata": {},
   "outputs": [],
   "source": [
    "from sponge.sponge import Sponge"
   ]
  },
  {
   "cell_type": "code",
   "execution_count": 2,
   "metadata": {},
   "outputs": [],
   "source": [
    "sponge_obj = Sponge()"
   ]
  },
  {
   "cell_type": "code",
   "execution_count": 3,
   "metadata": {},
   "outputs": [
    {
     "name": "stdout",
     "output_type": "stream",
     "text": [
      "Using: JASPAR2022\n",
      "\n",
      "All motif versions: 1205\n",
      "Motif base IDs: 841\n",
      "Unique motifs: 791\n",
      "Motifs without heterodimers: 723\n"
     ]
    }
   ],
   "source": [
    "sponge_obj.select_tfs()"
   ]
  },
  {
   "cell_type": "code",
   "execution_count": 4,
   "metadata": {},
   "outputs": [
    {
     "name": "stdout",
     "output_type": "stream",
     "text": [
      "File homologene.tsv not found in directory .sponge_temp/\n",
      "Do you want to download it? Y/N\n",
      "Y\n",
      "\n",
      "Downloading data into .sponge_temp/homologene.tsv...\n",
      "\n",
      "Non-human motifs: 103\n",
      "\n",
      "Names missing from the homologene database:\n",
      "Znf423 O08961\n",
      "mix-a P21711\n",
      "Dux A1JVI8\n",
      "\n",
      "Retrieving matches from UniProt...\n",
      "Fetched: 3 / 3\n",
      "\n",
      "Duplicate names:\n",
      "NR2F6: Nr2f6 Nr2F6\n",
      "PTF1A: Ptf1a Ptf1A\n",
      "\n",
      "Final number of IDs which will be replaced by human homologs: 87\n",
      "Final number of total matrix IDs: 707\n"
     ]
    }
   ],
   "source": [
    "# sponge_obj.find_human_homologs(homologene_file='homologene.tsv')\n",
    "sponge_obj.find_human_homologs()"
   ]
  },
  {
   "cell_type": "code",
   "execution_count": null,
   "metadata": {},
   "outputs": [
    {
     "name": "stdout",
     "output_type": "stream",
     "text": [
      "Loading the promoter bed file...\n",
      "\n",
      "Iterating over the chromosomes...\n",
      "Chromosome 1 with 10789 transcripts\n",
      "Done in: 0 m 47.17 s\n",
      "Chromosome 2 with 8175 transcripts\n",
      "Done in: 0 m 41.73 s\n",
      "Chromosome 3 with 6707 transcripts\n",
      "Done in: 0 m 37.78 s\n",
      "Chromosome 4 with 5075 transcripts\n",
      "Done in: 0 m 31.21 s\n",
      "Chromosome 5 with 5660 transcripts\n",
      "Done in: 0 m 33.69 s\n",
      "Chromosome 6 with 5853 transcripts\n",
      "Done in: 0 m 34.69 s\n",
      "Chromosome 7 with 5636 transcripts\n",
      "Done in: 0 m 33.30 s\n",
      "Chromosome 8 with 4709 transcripts\n",
      "Done in: 0 m 19.06 s\n",
      "Chromosome 9 with 4269 transcripts\n",
      "Done in: 0 m 16.96 s\n",
      "Chromosome 10 with 4575 transcripts\n",
      "Done in: 0 m 26.82 s\n",
      "Chromosome 11 with 6744 transcripts\n",
      "Done in: 0 m 37.54 s\n",
      "Chromosome 12 with 5939 transcripts\n",
      "Done in: 0 m 35.91 s\n",
      "Chromosome 13 with 2410 transcripts\n",
      "Done in: 0 m 13.26 s\n",
      "Chromosome 14 with 4272 transcripts\n",
      "Done in: 0 m 16.12 s\n",
      "Chromosome 15 with 4105 transcripts\n",
      "Done in: 0 m 16.16 s\n",
      "Chromosome 16 with 4838 transcripts\n",
      "Done in: 0 m 25.84 s\n",
      "Chromosome 17 with 6116 transcripts\n",
      "Done in: 0 m 32.78 s\n",
      "Chromosome 18 with 2239 transcripts\n",
      "Done in: 0 m 11.92 s\n",
      "Chromosome 19 with 6303 transcripts\n",
      "Done in: 0 m 33.76 s\n",
      "Chromosome 20 with 2858 transcripts\n",
      "Done in: 0 m 13.09 s\n",
      "Chromosome 21 with 1590 transcripts\n",
      "Done in: 0 m 10.28 s\n",
      "Chromosome 22 with 2527 transcripts\n",
      "Done in: 0 m 11.65 s\n",
      "Chromosome M with 37 transcripts\n",
      "Done in: 0 m 1.66 s\n",
      "Chromosome X with 4477 transcripts\n",
      "Done in: 0 m 21.11 s\n",
      "Chromosome Y with 746 transcripts\n",
      "Done in: 0 m 6.95 s\n",
      "\n",
      "Total time: 10 m 10.45 s\n"
     ]
    }
   ],
   "source": [
    "sponge_obj.filter_matches(promoter_file='hg38_genes_filtered_promoters_fixed.bed', \n",
    "    bigbed_file='JASPAR2022_hg38.bb', n_processes=16)"
   ]
  },
  {
   "cell_type": "code",
   "execution_count": null,
   "metadata": {},
   "outputs": [
    {
     "data": {
      "text/html": [
       "<div>\n",
       "<style scoped>\n",
       "    .dataframe tbody tr th:only-of-type {\n",
       "        vertical-align: middle;\n",
       "    }\n",
       "\n",
       "    .dataframe tbody tr th {\n",
       "        vertical-align: top;\n",
       "    }\n",
       "\n",
       "    .dataframe thead th {\n",
       "        text-align: right;\n",
       "    }\n",
       "</style>\n",
       "<table border=\"1\" class=\"dataframe\">\n",
       "  <thead>\n",
       "    <tr style=\"text-align: right;\">\n",
       "      <th></th>\n",
       "      <th>TFName</th>\n",
       "      <th>score</th>\n",
       "      <th>name</th>\n",
       "      <th>transcript</th>\n",
       "    </tr>\n",
       "  </thead>\n",
       "  <tbody>\n",
       "    <tr>\n",
       "      <th>0</th>\n",
       "      <td>ASCL1</td>\n",
       "      <td>458</td>\n",
       "      <td>MA1631.1</td>\n",
       "      <td>ENST00000456328</td>\n",
       "    </tr>\n",
       "    <tr>\n",
       "      <th>1</th>\n",
       "      <td>ATOH7</td>\n",
       "      <td>471</td>\n",
       "      <td>MA1468.1</td>\n",
       "      <td>ENST00000456328</td>\n",
       "    </tr>\n",
       "    <tr>\n",
       "      <th>2</th>\n",
       "      <td>Ascl2</td>\n",
       "      <td>424</td>\n",
       "      <td>MA0816.1</td>\n",
       "      <td>ENST00000456328</td>\n",
       "    </tr>\n",
       "    <tr>\n",
       "      <th>3</th>\n",
       "      <td>BCL6</td>\n",
       "      <td>454</td>\n",
       "      <td>MA0463.2</td>\n",
       "      <td>ENST00000456328</td>\n",
       "    </tr>\n",
       "    <tr>\n",
       "      <th>4</th>\n",
       "      <td>BHLHA15</td>\n",
       "      <td>407</td>\n",
       "      <td>MA0607.2</td>\n",
       "      <td>ENST00000456328</td>\n",
       "    </tr>\n",
       "    <tr>\n",
       "      <th>...</th>\n",
       "      <td>...</td>\n",
       "      <td>...</td>\n",
       "      <td>...</td>\n",
       "      <td>...</td>\n",
       "    </tr>\n",
       "    <tr>\n",
       "      <th>16482946</th>\n",
       "      <td>ZNF692</td>\n",
       "      <td>465</td>\n",
       "      <td>MA1986.1</td>\n",
       "      <td>ENST00000507418</td>\n",
       "    </tr>\n",
       "    <tr>\n",
       "      <th>16482947</th>\n",
       "      <td>ZNF708</td>\n",
       "      <td>482</td>\n",
       "      <td>MA1730.1</td>\n",
       "      <td>ENST00000507418</td>\n",
       "    </tr>\n",
       "    <tr>\n",
       "      <th>16482948</th>\n",
       "      <td>Zfp335</td>\n",
       "      <td>483</td>\n",
       "      <td>MA2002.1</td>\n",
       "      <td>ENST00000507418</td>\n",
       "    </tr>\n",
       "    <tr>\n",
       "      <th>16482949</th>\n",
       "      <td>Zfx</td>\n",
       "      <td>512</td>\n",
       "      <td>MA0146.2</td>\n",
       "      <td>ENST00000507418</td>\n",
       "    </tr>\n",
       "    <tr>\n",
       "      <th>16482950</th>\n",
       "      <td>Zic2</td>\n",
       "      <td>489</td>\n",
       "      <td>MA1629.1</td>\n",
       "      <td>ENST00000507418</td>\n",
       "    </tr>\n",
       "  </tbody>\n",
       "</table>\n",
       "<p>16482951 rows × 4 columns</p>\n",
       "</div>"
      ],
      "text/plain": [
       "           TFName  score      name       transcript\n",
       "0           ASCL1    458  MA1631.1  ENST00000456328\n",
       "1           ATOH7    471  MA1468.1  ENST00000456328\n",
       "2           Ascl2    424  MA0816.1  ENST00000456328\n",
       "3            BCL6    454  MA0463.2  ENST00000456328\n",
       "4         BHLHA15    407  MA0607.2  ENST00000456328\n",
       "...           ...    ...       ...              ...\n",
       "16482946   ZNF692    465  MA1986.1  ENST00000507418\n",
       "16482947   ZNF708    482  MA1730.1  ENST00000507418\n",
       "16482948   Zfp335    483  MA2002.1  ENST00000507418\n",
       "16482949      Zfx    512  MA0146.2  ENST00000507418\n",
       "16482950     Zic2    489  MA1629.1  ENST00000507418\n",
       "\n",
       "[16482951 rows x 4 columns]"
      ]
     },
     "execution_count": 10,
     "metadata": {},
     "output_type": "execute_result"
    }
   ],
   "source": [
    "sponge_obj.all_edges"
   ]
  },
  {
   "cell_type": "code",
   "execution_count": null,
   "metadata": {},
   "outputs": [],
   "source": [
    "import requests"
   ]
  },
  {
   "cell_type": "code",
   "execution_count": null,
   "metadata": {},
   "outputs": [],
   "source": [
    "r = requests.get('https://ftp.ncbi.nih.gov/pub/HomoloGene/current/homologene.data')"
   ]
  },
  {
   "cell_type": "code",
   "execution_count": null,
   "metadata": {},
   "outputs": [
    {
     "data": {
      "text/plain": [
       "13803677"
      ]
     },
     "execution_count": 30,
     "metadata": {},
     "output_type": "execute_result"
    }
   ],
   "source": [
    "open('test.tsv', 'w').write(r.text)"
   ]
  },
  {
   "cell_type": "code",
   "execution_count": null,
   "metadata": {},
   "outputs": [],
   "source": [
    "tf_names_list = [i.name for i in sponge_obj.motifs if i.matrix_id in sponge_obj.matrix_ids]        "
   ]
  },
  {
   "cell_type": "code",
   "execution_count": null,
   "metadata": {},
   "outputs": [],
   "source": [
    "tf_humanised_names_list = [i if i not in sponge_obj.animal_to_human else sponge_obj.animal_to_human[i] for i in tf_names_list]"
   ]
  },
  {
   "cell_type": "code",
   "execution_count": null,
   "metadata": {},
   "outputs": [],
   "source": [
    "f = open('filtered_tfs.txt', 'w')\n",
    "for i in tf_humanised_names_list:\n",
    "    f.write(i + '\\n')\n",
    "f.close()"
   ]
  },
  {
   "cell_type": "code",
   "execution_count": null,
   "metadata": {},
   "outputs": [],
   "source": [
    "f = open('filtered_tfs_original.txt', 'w')\n",
    "for i in tf_names_list:\n",
    "    f.write(i + '\\n')\n",
    "f.close()"
   ]
  },
  {
   "cell_type": "code",
   "execution_count": null,
   "metadata": {},
   "outputs": [],
   "source": [
    "import pandas as pd"
   ]
  },
  {
   "cell_type": "code",
   "execution_count": null,
   "metadata": {},
   "outputs": [],
   "source": [
    "genes = pd.read_csv('hg38_genes_filtered.bed', sep='\\t', header=None)"
   ]
  },
  {
   "cell_type": "code",
   "execution_count": null,
   "metadata": {},
   "outputs": [
    {
     "data": {
      "text/html": [
       "<div>\n",
       "<style scoped>\n",
       "    .dataframe tbody tr th:only-of-type {\n",
       "        vertical-align: middle;\n",
       "    }\n",
       "\n",
       "    .dataframe tbody tr th {\n",
       "        vertical-align: top;\n",
       "    }\n",
       "\n",
       "    .dataframe thead th {\n",
       "        text-align: right;\n",
       "    }\n",
       "</style>\n",
       "<table border=\"1\" class=\"dataframe\">\n",
       "  <thead>\n",
       "    <tr style=\"text-align: right;\">\n",
       "      <th></th>\n",
       "      <th>0</th>\n",
       "      <th>1</th>\n",
       "      <th>2</th>\n",
       "      <th>3</th>\n",
       "      <th>4</th>\n",
       "      <th>5</th>\n",
       "    </tr>\n",
       "  </thead>\n",
       "  <tbody>\n",
       "    <tr>\n",
       "      <th>0</th>\n",
       "      <td>chr1</td>\n",
       "      <td>11118</td>\n",
       "      <td>11868</td>\n",
       "      <td>ENST00000456328.2_up_750_chr1_11119_f</td>\n",
       "      <td>0</td>\n",
       "      <td>+</td>\n",
       "    </tr>\n",
       "    <tr>\n",
       "      <th>1</th>\n",
       "      <td>chr1</td>\n",
       "      <td>11259</td>\n",
       "      <td>12009</td>\n",
       "      <td>ENST00000450305.2_up_750_chr1_11260_f</td>\n",
       "      <td>0</td>\n",
       "      <td>+</td>\n",
       "    </tr>\n",
       "    <tr>\n",
       "      <th>2</th>\n",
       "      <td>chr1</td>\n",
       "      <td>29570</td>\n",
       "      <td>30320</td>\n",
       "      <td>ENST00000488147.1_up_750_chr1_29571_r</td>\n",
       "      <td>0</td>\n",
       "      <td>-</td>\n",
       "    </tr>\n",
       "    <tr>\n",
       "      <th>3</th>\n",
       "      <td>chr1</td>\n",
       "      <td>17436</td>\n",
       "      <td>18186</td>\n",
       "      <td>ENST00000619216.1_up_750_chr1_17437_r</td>\n",
       "      <td>0</td>\n",
       "      <td>-</td>\n",
       "    </tr>\n",
       "    <tr>\n",
       "      <th>4</th>\n",
       "      <td>chr1</td>\n",
       "      <td>28803</td>\n",
       "      <td>29553</td>\n",
       "      <td>ENST00000473358.1_up_750_chr1_28804_f</td>\n",
       "      <td>0</td>\n",
       "      <td>+</td>\n",
       "    </tr>\n",
       "    <tr>\n",
       "      <th>...</th>\n",
       "      <td>...</td>\n",
       "      <td>...</td>\n",
       "      <td>...</td>\n",
       "      <td>...</td>\n",
       "      <td>...</td>\n",
       "      <td>...</td>\n",
       "    </tr>\n",
       "    <tr>\n",
       "      <th>116644</th>\n",
       "      <td>chr22</td>\n",
       "      <td>50783667</td>\n",
       "      <td>50784417</td>\n",
       "      <td>ENST00000690024.1_up_750_chr22_50783668_r</td>\n",
       "      <td>0</td>\n",
       "      <td>-</td>\n",
       "    </tr>\n",
       "    <tr>\n",
       "      <th>116645</th>\n",
       "      <td>chr22</td>\n",
       "      <td>50783594</td>\n",
       "      <td>50784344</td>\n",
       "      <td>ENST00000685352.1_up_750_chr22_50783595_r</td>\n",
       "      <td>0</td>\n",
       "      <td>-</td>\n",
       "    </tr>\n",
       "    <tr>\n",
       "      <th>116646</th>\n",
       "      <td>chr22</td>\n",
       "      <td>50783630</td>\n",
       "      <td>50784380</td>\n",
       "      <td>ENST00000395590.5_up_750_chr22_50783631_r</td>\n",
       "      <td>0</td>\n",
       "      <td>-</td>\n",
       "    </tr>\n",
       "    <tr>\n",
       "      <th>116647</th>\n",
       "      <td>chr22</td>\n",
       "      <td>50783015</td>\n",
       "      <td>50783765</td>\n",
       "      <td>ENST00000480246.2_up_750_chr22_50783016_f</td>\n",
       "      <td>0</td>\n",
       "      <td>+</td>\n",
       "    </tr>\n",
       "    <tr>\n",
       "      <th>116648</th>\n",
       "      <td>chr22</td>\n",
       "      <td>50797904</td>\n",
       "      <td>50798654</td>\n",
       "      <td>ENST00000427528.1_up_750_chr22_50797905_f</td>\n",
       "      <td>0</td>\n",
       "      <td>+</td>\n",
       "    </tr>\n",
       "  </tbody>\n",
       "</table>\n",
       "<p>116649 rows × 6 columns</p>\n",
       "</div>"
      ],
      "text/plain": [
       "            0         1         2                                          3  \\\n",
       "0        chr1     11118     11868      ENST00000456328.2_up_750_chr1_11119_f   \n",
       "1        chr1     11259     12009      ENST00000450305.2_up_750_chr1_11260_f   \n",
       "2        chr1     29570     30320      ENST00000488147.1_up_750_chr1_29571_r   \n",
       "3        chr1     17436     18186      ENST00000619216.1_up_750_chr1_17437_r   \n",
       "4        chr1     28803     29553      ENST00000473358.1_up_750_chr1_28804_f   \n",
       "...       ...       ...       ...                                        ...   \n",
       "116644  chr22  50783667  50784417  ENST00000690024.1_up_750_chr22_50783668_r   \n",
       "116645  chr22  50783594  50784344  ENST00000685352.1_up_750_chr22_50783595_r   \n",
       "116646  chr22  50783630  50784380  ENST00000395590.5_up_750_chr22_50783631_r   \n",
       "116647  chr22  50783015  50783765  ENST00000480246.2_up_750_chr22_50783016_f   \n",
       "116648  chr22  50797904  50798654  ENST00000427528.1_up_750_chr22_50797905_f   \n",
       "\n",
       "        4  5  \n",
       "0       0  +  \n",
       "1       0  +  \n",
       "2       0  -  \n",
       "3       0  -  \n",
       "4       0  +  \n",
       "...    .. ..  \n",
       "116644  0  -  \n",
       "116645  0  -  \n",
       "116646  0  -  \n",
       "116647  0  +  \n",
       "116648  0  +  \n",
       "\n",
       "[116649 rows x 6 columns]"
      ]
     },
     "execution_count": 3,
     "metadata": {},
     "output_type": "execute_result"
    }
   ],
   "source": [
    "genes"
   ]
  },
  {
   "cell_type": "code",
   "execution_count": null,
   "metadata": {},
   "outputs": [],
   "source": [
    "# genes[2] = genes[1] + 1000"
   ]
  },
  {
   "cell_type": "code",
   "execution_count": null,
   "metadata": {},
   "outputs": [],
   "source": [
    "# genes"
   ]
  },
  {
   "cell_type": "code",
   "execution_count": null,
   "metadata": {},
   "outputs": [],
   "source": [
    "# genes.to_csv('hg38_genes_filtered_promoters.bed', sep='\\t', header=None, index=None)"
   ]
  },
  {
   "cell_type": "code",
   "execution_count": null,
   "metadata": {},
   "outputs": [],
   "source": [
    "genes.loc[genes[5] == '+',2] += 250"
   ]
  },
  {
   "cell_type": "code",
   "execution_count": null,
   "metadata": {},
   "outputs": [],
   "source": [
    "genes.loc[genes[5] == '-',1] -= 250"
   ]
  },
  {
   "cell_type": "code",
   "execution_count": null,
   "metadata": {},
   "outputs": [],
   "source": [
    "genes.to_csv('hg38_genes_filtered_promoters_fixed.bed', sep='\\t', header=None, index=None)"
   ]
  },
  {
   "cell_type": "code",
   "execution_count": null,
   "metadata": {},
   "outputs": [],
   "source": [
    "str_mapping = pd.read_csv('string_mapping.tsv', sep='\\t')"
   ]
  },
  {
   "cell_type": "code",
   "execution_count": null,
   "metadata": {},
   "outputs": [
    {
     "data": {
      "text/html": [
       "<div>\n",
       "<style scoped>\n",
       "    .dataframe tbody tr th:only-of-type {\n",
       "        vertical-align: middle;\n",
       "    }\n",
       "\n",
       "    .dataframe tbody tr th {\n",
       "        vertical-align: top;\n",
       "    }\n",
       "\n",
       "    .dataframe thead th {\n",
       "        text-align: right;\n",
       "    }\n",
       "</style>\n",
       "<table border=\"1\" class=\"dataframe\">\n",
       "  <thead>\n",
       "    <tr style=\"text-align: right;\">\n",
       "      <th></th>\n",
       "      <th>#queryIndex</th>\n",
       "      <th>queryItem</th>\n",
       "      <th>stringId</th>\n",
       "      <th>preferredName</th>\n",
       "      <th>annotation</th>\n",
       "    </tr>\n",
       "  </thead>\n",
       "  <tbody>\n",
       "    <tr>\n",
       "      <th>0</th>\n",
       "      <td>1</td>\n",
       "      <td>RUNX1</td>\n",
       "      <td>9606.ENSP00000300305</td>\n",
       "      <td>RUNX1</td>\n",
       "      <td>Runt-related transcription factor 1; CBF binds...</td>\n",
       "    </tr>\n",
       "    <tr>\n",
       "      <th>1</th>\n",
       "      <td>2</td>\n",
       "      <td>ARNT</td>\n",
       "      <td>9606.ENSP00000351407</td>\n",
       "      <td>ARNT</td>\n",
       "      <td>Aryl hydrocarbon receptor nuclear translocator...</td>\n",
       "    </tr>\n",
       "    <tr>\n",
       "      <th>2</th>\n",
       "      <td>3</td>\n",
       "      <td>MECOM</td>\n",
       "      <td>9606.ENSP00000264674</td>\n",
       "      <td>MECOM</td>\n",
       "      <td>MDS1 and EVI1 complex locus protein EVI1; Func...</td>\n",
       "    </tr>\n",
       "    <tr>\n",
       "      <th>3</th>\n",
       "      <td>4</td>\n",
       "      <td>FOXF2</td>\n",
       "      <td>9606.ENSP00000259806</td>\n",
       "      <td>FOXF2</td>\n",
       "      <td>Forkhead box protein F2; Probable transcriptio...</td>\n",
       "    </tr>\n",
       "    <tr>\n",
       "      <th>4</th>\n",
       "      <td>5</td>\n",
       "      <td>FOXD1</td>\n",
       "      <td>9606.ENSP00000481581</td>\n",
       "      <td>FOXD1</td>\n",
       "      <td>Forkhead box protein D1; Transcription factor ...</td>\n",
       "    </tr>\n",
       "  </tbody>\n",
       "</table>\n",
       "</div>"
      ],
      "text/plain": [
       "   #queryIndex queryItem              stringId preferredName  \\\n",
       "0            1     RUNX1  9606.ENSP00000300305         RUNX1   \n",
       "1            2      ARNT  9606.ENSP00000351407          ARNT   \n",
       "2            3     MECOM  9606.ENSP00000264674         MECOM   \n",
       "3            4     FOXF2  9606.ENSP00000259806         FOXF2   \n",
       "4            5     FOXD1  9606.ENSP00000481581         FOXD1   \n",
       "\n",
       "                                          annotation  \n",
       "0  Runt-related transcription factor 1; CBF binds...  \n",
       "1  Aryl hydrocarbon receptor nuclear translocator...  \n",
       "2  MDS1 and EVI1 complex locus protein EVI1; Func...  \n",
       "3  Forkhead box protein F2; Probable transcriptio...  \n",
       "4  Forkhead box protein D1; Transcription factor ...  "
      ]
     },
     "execution_count": 22,
     "metadata": {},
     "output_type": "execute_result"
    }
   ],
   "source": [
    "str_mapping.head()"
   ]
  },
  {
   "cell_type": "code",
   "execution_count": null,
   "metadata": {},
   "outputs": [
    {
     "data": {
      "text/html": [
       "<div>\n",
       "<style scoped>\n",
       "    .dataframe tbody tr th:only-of-type {\n",
       "        vertical-align: middle;\n",
       "    }\n",
       "\n",
       "    .dataframe tbody tr th {\n",
       "        vertical-align: top;\n",
       "    }\n",
       "\n",
       "    .dataframe thead th {\n",
       "        text-align: right;\n",
       "    }\n",
       "</style>\n",
       "<table border=\"1\" class=\"dataframe\">\n",
       "  <thead>\n",
       "    <tr style=\"text-align: right;\">\n",
       "      <th></th>\n",
       "      <th>#queryIndex</th>\n",
       "      <th>queryItem</th>\n",
       "      <th>stringId</th>\n",
       "      <th>preferredName</th>\n",
       "      <th>annotation</th>\n",
       "    </tr>\n",
       "  </thead>\n",
       "  <tbody>\n",
       "    <tr>\n",
       "      <th>13</th>\n",
       "      <td>14</td>\n",
       "      <td>SRY</td>\n",
       "      <td>9606.ENSP00000244745</td>\n",
       "      <td>SOX4</td>\n",
       "      <td>Transcription factor SOX-4; Transcriptional ac...</td>\n",
       "    </tr>\n",
       "    <tr>\n",
       "      <th>122</th>\n",
       "      <td>124</td>\n",
       "      <td>TBXT</td>\n",
       "      <td>9606.ENSP00000296946</td>\n",
       "      <td>T</td>\n",
       "      <td>T-box transcription factor t; Brachyury protei...</td>\n",
       "    </tr>\n",
       "    <tr>\n",
       "      <th>649</th>\n",
       "      <td>652</td>\n",
       "      <td>RFX1</td>\n",
       "      <td>9606.ENSP00000254325</td>\n",
       "      <td>HGNC:9982</td>\n",
       "      <td>MHC class II regulatory factor RFX1; Regulator...</td>\n",
       "    </tr>\n",
       "  </tbody>\n",
       "</table>\n",
       "</div>"
      ],
      "text/plain": [
       "     #queryIndex queryItem              stringId preferredName  \\\n",
       "13            14       SRY  9606.ENSP00000244745          SOX4   \n",
       "122          124      TBXT  9606.ENSP00000296946             T   \n",
       "649          652      RFX1  9606.ENSP00000254325     HGNC:9982   \n",
       "\n",
       "                                            annotation  \n",
       "13   Transcription factor SOX-4; Transcriptional ac...  \n",
       "122  T-box transcription factor t; Brachyury protei...  \n",
       "649  MHC class II regulatory factor RFX1; Regulator...  "
      ]
     },
     "execution_count": 23,
     "metadata": {},
     "output_type": "execute_result"
    }
   ],
   "source": [
    "str_mapping[str_mapping['queryItem'] != str_mapping['preferredName']]"
   ]
  },
  {
   "cell_type": "code",
   "execution_count": null,
   "metadata": {},
   "outputs": [
    {
     "data": {
      "text/plain": [
       "705"
      ]
     },
     "execution_count": 26,
     "metadata": {},
     "output_type": "execute_result"
    }
   ],
   "source": [
    "len(str_mapping)"
   ]
  },
  {
   "cell_type": "code",
   "execution_count": null,
   "metadata": {},
   "outputs": [
    {
     "data": {
      "text/plain": [
       "['EWSR1-FLI1', 'TGIF2LY']"
      ]
     },
     "execution_count": 32,
     "metadata": {},
     "output_type": "execute_result"
    }
   ],
   "source": [
    "[i for i in tf_humanised_names_list if i not in str_mapping['queryItem'].values]"
   ]
  },
  {
   "cell_type": "code",
   "execution_count": null,
   "metadata": {},
   "outputs": [],
   "source": [
    "str_rename = {i: j for i,j in zip(str_mapping['preferredName'], str_mapping['queryItem']) if i != j}"
   ]
  },
  {
   "cell_type": "code",
   "execution_count": null,
   "metadata": {},
   "outputs": [
    {
     "data": {
      "text/plain": [
       "{'SOX4': 'SRY', 'T': 'TBXT', 'HGNC:9982': 'RFX1'}"
      ]
     },
     "execution_count": 25,
     "metadata": {},
     "output_type": "execute_result"
    }
   ],
   "source": [
    "str_rename"
   ]
  },
  {
   "cell_type": "code",
   "execution_count": null,
   "metadata": {},
   "outputs": [],
   "source": [
    "str_network = pd.read_csv('string_interactions_short.tsv', sep='\\t')"
   ]
  },
  {
   "cell_type": "code",
   "execution_count": null,
   "metadata": {},
   "outputs": [
    {
     "data": {
      "text/html": [
       "<div>\n",
       "<style scoped>\n",
       "    .dataframe tbody tr th:only-of-type {\n",
       "        vertical-align: middle;\n",
       "    }\n",
       "\n",
       "    .dataframe tbody tr th {\n",
       "        vertical-align: top;\n",
       "    }\n",
       "\n",
       "    .dataframe thead th {\n",
       "        text-align: right;\n",
       "    }\n",
       "</style>\n",
       "<table border=\"1\" class=\"dataframe\">\n",
       "  <thead>\n",
       "    <tr style=\"text-align: right;\">\n",
       "      <th></th>\n",
       "      <th>#node1</th>\n",
       "      <th>node2</th>\n",
       "      <th>node1_string_id</th>\n",
       "      <th>node2_string_id</th>\n",
       "      <th>neighborhood_on_chromosome</th>\n",
       "      <th>gene_fusion</th>\n",
       "      <th>phylogenetic_cooccurrence</th>\n",
       "      <th>homology</th>\n",
       "      <th>coexpression</th>\n",
       "      <th>experimentally_determined_interaction</th>\n",
       "      <th>database_annotated</th>\n",
       "      <th>automated_textmining</th>\n",
       "      <th>combined_score</th>\n",
       "    </tr>\n",
       "  </thead>\n",
       "  <tbody>\n",
       "    <tr>\n",
       "      <th>0</th>\n",
       "      <td>ALX1</td>\n",
       "      <td>TBX15</td>\n",
       "      <td>9606.ENSP00000315417</td>\n",
       "      <td>9606.ENSP00000207157</td>\n",
       "      <td>0</td>\n",
       "      <td>0.0</td>\n",
       "      <td>0</td>\n",
       "      <td>0.0</td>\n",
       "      <td>0.000</td>\n",
       "      <td>0.147</td>\n",
       "      <td>0.0</td>\n",
       "      <td>0.462</td>\n",
       "      <td>0.521</td>\n",
       "    </tr>\n",
       "    <tr>\n",
       "      <th>1</th>\n",
       "      <td>ALX1</td>\n",
       "      <td>SIX1</td>\n",
       "      <td>9606.ENSP00000315417</td>\n",
       "      <td>9606.ENSP00000247182</td>\n",
       "      <td>0</td>\n",
       "      <td>0.0</td>\n",
       "      <td>0</td>\n",
       "      <td>0.0</td>\n",
       "      <td>0.089</td>\n",
       "      <td>0.000</td>\n",
       "      <td>0.0</td>\n",
       "      <td>0.391</td>\n",
       "      <td>0.422</td>\n",
       "    </tr>\n",
       "    <tr>\n",
       "      <th>2</th>\n",
       "      <td>ALX1</td>\n",
       "      <td>TBX3</td>\n",
       "      <td>9606.ENSP00000315417</td>\n",
       "      <td>9606.ENSP00000257566</td>\n",
       "      <td>0</td>\n",
       "      <td>0.0</td>\n",
       "      <td>0</td>\n",
       "      <td>0.0</td>\n",
       "      <td>0.076</td>\n",
       "      <td>0.100</td>\n",
       "      <td>0.0</td>\n",
       "      <td>0.340</td>\n",
       "      <td>0.403</td>\n",
       "    </tr>\n",
       "    <tr>\n",
       "      <th>3</th>\n",
       "      <td>ALX1</td>\n",
       "      <td>TFAP2A</td>\n",
       "      <td>9606.ENSP00000315417</td>\n",
       "      <td>9606.ENSP00000368924</td>\n",
       "      <td>0</td>\n",
       "      <td>0.0</td>\n",
       "      <td>0</td>\n",
       "      <td>0.0</td>\n",
       "      <td>0.119</td>\n",
       "      <td>0.058</td>\n",
       "      <td>0.0</td>\n",
       "      <td>0.343</td>\n",
       "      <td>0.407</td>\n",
       "    </tr>\n",
       "    <tr>\n",
       "      <th>4</th>\n",
       "      <td>ALX1</td>\n",
       "      <td>ESR2</td>\n",
       "      <td>9606.ENSP00000315417</td>\n",
       "      <td>9606.ENSP00000343925</td>\n",
       "      <td>0</td>\n",
       "      <td>0.0</td>\n",
       "      <td>0</td>\n",
       "      <td>0.0</td>\n",
       "      <td>0.000</td>\n",
       "      <td>0.058</td>\n",
       "      <td>0.0</td>\n",
       "      <td>0.403</td>\n",
       "      <td>0.413</td>\n",
       "    </tr>\n",
       "  </tbody>\n",
       "</table>\n",
       "</div>"
      ],
      "text/plain": [
       "  #node1   node2       node1_string_id       node2_string_id  \\\n",
       "0   ALX1   TBX15  9606.ENSP00000315417  9606.ENSP00000207157   \n",
       "1   ALX1    SIX1  9606.ENSP00000315417  9606.ENSP00000247182   \n",
       "2   ALX1    TBX3  9606.ENSP00000315417  9606.ENSP00000257566   \n",
       "3   ALX1  TFAP2A  9606.ENSP00000315417  9606.ENSP00000368924   \n",
       "4   ALX1    ESR2  9606.ENSP00000315417  9606.ENSP00000343925   \n",
       "\n",
       "   neighborhood_on_chromosome  gene_fusion  phylogenetic_cooccurrence  \\\n",
       "0                           0          0.0                          0   \n",
       "1                           0          0.0                          0   \n",
       "2                           0          0.0                          0   \n",
       "3                           0          0.0                          0   \n",
       "4                           0          0.0                          0   \n",
       "\n",
       "   homology  coexpression  experimentally_determined_interaction  \\\n",
       "0       0.0         0.000                                  0.147   \n",
       "1       0.0         0.089                                  0.000   \n",
       "2       0.0         0.076                                  0.100   \n",
       "3       0.0         0.119                                  0.058   \n",
       "4       0.0         0.000                                  0.058   \n",
       "\n",
       "   database_annotated  automated_textmining  combined_score  \n",
       "0                 0.0                 0.462           0.521  \n",
       "1                 0.0                 0.391           0.422  \n",
       "2                 0.0                 0.340           0.403  \n",
       "3                 0.0                 0.343           0.407  \n",
       "4                 0.0                 0.403           0.413  "
      ]
     },
     "execution_count": 34,
     "metadata": {},
     "output_type": "execute_result"
    }
   ],
   "source": [
    "str_network.head()"
   ]
  },
  {
   "cell_type": "code",
   "execution_count": null,
   "metadata": {},
   "outputs": [],
   "source": [
    "str_network['#node1'].replace(str_rename, inplace=True)"
   ]
  },
  {
   "cell_type": "code",
   "execution_count": null,
   "metadata": {},
   "outputs": [],
   "source": [
    "str_network['node2'].replace(str_rename, inplace=True)"
   ]
  },
  {
   "cell_type": "code",
   "execution_count": null,
   "metadata": {},
   "outputs": [],
   "source": [
    "mapping = pd.DataFrame()\n",
    "for chr in ([str(i) for i in range(1,23)] + ['M', 'X', 'Y']):\n",
    "    temp = pd.read_csv('mappings/chr{}_mapping.tsv'.format(chr), sep='\\t')\n",
    "    mapping = pd.concat((mapping, temp))"
   ]
  },
  {
   "cell_type": "code",
   "execution_count": null,
   "metadata": {},
   "outputs": [
    {
     "data": {
      "text/plain": [
       "(97445065, 7)"
      ]
     },
     "execution_count": 9,
     "metadata": {},
     "output_type": "execute_result"
    }
   ],
   "source": [
    "mapping.shape"
   ]
  },
  {
   "cell_type": "code",
   "execution_count": null,
   "metadata": {},
   "outputs": [
    {
     "data": {
      "text/html": [
       "<div>\n",
       "<style scoped>\n",
       "    .dataframe tbody tr th:only-of-type {\n",
       "        vertical-align: middle;\n",
       "    }\n",
       "\n",
       "    .dataframe tbody tr th {\n",
       "        vertical-align: top;\n",
       "    }\n",
       "\n",
       "    .dataframe thead th {\n",
       "        text-align: right;\n",
       "    }\n",
       "</style>\n",
       "<table border=\"1\" class=\"dataframe\">\n",
       "  <thead>\n",
       "    <tr style=\"text-align: right;\">\n",
       "      <th></th>\n",
       "      <th>Chromosome</th>\n",
       "      <th>Start</th>\n",
       "      <th>End</th>\n",
       "      <th>Matrix ID</th>\n",
       "      <th>Score</th>\n",
       "      <th>TF Name</th>\n",
       "      <th>Transcript ID</th>\n",
       "    </tr>\n",
       "  </thead>\n",
       "  <tbody>\n",
       "    <tr>\n",
       "      <th>0</th>\n",
       "      <td>chr1</td>\n",
       "      <td>11120</td>\n",
       "      <td>11138</td>\n",
       "      <td>MA1731.1</td>\n",
       "      <td>430</td>\n",
       "      <td>ZNF768</td>\n",
       "      <td>ENST00000456328.2</td>\n",
       "    </tr>\n",
       "    <tr>\n",
       "      <th>1</th>\n",
       "      <td>chr1</td>\n",
       "      <td>11133</td>\n",
       "      <td>11145</td>\n",
       "      <td>MA0684.2</td>\n",
       "      <td>413</td>\n",
       "      <td>RUNX3</td>\n",
       "      <td>ENST00000456328.2</td>\n",
       "    </tr>\n",
       "    <tr>\n",
       "      <th>2</th>\n",
       "      <td>chr1</td>\n",
       "      <td>11163</td>\n",
       "      <td>11182</td>\n",
       "      <td>MA0139.1</td>\n",
       "      <td>406</td>\n",
       "      <td>CTCF</td>\n",
       "      <td>ENST00000456328.2</td>\n",
       "    </tr>\n",
       "    <tr>\n",
       "      <th>3</th>\n",
       "      <td>chr1</td>\n",
       "      <td>11216</td>\n",
       "      <td>11231</td>\n",
       "      <td>MA1982.1</td>\n",
       "      <td>423</td>\n",
       "      <td>ZNF574</td>\n",
       "      <td>ENST00000456328.2</td>\n",
       "    </tr>\n",
       "    <tr>\n",
       "      <th>4</th>\n",
       "      <td>chr1</td>\n",
       "      <td>11218</td>\n",
       "      <td>11230</td>\n",
       "      <td>MA1102.2</td>\n",
       "      <td>427</td>\n",
       "      <td>CTCFL</td>\n",
       "      <td>ENST00000456328.2</td>\n",
       "    </tr>\n",
       "  </tbody>\n",
       "</table>\n",
       "</div>"
      ],
      "text/plain": [
       "  Chromosome  Start    End Matrix ID  Score TF Name      Transcript ID\n",
       "0       chr1  11120  11138  MA1731.1    430  ZNF768  ENST00000456328.2\n",
       "1       chr1  11133  11145  MA0684.2    413   RUNX3  ENST00000456328.2\n",
       "2       chr1  11163  11182  MA0139.1    406    CTCF  ENST00000456328.2\n",
       "3       chr1  11216  11231  MA1982.1    423  ZNF574  ENST00000456328.2\n",
       "4       chr1  11218  11230  MA1102.2    427   CTCFL  ENST00000456328.2"
      ]
     },
     "execution_count": 10,
     "metadata": {},
     "output_type": "execute_result"
    }
   ],
   "source": [
    "mapping.head()"
   ]
  },
  {
   "cell_type": "code",
   "execution_count": null,
   "metadata": {},
   "outputs": [],
   "source": [
    "mapping['Transcript ID'] = mapping['Transcript ID'].apply(lambda x: x.split('.')[0])"
   ]
  },
  {
   "cell_type": "code",
   "execution_count": null,
   "metadata": {},
   "outputs": [
    {
     "data": {
      "text/html": [
       "<div>\n",
       "<style scoped>\n",
       "    .dataframe tbody tr th:only-of-type {\n",
       "        vertical-align: middle;\n",
       "    }\n",
       "\n",
       "    .dataframe tbody tr th {\n",
       "        vertical-align: top;\n",
       "    }\n",
       "\n",
       "    .dataframe thead th {\n",
       "        text-align: right;\n",
       "    }\n",
       "</style>\n",
       "<table border=\"1\" class=\"dataframe\">\n",
       "  <thead>\n",
       "    <tr style=\"text-align: right;\">\n",
       "      <th></th>\n",
       "      <th>Chromosome</th>\n",
       "      <th>Start</th>\n",
       "      <th>End</th>\n",
       "      <th>Matrix ID</th>\n",
       "      <th>Score</th>\n",
       "      <th>TF Name</th>\n",
       "      <th>Transcript ID</th>\n",
       "    </tr>\n",
       "  </thead>\n",
       "  <tbody>\n",
       "    <tr>\n",
       "      <th>0</th>\n",
       "      <td>chr1</td>\n",
       "      <td>11120</td>\n",
       "      <td>11138</td>\n",
       "      <td>MA1731.1</td>\n",
       "      <td>430</td>\n",
       "      <td>ZNF768</td>\n",
       "      <td>ENST00000456328</td>\n",
       "    </tr>\n",
       "    <tr>\n",
       "      <th>1</th>\n",
       "      <td>chr1</td>\n",
       "      <td>11133</td>\n",
       "      <td>11145</td>\n",
       "      <td>MA0684.2</td>\n",
       "      <td>413</td>\n",
       "      <td>RUNX3</td>\n",
       "      <td>ENST00000456328</td>\n",
       "    </tr>\n",
       "    <tr>\n",
       "      <th>2</th>\n",
       "      <td>chr1</td>\n",
       "      <td>11163</td>\n",
       "      <td>11182</td>\n",
       "      <td>MA0139.1</td>\n",
       "      <td>406</td>\n",
       "      <td>CTCF</td>\n",
       "      <td>ENST00000456328</td>\n",
       "    </tr>\n",
       "    <tr>\n",
       "      <th>3</th>\n",
       "      <td>chr1</td>\n",
       "      <td>11216</td>\n",
       "      <td>11231</td>\n",
       "      <td>MA1982.1</td>\n",
       "      <td>423</td>\n",
       "      <td>ZNF574</td>\n",
       "      <td>ENST00000456328</td>\n",
       "    </tr>\n",
       "    <tr>\n",
       "      <th>4</th>\n",
       "      <td>chr1</td>\n",
       "      <td>11218</td>\n",
       "      <td>11230</td>\n",
       "      <td>MA1102.2</td>\n",
       "      <td>427</td>\n",
       "      <td>CTCFL</td>\n",
       "      <td>ENST00000456328</td>\n",
       "    </tr>\n",
       "  </tbody>\n",
       "</table>\n",
       "</div>"
      ],
      "text/plain": [
       "  Chromosome  Start    End Matrix ID  Score TF Name    Transcript ID\n",
       "0       chr1  11120  11138  MA1731.1    430  ZNF768  ENST00000456328\n",
       "1       chr1  11133  11145  MA0684.2    413   RUNX3  ENST00000456328\n",
       "2       chr1  11163  11182  MA0139.1    406    CTCF  ENST00000456328\n",
       "3       chr1  11216  11231  MA1982.1    423  ZNF574  ENST00000456328\n",
       "4       chr1  11218  11230  MA1102.2    427   CTCFL  ENST00000456328"
      ]
     },
     "execution_count": 12,
     "metadata": {},
     "output_type": "execute_result"
    }
   ],
   "source": [
    "mapping.head()"
   ]
  },
  {
   "cell_type": "code",
   "execution_count": null,
   "metadata": {},
   "outputs": [],
   "source": [
    "annotations = pd.read_csv('gencode_annotations_filtered.tsv', sep='\\t')"
   ]
  },
  {
   "cell_type": "code",
   "execution_count": null,
   "metadata": {},
   "outputs": [
    {
     "data": {
      "text/html": [
       "<div>\n",
       "<style scoped>\n",
       "    .dataframe tbody tr th:only-of-type {\n",
       "        vertical-align: middle;\n",
       "    }\n",
       "\n",
       "    .dataframe tbody tr th {\n",
       "        vertical-align: top;\n",
       "    }\n",
       "\n",
       "    .dataframe thead th {\n",
       "        text-align: right;\n",
       "    }\n",
       "</style>\n",
       "<table border=\"1\" class=\"dataframe\">\n",
       "  <thead>\n",
       "    <tr style=\"text-align: right;\">\n",
       "      <th></th>\n",
       "      <th>Gene stable ID</th>\n",
       "      <th>Transcript stable ID</th>\n",
       "      <th>GENCODE basic annotation</th>\n",
       "      <th>Transcript support level (TSL)</th>\n",
       "      <th>Ensembl Canonical</th>\n",
       "      <th>Gene name</th>\n",
       "      <th>Gene type</th>\n",
       "    </tr>\n",
       "  </thead>\n",
       "  <tbody>\n",
       "    <tr>\n",
       "      <th>0</th>\n",
       "      <td>ENSG00000160072</td>\n",
       "      <td>ENST00000673477</td>\n",
       "      <td>GENCODE basic</td>\n",
       "      <td>NaN</td>\n",
       "      <td>1.0</td>\n",
       "      <td>ATAD3B</td>\n",
       "      <td>protein_coding</td>\n",
       "    </tr>\n",
       "    <tr>\n",
       "      <th>1</th>\n",
       "      <td>ENSG00000160072</td>\n",
       "      <td>ENST00000308647</td>\n",
       "      <td>GENCODE basic</td>\n",
       "      <td>tsl1 (assigned to previous version 7)</td>\n",
       "      <td>NaN</td>\n",
       "      <td>ATAD3B</td>\n",
       "      <td>protein_coding</td>\n",
       "    </tr>\n",
       "    <tr>\n",
       "      <th>2</th>\n",
       "      <td>ENSG00000279928</td>\n",
       "      <td>ENST00000624431</td>\n",
       "      <td>GENCODE basic</td>\n",
       "      <td>tslNA</td>\n",
       "      <td>1.0</td>\n",
       "      <td>DDX11L17</td>\n",
       "      <td>unprocessed_pseudogene</td>\n",
       "    </tr>\n",
       "    <tr>\n",
       "      <th>3</th>\n",
       "      <td>ENSG00000228037</td>\n",
       "      <td>ENST00000424215</td>\n",
       "      <td>GENCODE basic</td>\n",
       "      <td>tsl5</td>\n",
       "      <td>1.0</td>\n",
       "      <td>NaN</td>\n",
       "      <td>lncRNA</td>\n",
       "    </tr>\n",
       "    <tr>\n",
       "      <th>4</th>\n",
       "      <td>ENSG00000142611</td>\n",
       "      <td>ENST00000511072</td>\n",
       "      <td>GENCODE basic</td>\n",
       "      <td>tsl5</td>\n",
       "      <td>NaN</td>\n",
       "      <td>PRDM16</td>\n",
       "      <td>protein_coding</td>\n",
       "    </tr>\n",
       "  </tbody>\n",
       "</table>\n",
       "</div>"
      ],
      "text/plain": [
       "    Gene stable ID Transcript stable ID GENCODE basic annotation  \\\n",
       "0  ENSG00000160072      ENST00000673477            GENCODE basic   \n",
       "1  ENSG00000160072      ENST00000308647            GENCODE basic   \n",
       "2  ENSG00000279928      ENST00000624431            GENCODE basic   \n",
       "3  ENSG00000228037      ENST00000424215            GENCODE basic   \n",
       "4  ENSG00000142611      ENST00000511072            GENCODE basic   \n",
       "\n",
       "          Transcript support level (TSL)  Ensembl Canonical Gene name  \\\n",
       "0                                    NaN                1.0    ATAD3B   \n",
       "1  tsl1 (assigned to previous version 7)                NaN    ATAD3B   \n",
       "2                                  tslNA                1.0  DDX11L17   \n",
       "3                                   tsl5                1.0       NaN   \n",
       "4                                   tsl5                NaN    PRDM16   \n",
       "\n",
       "                Gene type  \n",
       "0          protein_coding  \n",
       "1          protein_coding  \n",
       "2  unprocessed_pseudogene  \n",
       "3                  lncRNA  \n",
       "4          protein_coding  "
      ]
     },
     "execution_count": 14,
     "metadata": {},
     "output_type": "execute_result"
    }
   ],
   "source": [
    "annotations.head()"
   ]
  },
  {
   "cell_type": "code",
   "execution_count": null,
   "metadata": {},
   "outputs": [],
   "source": [
    "tf_df_full = mapping.join(other=annotations.set_index('Transcript stable ID'), on='Transcript ID')"
   ]
  },
  {
   "cell_type": "code",
   "execution_count": null,
   "metadata": {},
   "outputs": [
    {
     "data": {
      "text/html": [
       "<div>\n",
       "<style scoped>\n",
       "    .dataframe tbody tr th:only-of-type {\n",
       "        vertical-align: middle;\n",
       "    }\n",
       "\n",
       "    .dataframe tbody tr th {\n",
       "        vertical-align: top;\n",
       "    }\n",
       "\n",
       "    .dataframe thead th {\n",
       "        text-align: right;\n",
       "    }\n",
       "</style>\n",
       "<table border=\"1\" class=\"dataframe\">\n",
       "  <thead>\n",
       "    <tr style=\"text-align: right;\">\n",
       "      <th></th>\n",
       "      <th>Chromosome</th>\n",
       "      <th>Start</th>\n",
       "      <th>End</th>\n",
       "      <th>Matrix ID</th>\n",
       "      <th>Score</th>\n",
       "      <th>TF Name</th>\n",
       "      <th>Transcript ID</th>\n",
       "      <th>Gene stable ID</th>\n",
       "      <th>GENCODE basic annotation</th>\n",
       "      <th>Transcript support level (TSL)</th>\n",
       "      <th>Ensembl Canonical</th>\n",
       "      <th>Gene name</th>\n",
       "      <th>Gene type</th>\n",
       "    </tr>\n",
       "  </thead>\n",
       "  <tbody>\n",
       "    <tr>\n",
       "      <th>0</th>\n",
       "      <td>chr1</td>\n",
       "      <td>11120</td>\n",
       "      <td>11138</td>\n",
       "      <td>MA1731.1</td>\n",
       "      <td>430</td>\n",
       "      <td>ZNF768</td>\n",
       "      <td>ENST00000456328</td>\n",
       "      <td>ENSG00000290825</td>\n",
       "      <td>GENCODE basic</td>\n",
       "      <td>tsl1</td>\n",
       "      <td>1.0</td>\n",
       "      <td>DDX11L2</td>\n",
       "      <td>lncRNA</td>\n",
       "    </tr>\n",
       "    <tr>\n",
       "      <th>1</th>\n",
       "      <td>chr1</td>\n",
       "      <td>11133</td>\n",
       "      <td>11145</td>\n",
       "      <td>MA0684.2</td>\n",
       "      <td>413</td>\n",
       "      <td>RUNX3</td>\n",
       "      <td>ENST00000456328</td>\n",
       "      <td>ENSG00000290825</td>\n",
       "      <td>GENCODE basic</td>\n",
       "      <td>tsl1</td>\n",
       "      <td>1.0</td>\n",
       "      <td>DDX11L2</td>\n",
       "      <td>lncRNA</td>\n",
       "    </tr>\n",
       "    <tr>\n",
       "      <th>2</th>\n",
       "      <td>chr1</td>\n",
       "      <td>11163</td>\n",
       "      <td>11182</td>\n",
       "      <td>MA0139.1</td>\n",
       "      <td>406</td>\n",
       "      <td>CTCF</td>\n",
       "      <td>ENST00000456328</td>\n",
       "      <td>ENSG00000290825</td>\n",
       "      <td>GENCODE basic</td>\n",
       "      <td>tsl1</td>\n",
       "      <td>1.0</td>\n",
       "      <td>DDX11L2</td>\n",
       "      <td>lncRNA</td>\n",
       "    </tr>\n",
       "    <tr>\n",
       "      <th>3</th>\n",
       "      <td>chr1</td>\n",
       "      <td>11216</td>\n",
       "      <td>11231</td>\n",
       "      <td>MA1982.1</td>\n",
       "      <td>423</td>\n",
       "      <td>ZNF574</td>\n",
       "      <td>ENST00000456328</td>\n",
       "      <td>ENSG00000290825</td>\n",
       "      <td>GENCODE basic</td>\n",
       "      <td>tsl1</td>\n",
       "      <td>1.0</td>\n",
       "      <td>DDX11L2</td>\n",
       "      <td>lncRNA</td>\n",
       "    </tr>\n",
       "    <tr>\n",
       "      <th>4</th>\n",
       "      <td>chr1</td>\n",
       "      <td>11218</td>\n",
       "      <td>11230</td>\n",
       "      <td>MA1102.2</td>\n",
       "      <td>427</td>\n",
       "      <td>CTCFL</td>\n",
       "      <td>ENST00000456328</td>\n",
       "      <td>ENSG00000290825</td>\n",
       "      <td>GENCODE basic</td>\n",
       "      <td>tsl1</td>\n",
       "      <td>1.0</td>\n",
       "      <td>DDX11L2</td>\n",
       "      <td>lncRNA</td>\n",
       "    </tr>\n",
       "  </tbody>\n",
       "</table>\n",
       "</div>"
      ],
      "text/plain": [
       "  Chromosome  Start    End Matrix ID  Score TF Name    Transcript ID  \\\n",
       "0       chr1  11120  11138  MA1731.1    430  ZNF768  ENST00000456328   \n",
       "1       chr1  11133  11145  MA0684.2    413   RUNX3  ENST00000456328   \n",
       "2       chr1  11163  11182  MA0139.1    406    CTCF  ENST00000456328   \n",
       "3       chr1  11216  11231  MA1982.1    423  ZNF574  ENST00000456328   \n",
       "4       chr1  11218  11230  MA1102.2    427   CTCFL  ENST00000456328   \n",
       "\n",
       "    Gene stable ID GENCODE basic annotation Transcript support level (TSL)  \\\n",
       "0  ENSG00000290825            GENCODE basic                           tsl1   \n",
       "1  ENSG00000290825            GENCODE basic                           tsl1   \n",
       "2  ENSG00000290825            GENCODE basic                           tsl1   \n",
       "3  ENSG00000290825            GENCODE basic                           tsl1   \n",
       "4  ENSG00000290825            GENCODE basic                           tsl1   \n",
       "\n",
       "   Ensembl Canonical Gene name Gene type  \n",
       "0                1.0   DDX11L2    lncRNA  \n",
       "1                1.0   DDX11L2    lncRNA  \n",
       "2                1.0   DDX11L2    lncRNA  \n",
       "3                1.0   DDX11L2    lncRNA  \n",
       "4                1.0   DDX11L2    lncRNA  "
      ]
     },
     "execution_count": 16,
     "metadata": {},
     "output_type": "execute_result"
    }
   ],
   "source": [
    "tf_df_full.head()"
   ]
  },
  {
   "cell_type": "code",
   "execution_count": null,
   "metadata": {},
   "outputs": [],
   "source": [
    "tf_df_full.drop(columns=['Start', 'End', 'Matrix ID', 'GENCODE basic annotation'], inplace=True)"
   ]
  },
  {
   "cell_type": "code",
   "execution_count": null,
   "metadata": {},
   "outputs": [
    {
     "data": {
      "text/html": [
       "<div>\n",
       "<style scoped>\n",
       "    .dataframe tbody tr th:only-of-type {\n",
       "        vertical-align: middle;\n",
       "    }\n",
       "\n",
       "    .dataframe tbody tr th {\n",
       "        vertical-align: top;\n",
       "    }\n",
       "\n",
       "    .dataframe thead th {\n",
       "        text-align: right;\n",
       "    }\n",
       "</style>\n",
       "<table border=\"1\" class=\"dataframe\">\n",
       "  <thead>\n",
       "    <tr style=\"text-align: right;\">\n",
       "      <th></th>\n",
       "      <th>Chromosome</th>\n",
       "      <th>Score</th>\n",
       "      <th>TF Name</th>\n",
       "      <th>Transcript ID</th>\n",
       "      <th>Gene stable ID</th>\n",
       "      <th>Transcript support level (TSL)</th>\n",
       "      <th>Ensembl Canonical</th>\n",
       "      <th>Gene name</th>\n",
       "      <th>Gene type</th>\n",
       "    </tr>\n",
       "  </thead>\n",
       "  <tbody>\n",
       "    <tr>\n",
       "      <th>0</th>\n",
       "      <td>chr1</td>\n",
       "      <td>430</td>\n",
       "      <td>ZNF768</td>\n",
       "      <td>ENST00000456328</td>\n",
       "      <td>ENSG00000290825</td>\n",
       "      <td>tsl1</td>\n",
       "      <td>1.0</td>\n",
       "      <td>DDX11L2</td>\n",
       "      <td>lncRNA</td>\n",
       "    </tr>\n",
       "    <tr>\n",
       "      <th>1</th>\n",
       "      <td>chr1</td>\n",
       "      <td>413</td>\n",
       "      <td>RUNX3</td>\n",
       "      <td>ENST00000456328</td>\n",
       "      <td>ENSG00000290825</td>\n",
       "      <td>tsl1</td>\n",
       "      <td>1.0</td>\n",
       "      <td>DDX11L2</td>\n",
       "      <td>lncRNA</td>\n",
       "    </tr>\n",
       "    <tr>\n",
       "      <th>2</th>\n",
       "      <td>chr1</td>\n",
       "      <td>406</td>\n",
       "      <td>CTCF</td>\n",
       "      <td>ENST00000456328</td>\n",
       "      <td>ENSG00000290825</td>\n",
       "      <td>tsl1</td>\n",
       "      <td>1.0</td>\n",
       "      <td>DDX11L2</td>\n",
       "      <td>lncRNA</td>\n",
       "    </tr>\n",
       "    <tr>\n",
       "      <th>3</th>\n",
       "      <td>chr1</td>\n",
       "      <td>423</td>\n",
       "      <td>ZNF574</td>\n",
       "      <td>ENST00000456328</td>\n",
       "      <td>ENSG00000290825</td>\n",
       "      <td>tsl1</td>\n",
       "      <td>1.0</td>\n",
       "      <td>DDX11L2</td>\n",
       "      <td>lncRNA</td>\n",
       "    </tr>\n",
       "    <tr>\n",
       "      <th>4</th>\n",
       "      <td>chr1</td>\n",
       "      <td>427</td>\n",
       "      <td>CTCFL</td>\n",
       "      <td>ENST00000456328</td>\n",
       "      <td>ENSG00000290825</td>\n",
       "      <td>tsl1</td>\n",
       "      <td>1.0</td>\n",
       "      <td>DDX11L2</td>\n",
       "      <td>lncRNA</td>\n",
       "    </tr>\n",
       "  </tbody>\n",
       "</table>\n",
       "</div>"
      ],
      "text/plain": [
       "  Chromosome  Score TF Name    Transcript ID   Gene stable ID  \\\n",
       "0       chr1    430  ZNF768  ENST00000456328  ENSG00000290825   \n",
       "1       chr1    413   RUNX3  ENST00000456328  ENSG00000290825   \n",
       "2       chr1    406    CTCF  ENST00000456328  ENSG00000290825   \n",
       "3       chr1    423  ZNF574  ENST00000456328  ENSG00000290825   \n",
       "4       chr1    427   CTCFL  ENST00000456328  ENSG00000290825   \n",
       "\n",
       "  Transcript support level (TSL)  Ensembl Canonical Gene name Gene type  \n",
       "0                           tsl1                1.0   DDX11L2    lncRNA  \n",
       "1                           tsl1                1.0   DDX11L2    lncRNA  \n",
       "2                           tsl1                1.0   DDX11L2    lncRNA  \n",
       "3                           tsl1                1.0   DDX11L2    lncRNA  \n",
       "4                           tsl1                1.0   DDX11L2    lncRNA  "
      ]
     },
     "execution_count": 18,
     "metadata": {},
     "output_type": "execute_result"
    }
   ],
   "source": [
    "tf_df_full.head()"
   ]
  },
  {
   "cell_type": "code",
   "execution_count": null,
   "metadata": {},
   "outputs": [
    {
     "data": {
      "text/plain": [
       "Gene name\n",
       "MTCO1P29         1\n",
       "RN7SKP166        1\n",
       "RN7SKP167        1\n",
       "RN7SKP168        1\n",
       "RN7SKP169        1\n",
       "              ... \n",
       "SNORA70         27\n",
       "U6              33\n",
       "U3              50\n",
       "Metazoa_SRP    169\n",
       "Y_RNA          756\n",
       "Name: Gene stable ID, Length: 40272, dtype: int64"
      ]
     },
     "execution_count": 19,
     "metadata": {},
     "output_type": "execute_result"
    }
   ],
   "source": [
    "tf_df_full.groupby('Gene name')['Gene stable ID'].nunique().sort_values()"
   ]
  },
  {
   "cell_type": "code",
   "execution_count": null,
   "metadata": {},
   "outputs": [
    {
     "data": {
      "text/plain": [
       "292"
      ]
     },
     "execution_count": 20,
     "metadata": {},
     "output_type": "execute_result"
    }
   ],
   "source": [
    "sum(tf_df_full.groupby('Gene name')['Gene stable ID'].nunique() > 1)"
   ]
  },
  {
   "cell_type": "code",
   "execution_count": null,
   "metadata": {},
   "outputs": [],
   "source": [
    "tf_df_full['TF Name'] = tf_df_full['TF Name'].apply(lambda x: sponge_obj.animal_to_human[x] if x in sponge_obj.animal_to_human else x)"
   ]
  },
  {
   "cell_type": "code",
   "execution_count": null,
   "metadata": {},
   "outputs": [
    {
     "data": {
      "text/plain": [
       "Chromosome                               0\n",
       "Score                                    0\n",
       "TF Name                                  0\n",
       "Transcript ID                            0\n",
       "Gene stable ID                      496681\n",
       "Transcript support level (TSL)    31463382\n",
       "Ensembl Canonical                 71462429\n",
       "Gene name                          8733548\n",
       "Gene type                           496681\n",
       "dtype: int64"
      ]
     },
     "execution_count": 22,
     "metadata": {},
     "output_type": "execute_result"
    }
   ],
   "source": [
    "tf_df_full.isna().sum()"
   ]
  },
  {
   "cell_type": "code",
   "execution_count": null,
   "metadata": {},
   "outputs": [],
   "source": [
    "tf_df_full_nonan = tf_df_full.dropna(subset=['Gene stable ID']).copy()"
   ]
  },
  {
   "cell_type": "code",
   "execution_count": null,
   "metadata": {},
   "outputs": [
    {
     "name": "stderr",
     "output_type": "stream",
     "text": [
      "/tmp/ipykernel_934005/4200685283.py:1: SettingWithCopyWarning: \n",
      "A value is trying to be set on a copy of a slice from a DataFrame\n",
      "\n",
      "See the caveats in the documentation: https://pandas.pydata.org/pandas-docs/stable/user_guide/indexing.html#returning-a-view-versus-a-copy\n",
      "  tf_df_full_nonan.sort_values('Score', ascending=False, inplace=True)\n"
     ]
    }
   ],
   "source": [
    "tf_df_full_nonan.sort_values('Score', ascending=False, inplace=True)"
   ]
  },
  {
   "cell_type": "code",
   "execution_count": null,
   "metadata": {},
   "outputs": [
    {
     "data": {
      "text/html": [
       "<div>\n",
       "<style scoped>\n",
       "    .dataframe tbody tr th:only-of-type {\n",
       "        vertical-align: middle;\n",
       "    }\n",
       "\n",
       "    .dataframe tbody tr th {\n",
       "        vertical-align: top;\n",
       "    }\n",
       "\n",
       "    .dataframe thead th {\n",
       "        text-align: right;\n",
       "    }\n",
       "</style>\n",
       "<table border=\"1\" class=\"dataframe\">\n",
       "  <thead>\n",
       "    <tr style=\"text-align: right;\">\n",
       "      <th></th>\n",
       "      <th>Chromosome</th>\n",
       "      <th>Score</th>\n",
       "      <th>TF Name</th>\n",
       "      <th>Transcript ID</th>\n",
       "      <th>Gene stable ID</th>\n",
       "      <th>Transcript support level (TSL)</th>\n",
       "      <th>Ensembl Canonical</th>\n",
       "      <th>Gene name</th>\n",
       "      <th>Gene type</th>\n",
       "    </tr>\n",
       "  </thead>\n",
       "  <tbody>\n",
       "    <tr>\n",
       "      <th>1637336</th>\n",
       "      <td>chr14</td>\n",
       "      <td>1000</td>\n",
       "      <td>EWSR1-FLI1</td>\n",
       "      <td>ENST00000696956</td>\n",
       "      <td>ENSG00000172717</td>\n",
       "      <td>NaN</td>\n",
       "      <td>NaN</td>\n",
       "      <td>GARIN2</td>\n",
       "      <td>protein_coding</td>\n",
       "    </tr>\n",
       "    <tr>\n",
       "      <th>1959557</th>\n",
       "      <td>chr9</td>\n",
       "      <td>1000</td>\n",
       "      <td>CTCF</td>\n",
       "      <td>ENST00000319119</td>\n",
       "      <td>ENSG00000177125</td>\n",
       "      <td>tsl1 (assigned to previous version 4)</td>\n",
       "      <td>1.0</td>\n",
       "      <td>ZBTB34</td>\n",
       "      <td>protein_coding</td>\n",
       "    </tr>\n",
       "    <tr>\n",
       "      <th>2056568</th>\n",
       "      <td>chr6</td>\n",
       "      <td>1000</td>\n",
       "      <td>EWSR1-FLI1</td>\n",
       "      <td>ENST00000637089</td>\n",
       "      <td>ENSG00000096093</td>\n",
       "      <td>tsl5</td>\n",
       "      <td>NaN</td>\n",
       "      <td>EFHC1</td>\n",
       "      <td>protein_coding</td>\n",
       "    </tr>\n",
       "    <tr>\n",
       "      <th>1323946</th>\n",
       "      <td>chr22</td>\n",
       "      <td>1000</td>\n",
       "      <td>EWSR1-FLI1</td>\n",
       "      <td>ENST00000401624</td>\n",
       "      <td>ENSG00000100346</td>\n",
       "      <td>tsl1</td>\n",
       "      <td>NaN</td>\n",
       "      <td>CACNA1I</td>\n",
       "      <td>protein_coding</td>\n",
       "    </tr>\n",
       "    <tr>\n",
       "      <th>1527292</th>\n",
       "      <td>chr17</td>\n",
       "      <td>1000</td>\n",
       "      <td>EWSR1-FLI1</td>\n",
       "      <td>ENST00000378895</td>\n",
       "      <td>ENSG00000167536</td>\n",
       "      <td>tsl1 (assigned to previous version 8)</td>\n",
       "      <td>1.0</td>\n",
       "      <td>DHRS13</td>\n",
       "      <td>protein_coding</td>\n",
       "    </tr>\n",
       "  </tbody>\n",
       "</table>\n",
       "</div>"
      ],
      "text/plain": [
       "        Chromosome  Score     TF Name    Transcript ID   Gene stable ID  \\\n",
       "1637336      chr14   1000  EWSR1-FLI1  ENST00000696956  ENSG00000172717   \n",
       "1959557       chr9   1000        CTCF  ENST00000319119  ENSG00000177125   \n",
       "2056568       chr6   1000  EWSR1-FLI1  ENST00000637089  ENSG00000096093   \n",
       "1323946      chr22   1000  EWSR1-FLI1  ENST00000401624  ENSG00000100346   \n",
       "1527292      chr17   1000  EWSR1-FLI1  ENST00000378895  ENSG00000167536   \n",
       "\n",
       "                Transcript support level (TSL)  Ensembl Canonical Gene name  \\\n",
       "1637336                                    NaN                NaN    GARIN2   \n",
       "1959557  tsl1 (assigned to previous version 4)                1.0    ZBTB34   \n",
       "2056568                                   tsl5                NaN     EFHC1   \n",
       "1323946                                   tsl1                NaN   CACNA1I   \n",
       "1527292  tsl1 (assigned to previous version 8)                1.0    DHRS13   \n",
       "\n",
       "              Gene type  \n",
       "1637336  protein_coding  \n",
       "1959557  protein_coding  \n",
       "2056568  protein_coding  \n",
       "1323946  protein_coding  \n",
       "1527292  protein_coding  "
      ]
     },
     "execution_count": 56,
     "metadata": {},
     "output_type": "execute_result"
    }
   ],
   "source": [
    "tf_df_full_nonan.head()"
   ]
  },
  {
   "cell_type": "code",
   "execution_count": null,
   "metadata": {},
   "outputs": [],
   "source": [
    "tf_df_full_nonan_2 = tf_df_full_nonan.drop_duplicates(subset=['TF Name', 'Gene stable ID'])"
   ]
  },
  {
   "cell_type": "code",
   "execution_count": null,
   "metadata": {},
   "outputs": [
    {
     "data": {
      "text/html": [
       "<div>\n",
       "<style scoped>\n",
       "    .dataframe tbody tr th:only-of-type {\n",
       "        vertical-align: middle;\n",
       "    }\n",
       "\n",
       "    .dataframe tbody tr th {\n",
       "        vertical-align: top;\n",
       "    }\n",
       "\n",
       "    .dataframe thead th {\n",
       "        text-align: right;\n",
       "    }\n",
       "</style>\n",
       "<table border=\"1\" class=\"dataframe\">\n",
       "  <thead>\n",
       "    <tr style=\"text-align: right;\">\n",
       "      <th></th>\n",
       "      <th>Chromosome</th>\n",
       "      <th>Score</th>\n",
       "      <th>TF Name</th>\n",
       "      <th>Transcript ID</th>\n",
       "      <th>Gene stable ID</th>\n",
       "      <th>Transcript support level (TSL)</th>\n",
       "      <th>Ensembl Canonical</th>\n",
       "      <th>Gene name</th>\n",
       "      <th>Gene type</th>\n",
       "    </tr>\n",
       "  </thead>\n",
       "  <tbody>\n",
       "    <tr>\n",
       "      <th>1637336</th>\n",
       "      <td>chr14</td>\n",
       "      <td>1000</td>\n",
       "      <td>EWSR1-FLI1</td>\n",
       "      <td>ENST00000696956</td>\n",
       "      <td>ENSG00000172717</td>\n",
       "      <td>NaN</td>\n",
       "      <td>NaN</td>\n",
       "      <td>GARIN2</td>\n",
       "      <td>protein_coding</td>\n",
       "    </tr>\n",
       "    <tr>\n",
       "      <th>1959557</th>\n",
       "      <td>chr9</td>\n",
       "      <td>1000</td>\n",
       "      <td>CTCF</td>\n",
       "      <td>ENST00000319119</td>\n",
       "      <td>ENSG00000177125</td>\n",
       "      <td>tsl1 (assigned to previous version 4)</td>\n",
       "      <td>1.0</td>\n",
       "      <td>ZBTB34</td>\n",
       "      <td>protein_coding</td>\n",
       "    </tr>\n",
       "    <tr>\n",
       "      <th>2056568</th>\n",
       "      <td>chr6</td>\n",
       "      <td>1000</td>\n",
       "      <td>EWSR1-FLI1</td>\n",
       "      <td>ENST00000637089</td>\n",
       "      <td>ENSG00000096093</td>\n",
       "      <td>tsl5</td>\n",
       "      <td>NaN</td>\n",
       "      <td>EFHC1</td>\n",
       "      <td>protein_coding</td>\n",
       "    </tr>\n",
       "    <tr>\n",
       "      <th>1323946</th>\n",
       "      <td>chr22</td>\n",
       "      <td>1000</td>\n",
       "      <td>EWSR1-FLI1</td>\n",
       "      <td>ENST00000401624</td>\n",
       "      <td>ENSG00000100346</td>\n",
       "      <td>tsl1</td>\n",
       "      <td>NaN</td>\n",
       "      <td>CACNA1I</td>\n",
       "      <td>protein_coding</td>\n",
       "    </tr>\n",
       "    <tr>\n",
       "      <th>1527292</th>\n",
       "      <td>chr17</td>\n",
       "      <td>1000</td>\n",
       "      <td>EWSR1-FLI1</td>\n",
       "      <td>ENST00000378895</td>\n",
       "      <td>ENSG00000167536</td>\n",
       "      <td>tsl1 (assigned to previous version 8)</td>\n",
       "      <td>1.0</td>\n",
       "      <td>DHRS13</td>\n",
       "      <td>protein_coding</td>\n",
       "    </tr>\n",
       "  </tbody>\n",
       "</table>\n",
       "</div>"
      ],
      "text/plain": [
       "        Chromosome  Score     TF Name    Transcript ID   Gene stable ID  \\\n",
       "1637336      chr14   1000  EWSR1-FLI1  ENST00000696956  ENSG00000172717   \n",
       "1959557       chr9   1000        CTCF  ENST00000319119  ENSG00000177125   \n",
       "2056568       chr6   1000  EWSR1-FLI1  ENST00000637089  ENSG00000096093   \n",
       "1323946      chr22   1000  EWSR1-FLI1  ENST00000401624  ENSG00000100346   \n",
       "1527292      chr17   1000  EWSR1-FLI1  ENST00000378895  ENSG00000167536   \n",
       "\n",
       "                Transcript support level (TSL)  Ensembl Canonical Gene name  \\\n",
       "1637336                                    NaN                NaN    GARIN2   \n",
       "1959557  tsl1 (assigned to previous version 4)                1.0    ZBTB34   \n",
       "2056568                                   tsl5                NaN     EFHC1   \n",
       "1323946                                   tsl1                NaN   CACNA1I   \n",
       "1527292  tsl1 (assigned to previous version 8)                1.0    DHRS13   \n",
       "\n",
       "              Gene type  \n",
       "1637336  protein_coding  \n",
       "1959557  protein_coding  \n",
       "2056568  protein_coding  \n",
       "1323946  protein_coding  \n",
       "1527292  protein_coding  "
      ]
     },
     "execution_count": 58,
     "metadata": {},
     "output_type": "execute_result"
    }
   ],
   "source": [
    "tf_df_full_nonan_2.head()"
   ]
  },
  {
   "cell_type": "code",
   "execution_count": null,
   "metadata": {},
   "outputs": [
    {
     "name": "stderr",
     "output_type": "stream",
     "text": [
      "/tmp/ipykernel_934005/1206237176.py:1: SettingWithCopyWarning: \n",
      "A value is trying to be set on a copy of a slice from a DataFrame.\n",
      "Try using .loc[row_indexer,col_indexer] = value instead\n",
      "\n",
      "See the caveats in the documentation: https://pandas.pydata.org/pandas-docs/stable/user_guide/indexing.html#returning-a-view-versus-a-copy\n",
      "  tf_df_full_nonan_2['Gene name'] = tf_df_full_nonan_2.apply(lambda x: x['Gene name'] if type(x['Gene name']) == str\n"
     ]
    }
   ],
   "source": [
    "tf_df_full_nonan_2['Gene name'] = tf_df_full_nonan_2.apply(lambda x: x['Gene name'] if type(x['Gene name']) == str \n",
    "    else x['Gene stable ID'], axis=1)"
   ]
  },
  {
   "cell_type": "code",
   "execution_count": null,
   "metadata": {},
   "outputs": [],
   "source": [
    "name_id_matching = tf_df_full_nonan_2.groupby(['Gene name', 'Gene stable ID'])['Gene name'].count()"
   ]
  },
  {
   "cell_type": "code",
   "execution_count": null,
   "metadata": {},
   "outputs": [
    {
     "data": {
      "text/plain": [
       "Gene name  Gene stable ID \n",
       "5S_rRNA    ENSG00000276861    141\n",
       "           ENSG00000277411    191\n",
       "           ENSG00000277488    115\n",
       "           ENSG00000285609    135\n",
       "           ENSG00000285626    164\n",
       "Name: Gene name, dtype: int64"
      ]
     },
     "execution_count": 74,
     "metadata": {},
     "output_type": "execute_result"
    }
   ],
   "source": [
    "name_id_matching.head()"
   ]
  },
  {
   "cell_type": "code",
   "execution_count": null,
   "metadata": {},
   "outputs": [],
   "source": [
    "id_to_name = {i[1]: i[0] for i in name_id_matching.groupby(level=0).idxmax().values}"
   ]
  },
  {
   "cell_type": "code",
   "execution_count": null,
   "metadata": {},
   "outputs": [],
   "source": [
    "tf_df_final = tf_df_full_nonan_2.copy()"
   ]
  },
  {
   "cell_type": "code",
   "execution_count": null,
   "metadata": {},
   "outputs": [
    {
     "data": {
      "text/html": [
       "<div>\n",
       "<style scoped>\n",
       "    .dataframe tbody tr th:only-of-type {\n",
       "        vertical-align: middle;\n",
       "    }\n",
       "\n",
       "    .dataframe tbody tr th {\n",
       "        vertical-align: top;\n",
       "    }\n",
       "\n",
       "    .dataframe thead th {\n",
       "        text-align: right;\n",
       "    }\n",
       "</style>\n",
       "<table border=\"1\" class=\"dataframe\">\n",
       "  <thead>\n",
       "    <tr style=\"text-align: right;\">\n",
       "      <th></th>\n",
       "      <th>Chromosome</th>\n",
       "      <th>Score</th>\n",
       "      <th>TF Name</th>\n",
       "      <th>Transcript ID</th>\n",
       "      <th>Gene stable ID</th>\n",
       "      <th>Transcript support level (TSL)</th>\n",
       "      <th>Ensembl Canonical</th>\n",
       "      <th>Gene name</th>\n",
       "      <th>Gene type</th>\n",
       "    </tr>\n",
       "  </thead>\n",
       "  <tbody>\n",
       "    <tr>\n",
       "      <th>1637336</th>\n",
       "      <td>chr14</td>\n",
       "      <td>1000</td>\n",
       "      <td>EWSR1-FLI1</td>\n",
       "      <td>ENST00000696956</td>\n",
       "      <td>ENSG00000172717</td>\n",
       "      <td>NaN</td>\n",
       "      <td>NaN</td>\n",
       "      <td>GARIN2</td>\n",
       "      <td>protein_coding</td>\n",
       "    </tr>\n",
       "    <tr>\n",
       "      <th>1959557</th>\n",
       "      <td>chr9</td>\n",
       "      <td>1000</td>\n",
       "      <td>CTCF</td>\n",
       "      <td>ENST00000319119</td>\n",
       "      <td>ENSG00000177125</td>\n",
       "      <td>tsl1 (assigned to previous version 4)</td>\n",
       "      <td>1.0</td>\n",
       "      <td>ZBTB34</td>\n",
       "      <td>protein_coding</td>\n",
       "    </tr>\n",
       "    <tr>\n",
       "      <th>2056568</th>\n",
       "      <td>chr6</td>\n",
       "      <td>1000</td>\n",
       "      <td>EWSR1-FLI1</td>\n",
       "      <td>ENST00000637089</td>\n",
       "      <td>ENSG00000096093</td>\n",
       "      <td>tsl5</td>\n",
       "      <td>NaN</td>\n",
       "      <td>EFHC1</td>\n",
       "      <td>protein_coding</td>\n",
       "    </tr>\n",
       "    <tr>\n",
       "      <th>1323946</th>\n",
       "      <td>chr22</td>\n",
       "      <td>1000</td>\n",
       "      <td>EWSR1-FLI1</td>\n",
       "      <td>ENST00000401624</td>\n",
       "      <td>ENSG00000100346</td>\n",
       "      <td>tsl1</td>\n",
       "      <td>NaN</td>\n",
       "      <td>CACNA1I</td>\n",
       "      <td>protein_coding</td>\n",
       "    </tr>\n",
       "    <tr>\n",
       "      <th>1527292</th>\n",
       "      <td>chr17</td>\n",
       "      <td>1000</td>\n",
       "      <td>EWSR1-FLI1</td>\n",
       "      <td>ENST00000378895</td>\n",
       "      <td>ENSG00000167536</td>\n",
       "      <td>tsl1 (assigned to previous version 8)</td>\n",
       "      <td>1.0</td>\n",
       "      <td>DHRS13</td>\n",
       "      <td>protein_coding</td>\n",
       "    </tr>\n",
       "  </tbody>\n",
       "</table>\n",
       "</div>"
      ],
      "text/plain": [
       "        Chromosome  Score     TF Name    Transcript ID   Gene stable ID  \\\n",
       "1637336      chr14   1000  EWSR1-FLI1  ENST00000696956  ENSG00000172717   \n",
       "1959557       chr9   1000        CTCF  ENST00000319119  ENSG00000177125   \n",
       "2056568       chr6   1000  EWSR1-FLI1  ENST00000637089  ENSG00000096093   \n",
       "1323946      chr22   1000  EWSR1-FLI1  ENST00000401624  ENSG00000100346   \n",
       "1527292      chr17   1000  EWSR1-FLI1  ENST00000378895  ENSG00000167536   \n",
       "\n",
       "                Transcript support level (TSL)  Ensembl Canonical Gene name  \\\n",
       "1637336                                    NaN                NaN    GARIN2   \n",
       "1959557  tsl1 (assigned to previous version 4)                1.0    ZBTB34   \n",
       "2056568                                   tsl5                NaN     EFHC1   \n",
       "1323946                                   tsl1                NaN   CACNA1I   \n",
       "1527292  tsl1 (assigned to previous version 8)                1.0    DHRS13   \n",
       "\n",
       "              Gene type  \n",
       "1637336  protein_coding  \n",
       "1959557  protein_coding  \n",
       "2056568  protein_coding  \n",
       "1323946  protein_coding  \n",
       "1527292  protein_coding  "
      ]
     },
     "execution_count": 77,
     "metadata": {},
     "output_type": "execute_result"
    }
   ],
   "source": [
    "tf_df_final.head()"
   ]
  },
  {
   "cell_type": "code",
   "execution_count": null,
   "metadata": {},
   "outputs": [
    {
     "data": {
      "text/plain": [
       "(10009399, 9)"
      ]
     },
     "execution_count": 78,
     "metadata": {},
     "output_type": "execute_result"
    }
   ],
   "source": [
    "tf_df_final.shape"
   ]
  },
  {
   "cell_type": "code",
   "execution_count": null,
   "metadata": {},
   "outputs": [],
   "source": [
    "edge_checking = pd.read_csv('tf_prior.tsv', sep='\\t', header=None, names=['TF Name', 'Gene stable ID', 'Edge'])"
   ]
  },
  {
   "cell_type": "code",
   "execution_count": null,
   "metadata": {},
   "outputs": [
    {
     "data": {
      "text/html": [
       "<div>\n",
       "<style scoped>\n",
       "    .dataframe tbody tr th:only-of-type {\n",
       "        vertical-align: middle;\n",
       "    }\n",
       "\n",
       "    .dataframe tbody tr th {\n",
       "        vertical-align: top;\n",
       "    }\n",
       "\n",
       "    .dataframe thead th {\n",
       "        text-align: right;\n",
       "    }\n",
       "</style>\n",
       "<table border=\"1\" class=\"dataframe\">\n",
       "  <thead>\n",
       "    <tr style=\"text-align: right;\">\n",
       "      <th></th>\n",
       "      <th>TF Name</th>\n",
       "      <th>Gene stable ID</th>\n",
       "      <th>Edge</th>\n",
       "    </tr>\n",
       "  </thead>\n",
       "  <tbody>\n",
       "    <tr>\n",
       "      <th>0</th>\n",
       "      <td>ALX1</td>\n",
       "      <td>ENSG00000000457</td>\n",
       "      <td>1</td>\n",
       "    </tr>\n",
       "    <tr>\n",
       "      <th>1</th>\n",
       "      <td>ALX1</td>\n",
       "      <td>ENSG00000000460</td>\n",
       "      <td>1</td>\n",
       "    </tr>\n",
       "    <tr>\n",
       "      <th>2</th>\n",
       "      <td>ALX1</td>\n",
       "      <td>ENSG00000000938</td>\n",
       "      <td>1</td>\n",
       "    </tr>\n",
       "    <tr>\n",
       "      <th>3</th>\n",
       "      <td>ALX1</td>\n",
       "      <td>ENSG00000000971</td>\n",
       "      <td>1</td>\n",
       "    </tr>\n",
       "    <tr>\n",
       "      <th>4</th>\n",
       "      <td>ALX1</td>\n",
       "      <td>ENSG00000001084</td>\n",
       "      <td>1</td>\n",
       "    </tr>\n",
       "  </tbody>\n",
       "</table>\n",
       "</div>"
      ],
      "text/plain": [
       "  TF Name   Gene stable ID  Edge\n",
       "0    ALX1  ENSG00000000457     1\n",
       "1    ALX1  ENSG00000000460     1\n",
       "2    ALX1  ENSG00000000938     1\n",
       "3    ALX1  ENSG00000000971     1\n",
       "4    ALX1  ENSG00000001084     1"
      ]
     },
     "execution_count": 85,
     "metadata": {},
     "output_type": "execute_result"
    }
   ],
   "source": [
    "edge_checking.head()"
   ]
  },
  {
   "cell_type": "code",
   "execution_count": null,
   "metadata": {},
   "outputs": [],
   "source": [
    "set_before = set(edge_checking['TF Name'] + edge_checking['Gene stable ID'])"
   ]
  },
  {
   "cell_type": "code",
   "execution_count": null,
   "metadata": {},
   "outputs": [],
   "source": [
    "set_now = set(tf_df_final['TF Name'] + tf_df_final['Gene stable ID'])"
   ]
  },
  {
   "cell_type": "code",
   "execution_count": null,
   "metadata": {},
   "outputs": [
    {
     "data": {
      "text/plain": [
       "True"
      ]
     },
     "execution_count": 90,
     "metadata": {},
     "output_type": "execute_result"
    }
   ],
   "source": [
    "set_before == set_now"
   ]
  },
  {
   "cell_type": "code",
   "execution_count": null,
   "metadata": {},
   "outputs": [],
   "source": [
    "import numpy as np"
   ]
  },
  {
   "cell_type": "code",
   "execution_count": null,
   "metadata": {},
   "outputs": [],
   "source": [
    "tf_df_final['Gene name'] = tf_df_final['Gene stable ID'].apply(\n",
    "    lambda x: id_to_name[x] if x in id_to_name else np.nan)"
   ]
  },
  {
   "cell_type": "code",
   "execution_count": null,
   "metadata": {},
   "outputs": [],
   "source": [
    "tf_df_final_2 = tf_df_final.dropna(subset='Gene name')"
   ]
  },
  {
   "cell_type": "code",
   "execution_count": null,
   "metadata": {},
   "outputs": [
    {
     "name": "stderr",
     "output_type": "stream",
     "text": [
      "/tmp/ipykernel_934005/1024402129.py:1: SettingWithCopyWarning: \n",
      "A value is trying to be set on a copy of a slice from a DataFrame.\n",
      "Try using .loc[row_indexer,col_indexer] = value instead\n",
      "\n",
      "See the caveats in the documentation: https://pandas.pydata.org/pandas-docs/stable/user_guide/indexing.html#returning-a-view-versus-a-copy\n",
      "  tf_df_final_2['Edge'] = 1\n"
     ]
    }
   ],
   "source": [
    "tf_df_final_2['Edge'] = 1"
   ]
  },
  {
   "cell_type": "code",
   "execution_count": null,
   "metadata": {},
   "outputs": [
    {
     "name": "stderr",
     "output_type": "stream",
     "text": [
      "/tmp/ipykernel_934005/23405677.py:1: SettingWithCopyWarning: \n",
      "A value is trying to be set on a copy of a slice from a DataFrame\n",
      "\n",
      "See the caveats in the documentation: https://pandas.pydata.org/pandas-docs/stable/user_guide/indexing.html#returning-a-view-versus-a-copy\n",
      "  tf_df_final_2.sort_values(by=['TF Name', 'Gene name'], inplace=True)\n"
     ]
    }
   ],
   "source": [
    "tf_df_final_2.sort_values(by=['TF Name', 'Gene name'], inplace=True)"
   ]
  },
  {
   "cell_type": "code",
   "execution_count": null,
   "metadata": {},
   "outputs": [],
   "source": [
    "tf_df_final_2.to_csv('tf_prior_names.tsv', columns=['TF Name', 'Gene name', 'Edge'], \n",
    "                     sep='\\t', header=None, index=False)"
   ]
  },
  {
   "cell_type": "code",
   "execution_count": null,
   "metadata": {},
   "outputs": [],
   "source": [
    "tf_df_proteins = tf_df_full_nonan_2[tf_df_full_nonan_2['Gene type'] == 'protein_coding'].copy()"
   ]
  },
  {
   "cell_type": "code",
   "execution_count": null,
   "metadata": {},
   "outputs": [
    {
     "data": {
      "text/html": [
       "<div>\n",
       "<style scoped>\n",
       "    .dataframe tbody tr th:only-of-type {\n",
       "        vertical-align: middle;\n",
       "    }\n",
       "\n",
       "    .dataframe tbody tr th {\n",
       "        vertical-align: top;\n",
       "    }\n",
       "\n",
       "    .dataframe thead th {\n",
       "        text-align: right;\n",
       "    }\n",
       "</style>\n",
       "<table border=\"1\" class=\"dataframe\">\n",
       "  <thead>\n",
       "    <tr style=\"text-align: right;\">\n",
       "      <th></th>\n",
       "      <th></th>\n",
       "      <th>Chromosome</th>\n",
       "      <th>Score</th>\n",
       "      <th>Transcript ID</th>\n",
       "      <th>Transcript support level (TSL)</th>\n",
       "      <th>Ensembl Canonical</th>\n",
       "      <th>Gene name</th>\n",
       "      <th>Gene type</th>\n",
       "    </tr>\n",
       "    <tr>\n",
       "      <th>TF Name</th>\n",
       "      <th>Gene stable ID</th>\n",
       "      <th></th>\n",
       "      <th></th>\n",
       "      <th></th>\n",
       "      <th></th>\n",
       "      <th></th>\n",
       "      <th></th>\n",
       "      <th></th>\n",
       "    </tr>\n",
       "  </thead>\n",
       "  <tbody>\n",
       "    <tr>\n",
       "      <th>EWSR1-FLI1</th>\n",
       "      <th>ENSG00000172717</th>\n",
       "      <td>chr14</td>\n",
       "      <td>1000</td>\n",
       "      <td>ENST00000696956</td>\n",
       "      <td>NaN</td>\n",
       "      <td>NaN</td>\n",
       "      <td>GARIN2</td>\n",
       "      <td>protein_coding</td>\n",
       "    </tr>\n",
       "    <tr>\n",
       "      <th>CTCF</th>\n",
       "      <th>ENSG00000177125</th>\n",
       "      <td>chr9</td>\n",
       "      <td>1000</td>\n",
       "      <td>ENST00000319119</td>\n",
       "      <td>tsl1 (assigned to previous version 4)</td>\n",
       "      <td>1.0</td>\n",
       "      <td>ZBTB34</td>\n",
       "      <td>protein_coding</td>\n",
       "    </tr>\n",
       "    <tr>\n",
       "      <th rowspan=\"3\" valign=\"top\">EWSR1-FLI1</th>\n",
       "      <th>ENSG00000096093</th>\n",
       "      <td>chr6</td>\n",
       "      <td>1000</td>\n",
       "      <td>ENST00000637089</td>\n",
       "      <td>tsl5</td>\n",
       "      <td>NaN</td>\n",
       "      <td>EFHC1</td>\n",
       "      <td>protein_coding</td>\n",
       "    </tr>\n",
       "    <tr>\n",
       "      <th>ENSG00000100346</th>\n",
       "      <td>chr22</td>\n",
       "      <td>1000</td>\n",
       "      <td>ENST00000401624</td>\n",
       "      <td>tsl1</td>\n",
       "      <td>NaN</td>\n",
       "      <td>CACNA1I</td>\n",
       "      <td>protein_coding</td>\n",
       "    </tr>\n",
       "    <tr>\n",
       "      <th>ENSG00000167536</th>\n",
       "      <td>chr17</td>\n",
       "      <td>1000</td>\n",
       "      <td>ENST00000378895</td>\n",
       "      <td>tsl1 (assigned to previous version 8)</td>\n",
       "      <td>1.0</td>\n",
       "      <td>DHRS13</td>\n",
       "      <td>protein_coding</td>\n",
       "    </tr>\n",
       "  </tbody>\n",
       "</table>\n",
       "</div>"
      ],
      "text/plain": [
       "                           Chromosome  Score    Transcript ID  \\\n",
       "TF Name    Gene stable ID                                       \n",
       "EWSR1-FLI1 ENSG00000172717      chr14   1000  ENST00000696956   \n",
       "CTCF       ENSG00000177125       chr9   1000  ENST00000319119   \n",
       "EWSR1-FLI1 ENSG00000096093       chr6   1000  ENST00000637089   \n",
       "           ENSG00000100346      chr22   1000  ENST00000401624   \n",
       "           ENSG00000167536      chr17   1000  ENST00000378895   \n",
       "\n",
       "                                   Transcript support level (TSL)  \\\n",
       "TF Name    Gene stable ID                                           \n",
       "EWSR1-FLI1 ENSG00000172717                                    NaN   \n",
       "CTCF       ENSG00000177125  tsl1 (assigned to previous version 4)   \n",
       "EWSR1-FLI1 ENSG00000096093                                   tsl5   \n",
       "           ENSG00000100346                                   tsl1   \n",
       "           ENSG00000167536  tsl1 (assigned to previous version 8)   \n",
       "\n",
       "                            Ensembl Canonical Gene name       Gene type  \n",
       "TF Name    Gene stable ID                                                \n",
       "EWSR1-FLI1 ENSG00000172717                NaN    GARIN2  protein_coding  \n",
       "CTCF       ENSG00000177125                1.0    ZBTB34  protein_coding  \n",
       "EWSR1-FLI1 ENSG00000096093                NaN     EFHC1  protein_coding  \n",
       "           ENSG00000100346                NaN   CACNA1I  protein_coding  \n",
       "           ENSG00000167536                1.0    DHRS13  protein_coding  "
      ]
     },
     "execution_count": 51,
     "metadata": {},
     "output_type": "execute_result"
    }
   ],
   "source": [
    "tf_df_proteins.head()"
   ]
  },
  {
   "cell_type": "code",
   "execution_count": null,
   "metadata": {},
   "outputs": [
    {
     "data": {
      "text/plain": [
       "10"
      ]
     },
     "execution_count": 24,
     "metadata": {},
     "output_type": "execute_result"
    }
   ],
   "source": [
    "sum(tf_df_proteins.groupby('Gene name')['Gene stable ID'].nunique() > 1)"
   ]
  },
  {
   "cell_type": "code",
   "execution_count": null,
   "metadata": {},
   "outputs": [
    {
     "data": {
      "text/plain": [
       "Gene name\n",
       "MKKS          3\n",
       "ST6GALNAC6    2\n",
       "PINX1         2\n",
       "MATR3         2\n",
       "TBCE          2\n",
       "NPIPA9        2\n",
       "NOX5          2\n",
       "POLR2J3       2\n",
       "TMSB15B       2\n",
       "HERC3         2\n",
       "PRKN          1\n",
       "Name: Gene stable ID, dtype: int64"
      ]
     },
     "execution_count": 25,
     "metadata": {},
     "output_type": "execute_result"
    }
   ],
   "source": [
    "tf_df_proteins.groupby('Gene name')['Gene stable ID'].nunique().sort_values(ascending=False)[:11]"
   ]
  },
  {
   "cell_type": "code",
   "execution_count": null,
   "metadata": {},
   "outputs": [
    {
     "data": {
      "text/html": [
       "<div>\n",
       "<style scoped>\n",
       "    .dataframe tbody tr th:only-of-type {\n",
       "        vertical-align: middle;\n",
       "    }\n",
       "\n",
       "    .dataframe tbody tr th {\n",
       "        vertical-align: top;\n",
       "    }\n",
       "\n",
       "    .dataframe thead th {\n",
       "        text-align: right;\n",
       "    }\n",
       "</style>\n",
       "<table border=\"1\" class=\"dataframe\">\n",
       "  <thead>\n",
       "    <tr style=\"text-align: right;\">\n",
       "      <th></th>\n",
       "      <th>Chromosome</th>\n",
       "      <th>Score</th>\n",
       "      <th>TF Name</th>\n",
       "      <th>Transcript ID</th>\n",
       "      <th>Gene stable ID</th>\n",
       "      <th>Transcript support level (TSL)</th>\n",
       "      <th>Ensembl Canonical</th>\n",
       "      <th>Gene name</th>\n",
       "      <th>Gene type</th>\n",
       "    </tr>\n",
       "  </thead>\n",
       "  <tbody>\n",
       "    <tr>\n",
       "      <th>787631</th>\n",
       "      <td>chr20</td>\n",
       "      <td>437</td>\n",
       "      <td>TCFL5</td>\n",
       "      <td>ENST00000347364</td>\n",
       "      <td>ENSG00000125863</td>\n",
       "      <td>tsl1</td>\n",
       "      <td>1.0</td>\n",
       "      <td>MKKS</td>\n",
       "      <td>protein_coding</td>\n",
       "    </tr>\n",
       "    <tr>\n",
       "      <th>787632</th>\n",
       "      <td>chr20</td>\n",
       "      <td>403</td>\n",
       "      <td>ZNF610</td>\n",
       "      <td>ENST00000347364</td>\n",
       "      <td>ENSG00000125863</td>\n",
       "      <td>tsl1</td>\n",
       "      <td>1.0</td>\n",
       "      <td>MKKS</td>\n",
       "      <td>protein_coding</td>\n",
       "    </tr>\n",
       "    <tr>\n",
       "      <th>787633</th>\n",
       "      <td>chr20</td>\n",
       "      <td>406</td>\n",
       "      <td>KLF15</td>\n",
       "      <td>ENST00000347364</td>\n",
       "      <td>ENSG00000125863</td>\n",
       "      <td>tsl1</td>\n",
       "      <td>1.0</td>\n",
       "      <td>MKKS</td>\n",
       "      <td>protein_coding</td>\n",
       "    </tr>\n",
       "    <tr>\n",
       "      <th>787634</th>\n",
       "      <td>chr20</td>\n",
       "      <td>401</td>\n",
       "      <td>ZNF740</td>\n",
       "      <td>ENST00000347364</td>\n",
       "      <td>ENSG00000125863</td>\n",
       "      <td>tsl1</td>\n",
       "      <td>1.0</td>\n",
       "      <td>MKKS</td>\n",
       "      <td>protein_coding</td>\n",
       "    </tr>\n",
       "    <tr>\n",
       "      <th>787635</th>\n",
       "      <td>chr20</td>\n",
       "      <td>434</td>\n",
       "      <td>KLF9</td>\n",
       "      <td>ENST00000347364</td>\n",
       "      <td>ENSG00000125863</td>\n",
       "      <td>tsl1</td>\n",
       "      <td>1.0</td>\n",
       "      <td>MKKS</td>\n",
       "      <td>protein_coding</td>\n",
       "    </tr>\n",
       "    <tr>\n",
       "      <th>...</th>\n",
       "      <td>...</td>\n",
       "      <td>...</td>\n",
       "      <td>...</td>\n",
       "      <td>...</td>\n",
       "      <td>...</td>\n",
       "      <td>...</td>\n",
       "      <td>...</td>\n",
       "      <td>...</td>\n",
       "      <td>...</td>\n",
       "    </tr>\n",
       "    <tr>\n",
       "      <th>789211</th>\n",
       "      <td>chr20</td>\n",
       "      <td>470</td>\n",
       "      <td>RORA</td>\n",
       "      <td>ENST00000649912</td>\n",
       "      <td>ENSG00000285723</td>\n",
       "      <td>NaN</td>\n",
       "      <td>1.0</td>\n",
       "      <td>MKKS</td>\n",
       "      <td>protein_coding</td>\n",
       "    </tr>\n",
       "    <tr>\n",
       "      <th>789212</th>\n",
       "      <td>chr20</td>\n",
       "      <td>467</td>\n",
       "      <td>RORC</td>\n",
       "      <td>ENST00000649912</td>\n",
       "      <td>ENSG00000285723</td>\n",
       "      <td>NaN</td>\n",
       "      <td>1.0</td>\n",
       "      <td>MKKS</td>\n",
       "      <td>protein_coding</td>\n",
       "    </tr>\n",
       "    <tr>\n",
       "      <th>789213</th>\n",
       "      <td>chr20</td>\n",
       "      <td>423</td>\n",
       "      <td>SOX10</td>\n",
       "      <td>ENST00000649912</td>\n",
       "      <td>ENSG00000285723</td>\n",
       "      <td>NaN</td>\n",
       "      <td>1.0</td>\n",
       "      <td>MKKS</td>\n",
       "      <td>protein_coding</td>\n",
       "    </tr>\n",
       "    <tr>\n",
       "      <th>789214</th>\n",
       "      <td>chr20</td>\n",
       "      <td>409</td>\n",
       "      <td>SOX4</td>\n",
       "      <td>ENST00000649912</td>\n",
       "      <td>ENSG00000285723</td>\n",
       "      <td>NaN</td>\n",
       "      <td>1.0</td>\n",
       "      <td>MKKS</td>\n",
       "      <td>protein_coding</td>\n",
       "    </tr>\n",
       "    <tr>\n",
       "      <th>789215</th>\n",
       "      <td>chr20</td>\n",
       "      <td>412</td>\n",
       "      <td>STAT2</td>\n",
       "      <td>ENST00000649912</td>\n",
       "      <td>ENSG00000285723</td>\n",
       "      <td>NaN</td>\n",
       "      <td>1.0</td>\n",
       "      <td>MKKS</td>\n",
       "      <td>protein_coding</td>\n",
       "    </tr>\n",
       "  </tbody>\n",
       "</table>\n",
       "<p>1585 rows × 9 columns</p>\n",
       "</div>"
      ],
      "text/plain": [
       "       Chromosome  Score TF Name    Transcript ID   Gene stable ID  \\\n",
       "787631      chr20    437   TCFL5  ENST00000347364  ENSG00000125863   \n",
       "787632      chr20    403  ZNF610  ENST00000347364  ENSG00000125863   \n",
       "787633      chr20    406   KLF15  ENST00000347364  ENSG00000125863   \n",
       "787634      chr20    401  ZNF740  ENST00000347364  ENSG00000125863   \n",
       "787635      chr20    434    KLF9  ENST00000347364  ENSG00000125863   \n",
       "...           ...    ...     ...              ...              ...   \n",
       "789211      chr20    470    RORA  ENST00000649912  ENSG00000285723   \n",
       "789212      chr20    467    RORC  ENST00000649912  ENSG00000285723   \n",
       "789213      chr20    423   SOX10  ENST00000649912  ENSG00000285723   \n",
       "789214      chr20    409    SOX4  ENST00000649912  ENSG00000285723   \n",
       "789215      chr20    412   STAT2  ENST00000649912  ENSG00000285723   \n",
       "\n",
       "       Transcript support level (TSL)  Ensembl Canonical Gene name  \\\n",
       "787631                           tsl1                1.0      MKKS   \n",
       "787632                           tsl1                1.0      MKKS   \n",
       "787633                           tsl1                1.0      MKKS   \n",
       "787634                           tsl1                1.0      MKKS   \n",
       "787635                           tsl1                1.0      MKKS   \n",
       "...                               ...                ...       ...   \n",
       "789211                            NaN                1.0      MKKS   \n",
       "789212                            NaN                1.0      MKKS   \n",
       "789213                            NaN                1.0      MKKS   \n",
       "789214                            NaN                1.0      MKKS   \n",
       "789215                            NaN                1.0      MKKS   \n",
       "\n",
       "             Gene type  \n",
       "787631  protein_coding  \n",
       "787632  protein_coding  \n",
       "787633  protein_coding  \n",
       "787634  protein_coding  \n",
       "787635  protein_coding  \n",
       "...                ...  \n",
       "789211  protein_coding  \n",
       "789212  protein_coding  \n",
       "789213  protein_coding  \n",
       "789214  protein_coding  \n",
       "789215  protein_coding  \n",
       "\n",
       "[1585 rows x 9 columns]"
      ]
     },
     "execution_count": 26,
     "metadata": {},
     "output_type": "execute_result"
    }
   ],
   "source": [
    "tf_df_proteins[tf_df_proteins['Gene name'] == 'MKKS']"
   ]
  },
  {
   "cell_type": "code",
   "execution_count": null,
   "metadata": {},
   "outputs": [],
   "source": [
    "name_id_matching = tf_df_proteins.groupby(['Gene name', 'Gene stable ID'])['Gene name'].count()"
   ]
  },
  {
   "cell_type": "code",
   "execution_count": null,
   "metadata": {},
   "outputs": [],
   "source": [
    "id_to_name = {i[1]: i[0] for i in name_id_matching.groupby(level=0).idxmax().values}"
   ]
  },
  {
   "cell_type": "code",
   "execution_count": null,
   "metadata": {},
   "outputs": [],
   "source": [
    "tf_df_final = tf_df_full[['TF Name', 'Gene stable ID', 'Score']].copy()"
   ]
  },
  {
   "cell_type": "code",
   "execution_count": null,
   "metadata": {},
   "outputs": [
    {
     "data": {
      "text/html": [
       "<div>\n",
       "<style scoped>\n",
       "    .dataframe tbody tr th:only-of-type {\n",
       "        vertical-align: middle;\n",
       "    }\n",
       "\n",
       "    .dataframe tbody tr th {\n",
       "        vertical-align: top;\n",
       "    }\n",
       "\n",
       "    .dataframe thead th {\n",
       "        text-align: right;\n",
       "    }\n",
       "</style>\n",
       "<table border=\"1\" class=\"dataframe\">\n",
       "  <thead>\n",
       "    <tr style=\"text-align: right;\">\n",
       "      <th></th>\n",
       "      <th>TF Name</th>\n",
       "      <th>Gene stable ID</th>\n",
       "      <th>Score</th>\n",
       "    </tr>\n",
       "  </thead>\n",
       "  <tbody>\n",
       "    <tr>\n",
       "      <th>0</th>\n",
       "      <td>ZNF768</td>\n",
       "      <td>ENSG00000290825</td>\n",
       "      <td>430</td>\n",
       "    </tr>\n",
       "    <tr>\n",
       "      <th>1</th>\n",
       "      <td>RUNX3</td>\n",
       "      <td>ENSG00000290825</td>\n",
       "      <td>413</td>\n",
       "    </tr>\n",
       "    <tr>\n",
       "      <th>2</th>\n",
       "      <td>CTCF</td>\n",
       "      <td>ENSG00000290825</td>\n",
       "      <td>406</td>\n",
       "    </tr>\n",
       "    <tr>\n",
       "      <th>3</th>\n",
       "      <td>ZNF574</td>\n",
       "      <td>ENSG00000290825</td>\n",
       "      <td>423</td>\n",
       "    </tr>\n",
       "    <tr>\n",
       "      <th>4</th>\n",
       "      <td>CTCFL</td>\n",
       "      <td>ENSG00000290825</td>\n",
       "      <td>427</td>\n",
       "    </tr>\n",
       "  </tbody>\n",
       "</table>\n",
       "</div>"
      ],
      "text/plain": [
       "  TF Name   Gene stable ID  Score\n",
       "0  ZNF768  ENSG00000290825    430\n",
       "1   RUNX3  ENSG00000290825    413\n",
       "2    CTCF  ENSG00000290825    406\n",
       "3  ZNF574  ENSG00000290825    423\n",
       "4   CTCFL  ENSG00000290825    427"
      ]
     },
     "execution_count": 70,
     "metadata": {},
     "output_type": "execute_result"
    }
   ],
   "source": [
    "tf_df_final.head()"
   ]
  },
  {
   "cell_type": "code",
   "execution_count": null,
   "metadata": {},
   "outputs": [],
   "source": [
    "duplicates = tf_df_final.duplicated(subset=['TF Name', 'Gene stable ID'])"
   ]
  },
  {
   "cell_type": "code",
   "execution_count": null,
   "metadata": {},
   "outputs": [
    {
     "data": {
      "text/plain": [
       "0.8972747465456563"
      ]
     },
     "execution_count": 75,
     "metadata": {},
     "output_type": "execute_result"
    }
   ],
   "source": [
    "duplicates.mean()"
   ]
  },
  {
   "cell_type": "code",
   "execution_count": null,
   "metadata": {},
   "outputs": [],
   "source": [
    "tf_df_final_2 = tf_df_final.groupby(['TF Name', 'Gene stable ID']).max()"
   ]
  },
  {
   "cell_type": "code",
   "execution_count": null,
   "metadata": {},
   "outputs": [],
   "source": [
    "tf_df_final_2.reset_index(inplace=True)"
   ]
  },
  {
   "cell_type": "code",
   "execution_count": null,
   "metadata": {},
   "outputs": [
    {
     "data": {
      "text/html": [
       "<div>\n",
       "<style scoped>\n",
       "    .dataframe tbody tr th:only-of-type {\n",
       "        vertical-align: middle;\n",
       "    }\n",
       "\n",
       "    .dataframe tbody tr th {\n",
       "        vertical-align: top;\n",
       "    }\n",
       "\n",
       "    .dataframe thead th {\n",
       "        text-align: right;\n",
       "    }\n",
       "</style>\n",
       "<table border=\"1\" class=\"dataframe\">\n",
       "  <thead>\n",
       "    <tr style=\"text-align: right;\">\n",
       "      <th></th>\n",
       "      <th>TF Name</th>\n",
       "      <th>Gene stable ID</th>\n",
       "      <th>Score</th>\n",
       "    </tr>\n",
       "  </thead>\n",
       "  <tbody>\n",
       "    <tr>\n",
       "      <th>0</th>\n",
       "      <td>ALX1</td>\n",
       "      <td>ENSG00000000457</td>\n",
       "      <td>442</td>\n",
       "    </tr>\n",
       "    <tr>\n",
       "      <th>1</th>\n",
       "      <td>ALX1</td>\n",
       "      <td>ENSG00000000460</td>\n",
       "      <td>464</td>\n",
       "    </tr>\n",
       "    <tr>\n",
       "      <th>2</th>\n",
       "      <td>ALX1</td>\n",
       "      <td>ENSG00000000938</td>\n",
       "      <td>407</td>\n",
       "    </tr>\n",
       "    <tr>\n",
       "      <th>3</th>\n",
       "      <td>ALX1</td>\n",
       "      <td>ENSG00000000971</td>\n",
       "      <td>495</td>\n",
       "    </tr>\n",
       "    <tr>\n",
       "      <th>4</th>\n",
       "      <td>ALX1</td>\n",
       "      <td>ENSG00000001084</td>\n",
       "      <td>529</td>\n",
       "    </tr>\n",
       "    <tr>\n",
       "      <th>...</th>\n",
       "      <td>...</td>\n",
       "      <td>...</td>\n",
       "      <td>...</td>\n",
       "    </tr>\n",
       "    <tr>\n",
       "      <th>10009394</th>\n",
       "      <td>ZSCAN4</td>\n",
       "      <td>ENSG00000291237</td>\n",
       "      <td>469</td>\n",
       "    </tr>\n",
       "    <tr>\n",
       "      <th>10009395</th>\n",
       "      <td>ZSCAN4</td>\n",
       "      <td>ENSG00000291241</td>\n",
       "      <td>432</td>\n",
       "    </tr>\n",
       "    <tr>\n",
       "      <th>10009396</th>\n",
       "      <td>ZSCAN4</td>\n",
       "      <td>ENSG00000291255</td>\n",
       "      <td>413</td>\n",
       "    </tr>\n",
       "    <tr>\n",
       "      <th>10009397</th>\n",
       "      <td>ZSCAN4</td>\n",
       "      <td>ENSG00000291286</td>\n",
       "      <td>420</td>\n",
       "    </tr>\n",
       "    <tr>\n",
       "      <th>10009398</th>\n",
       "      <td>ZSCAN4</td>\n",
       "      <td>ENSG00000291298</td>\n",
       "      <td>491</td>\n",
       "    </tr>\n",
       "  </tbody>\n",
       "</table>\n",
       "<p>10009399 rows × 3 columns</p>\n",
       "</div>"
      ],
      "text/plain": [
       "         TF Name   Gene stable ID  Score\n",
       "0           ALX1  ENSG00000000457    442\n",
       "1           ALX1  ENSG00000000460    464\n",
       "2           ALX1  ENSG00000000938    407\n",
       "3           ALX1  ENSG00000000971    495\n",
       "4           ALX1  ENSG00000001084    529\n",
       "...          ...              ...    ...\n",
       "10009394  ZSCAN4  ENSG00000291237    469\n",
       "10009395  ZSCAN4  ENSG00000291241    432\n",
       "10009396  ZSCAN4  ENSG00000291255    413\n",
       "10009397  ZSCAN4  ENSG00000291286    420\n",
       "10009398  ZSCAN4  ENSG00000291298    491\n",
       "\n",
       "[10009399 rows x 3 columns]"
      ]
     },
     "execution_count": 79,
     "metadata": {},
     "output_type": "execute_result"
    }
   ],
   "source": [
    "tf_df_final_2"
   ]
  },
  {
   "cell_type": "code",
   "execution_count": null,
   "metadata": {},
   "outputs": [
    {
     "data": {
      "text/plain": [
       "672"
      ]
     },
     "execution_count": 80,
     "metadata": {},
     "output_type": "execute_result"
    }
   ],
   "source": [
    "tf_df_final_2['TF Name'].nunique()"
   ]
  },
  {
   "cell_type": "code",
   "execution_count": null,
   "metadata": {},
   "outputs": [
    {
     "data": {
      "text/plain": [
       "62463"
      ]
     },
     "execution_count": 82,
     "metadata": {},
     "output_type": "execute_result"
    }
   ],
   "source": [
    "tf_df_final_2['Gene stable ID'].nunique()"
   ]
  },
  {
   "cell_type": "code",
   "execution_count": null,
   "metadata": {},
   "outputs": [
    {
     "data": {
      "text/plain": [
       "0.23846019224333187"
      ]
     },
     "execution_count": 83,
     "metadata": {},
     "output_type": "execute_result"
    }
   ],
   "source": [
    "10009399 / (672 * 62463)"
   ]
  },
  {
   "cell_type": "code",
   "execution_count": null,
   "metadata": {},
   "outputs": [],
   "source": [
    "tf_df_final_2['Edge'] = 1"
   ]
  },
  {
   "cell_type": "code",
   "execution_count": null,
   "metadata": {},
   "outputs": [],
   "source": [
    "tf_df_final_2.to_csv('tf_prior.tsv', columns=['TF Name', 'Gene stable ID', 'Edge'], \n",
    "                     sep='\\t', header=None, index=False)"
   ]
  },
  {
   "cell_type": "code",
   "execution_count": null,
   "metadata": {},
   "outputs": [],
   "source": [
    "present_tfs = tf_df_final['TF Name'].unique()"
   ]
  },
  {
   "cell_type": "code",
   "execution_count": null,
   "metadata": {},
   "outputs": [
    {
     "data": {
      "text/plain": [
       "(10671, 13)"
      ]
     },
     "execution_count": 85,
     "metadata": {},
     "output_type": "execute_result"
    }
   ],
   "source": [
    "str_network.shape"
   ]
  },
  {
   "cell_type": "code",
   "execution_count": null,
   "metadata": {},
   "outputs": [],
   "source": [
    "str_network_2 = str_network[str_network['#node1'].isin(present_tfs) & str_network['node2'].isin(present_tfs)].copy()"
   ]
  },
  {
   "cell_type": "code",
   "execution_count": null,
   "metadata": {},
   "outputs": [],
   "source": [
    "str_network_2['edge'] = 1"
   ]
  },
  {
   "cell_type": "code",
   "execution_count": null,
   "metadata": {},
   "outputs": [],
   "source": [
    "str_network_2.sort_values(['#node1', 'node2']).to_csv('ppi_prior.tsv', columns=['#node1', 'node2', 'edge'], sep='\\t', header=None, index=False)"
   ]
  },
  {
   "cell_type": "code",
   "execution_count": null,
   "metadata": {},
   "outputs": [
    {
     "data": {
      "text/html": [
       "<div>\n",
       "<style scoped>\n",
       "    .dataframe tbody tr th:only-of-type {\n",
       "        vertical-align: middle;\n",
       "    }\n",
       "\n",
       "    .dataframe tbody tr th {\n",
       "        vertical-align: top;\n",
       "    }\n",
       "\n",
       "    .dataframe thead th {\n",
       "        text-align: right;\n",
       "    }\n",
       "</style>\n",
       "<table border=\"1\" class=\"dataframe\">\n",
       "  <thead>\n",
       "    <tr style=\"text-align: right;\">\n",
       "      <th></th>\n",
       "      <th>TF Name</th>\n",
       "      <th>Gene stable ID</th>\n",
       "      <th>Score</th>\n",
       "    </tr>\n",
       "  </thead>\n",
       "  <tbody>\n",
       "    <tr>\n",
       "      <th>4</th>\n",
       "      <td>ALX1</td>\n",
       "      <td>ENSG00000001084</td>\n",
       "      <td>529</td>\n",
       "    </tr>\n",
       "    <tr>\n",
       "      <th>5</th>\n",
       "      <td>ALX1</td>\n",
       "      <td>ENSG00000002079</td>\n",
       "      <td>545</td>\n",
       "    </tr>\n",
       "    <tr>\n",
       "      <th>34</th>\n",
       "      <td>ALX1</td>\n",
       "      <td>ENSG00000007350</td>\n",
       "      <td>509</td>\n",
       "    </tr>\n",
       "    <tr>\n",
       "      <th>36</th>\n",
       "      <td>ALX1</td>\n",
       "      <td>ENSG00000008197</td>\n",
       "      <td>542</td>\n",
       "    </tr>\n",
       "    <tr>\n",
       "      <th>39</th>\n",
       "      <td>ALX1</td>\n",
       "      <td>ENSG00000008394</td>\n",
       "      <td>513</td>\n",
       "    </tr>\n",
       "    <tr>\n",
       "      <th>...</th>\n",
       "      <td>...</td>\n",
       "      <td>...</td>\n",
       "      <td>...</td>\n",
       "    </tr>\n",
       "    <tr>\n",
       "      <th>10009360</th>\n",
       "      <td>ZSCAN4</td>\n",
       "      <td>ENSG00000291009</td>\n",
       "      <td>608</td>\n",
       "    </tr>\n",
       "    <tr>\n",
       "      <th>10009361</th>\n",
       "      <td>ZSCAN4</td>\n",
       "      <td>ENSG00000291013</td>\n",
       "      <td>585</td>\n",
       "    </tr>\n",
       "    <tr>\n",
       "      <th>10009382</th>\n",
       "      <td>ZSCAN4</td>\n",
       "      <td>ENSG00000291163</td>\n",
       "      <td>517</td>\n",
       "    </tr>\n",
       "    <tr>\n",
       "      <th>10009384</th>\n",
       "      <td>ZSCAN4</td>\n",
       "      <td>ENSG00000291173</td>\n",
       "      <td>626</td>\n",
       "    </tr>\n",
       "    <tr>\n",
       "      <th>10009385</th>\n",
       "      <td>ZSCAN4</td>\n",
       "      <td>ENSG00000291185</td>\n",
       "      <td>525</td>\n",
       "    </tr>\n",
       "  </tbody>\n",
       "</table>\n",
       "<p>1758979 rows × 3 columns</p>\n",
       "</div>"
      ],
      "text/plain": [
       "         TF Name   Gene stable ID  Score\n",
       "4           ALX1  ENSG00000001084    529\n",
       "5           ALX1  ENSG00000002079    545\n",
       "34          ALX1  ENSG00000007350    509\n",
       "36          ALX1  ENSG00000008197    542\n",
       "39          ALX1  ENSG00000008394    513\n",
       "...          ...              ...    ...\n",
       "10009360  ZSCAN4  ENSG00000291009    608\n",
       "10009361  ZSCAN4  ENSG00000291013    585\n",
       "10009382  ZSCAN4  ENSG00000291163    517\n",
       "10009384  ZSCAN4  ENSG00000291173    626\n",
       "10009385  ZSCAN4  ENSG00000291185    525\n",
       "\n",
       "[1758979 rows x 3 columns]"
      ]
     },
     "execution_count": 95,
     "metadata": {},
     "output_type": "execute_result"
    }
   ],
   "source": [
    "tf_df_final_2[tf_df_final_2['Score'] >= 500]"
   ]
  },
  {
   "cell_type": "code",
   "execution_count": null,
   "metadata": {},
   "outputs": [],
   "source": [
    "features = pd.read_csv('../stoat/input/data/wu_et_al_2021/1160920F/features.tsv', header=None, sep='\\t')"
   ]
  },
  {
   "cell_type": "code",
   "execution_count": null,
   "metadata": {},
   "outputs": [
    {
     "data": {
      "text/plain": [
       "0        ENSG00000243485\n",
       "1        ENSG00000237613\n",
       "2        ENSG00000186092\n",
       "3        ENSG00000238009\n",
       "4        ENSG00000239945\n",
       "              ...       \n",
       "36596    ENSG00000277836\n",
       "36597    ENSG00000278633\n",
       "36598    ENSG00000276017\n",
       "36599    ENSG00000278817\n",
       "36600    ENSG00000277196\n",
       "Name: 0, Length: 36601, dtype: object"
      ]
     },
     "execution_count": 117,
     "metadata": {},
     "output_type": "execute_result"
    }
   ],
   "source": [
    "features[0]"
   ]
  },
  {
   "cell_type": "code",
   "execution_count": null,
   "metadata": {},
   "outputs": [],
   "source": [
    "import numpy as np"
   ]
  },
  {
   "cell_type": "code",
   "execution_count": null,
   "metadata": {},
   "outputs": [],
   "source": [
    "expr_genes = pd.read_csv('../stoat/testing/expressed_genes.txt', header=None)"
   ]
  },
  {
   "cell_type": "code",
   "execution_count": null,
   "metadata": {},
   "outputs": [
    {
     "data": {
      "text/html": [
       "<div>\n",
       "<style scoped>\n",
       "    .dataframe tbody tr th:only-of-type {\n",
       "        vertical-align: middle;\n",
       "    }\n",
       "\n",
       "    .dataframe tbody tr th {\n",
       "        vertical-align: top;\n",
       "    }\n",
       "\n",
       "    .dataframe thead th {\n",
       "        text-align: right;\n",
       "    }\n",
       "</style>\n",
       "<table border=\"1\" class=\"dataframe\">\n",
       "  <thead>\n",
       "    <tr style=\"text-align: right;\">\n",
       "      <th></th>\n",
       "      <th>0</th>\n",
       "    </tr>\n",
       "  </thead>\n",
       "  <tbody>\n",
       "    <tr>\n",
       "      <th>0</th>\n",
       "      <td>ENSG00000238009</td>\n",
       "    </tr>\n",
       "    <tr>\n",
       "      <th>1</th>\n",
       "      <td>ENSG00000241860</td>\n",
       "    </tr>\n",
       "    <tr>\n",
       "      <th>2</th>\n",
       "      <td>ENSG00000286448</td>\n",
       "    </tr>\n",
       "    <tr>\n",
       "      <th>3</th>\n",
       "      <td>ENSG00000236601</td>\n",
       "    </tr>\n",
       "    <tr>\n",
       "      <th>4</th>\n",
       "      <td>ENSG00000235146</td>\n",
       "    </tr>\n",
       "    <tr>\n",
       "      <th>...</th>\n",
       "      <td>...</td>\n",
       "    </tr>\n",
       "    <tr>\n",
       "      <th>24225</th>\n",
       "      <td>ENSG00000278384</td>\n",
       "    </tr>\n",
       "    <tr>\n",
       "      <th>24226</th>\n",
       "      <td>ENSG00000273748</td>\n",
       "    </tr>\n",
       "    <tr>\n",
       "      <th>24227</th>\n",
       "      <td>ENSG00000271254</td>\n",
       "    </tr>\n",
       "    <tr>\n",
       "      <th>24228</th>\n",
       "      <td>ENSG00000278817</td>\n",
       "    </tr>\n",
       "    <tr>\n",
       "      <th>24229</th>\n",
       "      <td>ENSG00000277196</td>\n",
       "    </tr>\n",
       "  </tbody>\n",
       "</table>\n",
       "<p>24230 rows × 1 columns</p>\n",
       "</div>"
      ],
      "text/plain": [
       "                     0\n",
       "0      ENSG00000238009\n",
       "1      ENSG00000241860\n",
       "2      ENSG00000286448\n",
       "3      ENSG00000236601\n",
       "4      ENSG00000235146\n",
       "...                ...\n",
       "24225  ENSG00000278384\n",
       "24226  ENSG00000273748\n",
       "24227  ENSG00000271254\n",
       "24228  ENSG00000278817\n",
       "24229  ENSG00000277196\n",
       "\n",
       "[24230 rows x 1 columns]"
      ]
     },
     "execution_count": 116,
     "metadata": {},
     "output_type": "execute_result"
    }
   ],
   "source": [
    "expr_genes"
   ]
  },
  {
   "cell_type": "code",
   "execution_count": null,
   "metadata": {},
   "outputs": [],
   "source": [
    "tf_df_final_2_trimmed = tf_df_final_2[tf_df_final_2['Gene stable ID'].isin(expr_genes[0].values)].copy()"
   ]
  },
  {
   "cell_type": "code",
   "execution_count": null,
   "metadata": {},
   "outputs": [
    {
     "data": {
      "text/plain": [
       "24114"
      ]
     },
     "execution_count": 122,
     "metadata": {},
     "output_type": "execute_result"
    }
   ],
   "source": [
    "tf_df_final_2_trimmed['Gene stable ID'].nunique()"
   ]
  },
  {
   "cell_type": "code",
   "execution_count": null,
   "metadata": {},
   "outputs": [],
   "source": [
    "tf_df_final_2_trimmed.to_csv('tf_prior_trimmed.tsv', columns=['TF Name', 'Gene stable ID', 'Edge'], \n",
    "                             sep='\\t', header=None, index=False)"
   ]
  },
  {
   "cell_type": "code",
   "execution_count": null,
   "metadata": {},
   "outputs": [
    {
     "data": {
      "text/plain": [
       "672"
      ]
     },
     "execution_count": 124,
     "metadata": {},
     "output_type": "execute_result"
    }
   ],
   "source": [
    "tf_df_final_2_trimmed['TF Name'].nunique()"
   ]
  }
 ],
 "metadata": {
  "kernelspec": {
   "display_name": "Python 3.7.0 ('spring_dev')",
   "language": "python",
   "name": "python3"
  },
  "language_info": {
   "codemirror_mode": {
    "name": "ipython",
    "version": 3
   },
   "file_extension": ".py",
   "mimetype": "text/x-python",
   "name": "python",
   "nbconvert_exporter": "python",
   "pygments_lexer": "ipython3",
   "version": "3.8.15"
  },
  "orig_nbformat": 4,
  "vscode": {
   "interpreter": {
    "hash": "a9d6f1964c63bb6c6c221844abfe27f117b66e961563836b0ce887f1fbb684c9"
   }
  }
 },
 "nbformat": 4,
 "nbformat_minor": 2
}
