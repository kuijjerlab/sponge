{
 "cells": [
  {
   "cell_type": "code",
   "execution_count": 1,
   "metadata": {},
   "outputs": [],
   "source": [
    "import bioframe"
   ]
  },
  {
   "cell_type": "code",
   "execution_count": 2,
   "metadata": {},
   "outputs": [],
   "source": [
    "import numpy as np"
   ]
  },
  {
   "cell_type": "code",
   "execution_count": 3,
   "metadata": {},
   "outputs": [],
   "source": [
    "import pandas as pd"
   ]
  },
  {
   "cell_type": "code",
   "execution_count": 4,
   "metadata": {},
   "outputs": [],
   "source": [
    "import time"
   ]
  },
  {
   "cell_type": "code",
   "execution_count": 5,
   "metadata": {},
   "outputs": [],
   "source": [
    "from multiprocessing import Pool"
   ]
  },
  {
   "cell_type": "code",
   "execution_count": 6,
   "metadata": {},
   "outputs": [
    {
     "data": {
      "text/plain": [
       "['chrom', 'start', 'end', 'name', 'score', 'strand']"
      ]
     },
     "execution_count": 6,
     "metadata": {},
     "output_type": "execute_result"
    }
   ],
   "source": [
    "bioframe.SCHEMAS['bed']"
   ]
  },
  {
   "cell_type": "code",
   "execution_count": 7,
   "metadata": {},
   "outputs": [],
   "source": [
    "df_chr1 = bioframe.read_table('promoters_by_chromosome/hg38_fp_chr1.bed', schema='bed')"
   ]
  },
  {
   "cell_type": "code",
   "execution_count": 8,
   "metadata": {},
   "outputs": [
    {
     "data": {
      "text/html": [
       "<div>\n",
       "<style scoped>\n",
       "    .dataframe tbody tr th:only-of-type {\n",
       "        vertical-align: middle;\n",
       "    }\n",
       "\n",
       "    .dataframe tbody tr th {\n",
       "        vertical-align: top;\n",
       "    }\n",
       "\n",
       "    .dataframe thead th {\n",
       "        text-align: right;\n",
       "    }\n",
       "</style>\n",
       "<table border=\"1\" class=\"dataframe\">\n",
       "  <thead>\n",
       "    <tr style=\"text-align: right;\">\n",
       "      <th></th>\n",
       "      <th>chrom</th>\n",
       "      <th>start</th>\n",
       "      <th>end</th>\n",
       "      <th>name</th>\n",
       "      <th>score</th>\n",
       "      <th>strand</th>\n",
       "    </tr>\n",
       "  </thead>\n",
       "  <tbody>\n",
       "    <tr>\n",
       "      <th>0</th>\n",
       "      <td>chr1</td>\n",
       "      <td>11118</td>\n",
       "      <td>12118</td>\n",
       "      <td>ENST00000456328.2_up_750_chr1_11119_f</td>\n",
       "      <td>0</td>\n",
       "      <td>+</td>\n",
       "    </tr>\n",
       "    <tr>\n",
       "      <th>1</th>\n",
       "      <td>chr1</td>\n",
       "      <td>11259</td>\n",
       "      <td>12259</td>\n",
       "      <td>ENST00000450305.2_up_750_chr1_11260_f</td>\n",
       "      <td>0</td>\n",
       "      <td>+</td>\n",
       "    </tr>\n",
       "    <tr>\n",
       "      <th>2</th>\n",
       "      <td>chr1</td>\n",
       "      <td>29570</td>\n",
       "      <td>30570</td>\n",
       "      <td>ENST00000488147.1_up_750_chr1_29571_r</td>\n",
       "      <td>0</td>\n",
       "      <td>-</td>\n",
       "    </tr>\n",
       "    <tr>\n",
       "      <th>3</th>\n",
       "      <td>chr1</td>\n",
       "      <td>17436</td>\n",
       "      <td>18436</td>\n",
       "      <td>ENST00000619216.1_up_750_chr1_17437_r</td>\n",
       "      <td>0</td>\n",
       "      <td>-</td>\n",
       "    </tr>\n",
       "    <tr>\n",
       "      <th>4</th>\n",
       "      <td>chr1</td>\n",
       "      <td>28803</td>\n",
       "      <td>29803</td>\n",
       "      <td>ENST00000473358.1_up_750_chr1_28804_f</td>\n",
       "      <td>0</td>\n",
       "      <td>+</td>\n",
       "    </tr>\n",
       "    <tr>\n",
       "      <th>...</th>\n",
       "      <td>...</td>\n",
       "      <td>...</td>\n",
       "      <td>...</td>\n",
       "      <td>...</td>\n",
       "      <td>...</td>\n",
       "      <td>...</td>\n",
       "    </tr>\n",
       "    <tr>\n",
       "      <th>10784</th>\n",
       "      <td>chr1</td>\n",
       "      <td>248858413</td>\n",
       "      <td>248859413</td>\n",
       "      <td>ENST00000417047.1_up_750_chr1_248858414_f</td>\n",
       "      <td>0</td>\n",
       "      <td>+</td>\n",
       "    </tr>\n",
       "    <tr>\n",
       "      <th>10785</th>\n",
       "      <td>chr1</td>\n",
       "      <td>248905445</td>\n",
       "      <td>248906445</td>\n",
       "      <td>ENST00000355360.8_up_750_chr1_248905446_f</td>\n",
       "      <td>0</td>\n",
       "      <td>+</td>\n",
       "    </tr>\n",
       "    <tr>\n",
       "      <th>10786</th>\n",
       "      <td>chr1</td>\n",
       "      <td>248905484</td>\n",
       "      <td>248906484</td>\n",
       "      <td>ENST00000329291.6_up_750_chr1_248905485_f</td>\n",
       "      <td>0</td>\n",
       "      <td>+</td>\n",
       "    </tr>\n",
       "    <tr>\n",
       "      <th>10787</th>\n",
       "      <td>chr1</td>\n",
       "      <td>248912795</td>\n",
       "      <td>248913795</td>\n",
       "      <td>ENST00000363625.1_up_750_chr1_248912796_r</td>\n",
       "      <td>0</td>\n",
       "      <td>-</td>\n",
       "    </tr>\n",
       "    <tr>\n",
       "      <th>10788</th>\n",
       "      <td>chr1</td>\n",
       "      <td>248935830</td>\n",
       "      <td>248936830</td>\n",
       "      <td>ENST00000430973.1_up_750_chr1_248935831_f</td>\n",
       "      <td>0</td>\n",
       "      <td>+</td>\n",
       "    </tr>\n",
       "  </tbody>\n",
       "</table>\n",
       "<p>10789 rows × 6 columns</p>\n",
       "</div>"
      ],
      "text/plain": [
       "      chrom      start        end                                       name  \\\n",
       "0      chr1      11118      12118      ENST00000456328.2_up_750_chr1_11119_f   \n",
       "1      chr1      11259      12259      ENST00000450305.2_up_750_chr1_11260_f   \n",
       "2      chr1      29570      30570      ENST00000488147.1_up_750_chr1_29571_r   \n",
       "3      chr1      17436      18436      ENST00000619216.1_up_750_chr1_17437_r   \n",
       "4      chr1      28803      29803      ENST00000473358.1_up_750_chr1_28804_f   \n",
       "...     ...        ...        ...                                        ...   \n",
       "10784  chr1  248858413  248859413  ENST00000417047.1_up_750_chr1_248858414_f   \n",
       "10785  chr1  248905445  248906445  ENST00000355360.8_up_750_chr1_248905446_f   \n",
       "10786  chr1  248905484  248906484  ENST00000329291.6_up_750_chr1_248905485_f   \n",
       "10787  chr1  248912795  248913795  ENST00000363625.1_up_750_chr1_248912796_r   \n",
       "10788  chr1  248935830  248936830  ENST00000430973.1_up_750_chr1_248935831_f   \n",
       "\n",
       "       score strand  \n",
       "0          0      +  \n",
       "1          0      +  \n",
       "2          0      -  \n",
       "3          0      -  \n",
       "4          0      +  \n",
       "...      ...    ...  \n",
       "10784      0      +  \n",
       "10785      0      +  \n",
       "10786      0      +  \n",
       "10787      0      -  \n",
       "10788      0      +  \n",
       "\n",
       "[10789 rows x 6 columns]"
      ]
     },
     "execution_count": 8,
     "metadata": {},
     "output_type": "execute_result"
    }
   ],
   "source": [
    "df_chr1"
   ]
  },
  {
   "cell_type": "code",
   "execution_count": 15,
   "metadata": {},
   "outputs": [
    {
     "data": {
      "text/html": [
       "<div>\n",
       "<style scoped>\n",
       "    .dataframe tbody tr th:only-of-type {\n",
       "        vertical-align: middle;\n",
       "    }\n",
       "\n",
       "    .dataframe tbody tr th {\n",
       "        vertical-align: top;\n",
       "    }\n",
       "\n",
       "    .dataframe thead th {\n",
       "        text-align: right;\n",
       "    }\n",
       "</style>\n",
       "<table border=\"1\" class=\"dataframe\">\n",
       "  <thead>\n",
       "    <tr style=\"text-align: right;\">\n",
       "      <th></th>\n",
       "      <th>chrom</th>\n",
       "      <th>start</th>\n",
       "      <th>end</th>\n",
       "      <th>name</th>\n",
       "      <th>score</th>\n",
       "      <th>strand</th>\n",
       "      <th>TFName</th>\n",
       "    </tr>\n",
       "  </thead>\n",
       "  <tbody>\n",
       "    <tr>\n",
       "      <th>0</th>\n",
       "      <td>chr1</td>\n",
       "      <td>11109</td>\n",
       "      <td>11120</td>\n",
       "      <td>MA0748.2</td>\n",
       "      <td>308</td>\n",
       "      <td>+</td>\n",
       "      <td>YY2</td>\n",
       "    </tr>\n",
       "    <tr>\n",
       "      <th>1</th>\n",
       "      <td>chr1</td>\n",
       "      <td>11109</td>\n",
       "      <td>11121</td>\n",
       "      <td>MA1961.1</td>\n",
       "      <td>336</td>\n",
       "      <td>+</td>\n",
       "      <td>PATZ1</td>\n",
       "    </tr>\n",
       "    <tr>\n",
       "      <th>2</th>\n",
       "      <td>chr1</td>\n",
       "      <td>11110</td>\n",
       "      <td>11119</td>\n",
       "      <td>MA0671.1</td>\n",
       "      <td>225</td>\n",
       "      <td>-</td>\n",
       "      <td>NFIX</td>\n",
       "    </tr>\n",
       "    <tr>\n",
       "      <th>3</th>\n",
       "      <td>chr1</td>\n",
       "      <td>11110</td>\n",
       "      <td>11121</td>\n",
       "      <td>MA0741.1</td>\n",
       "      <td>326</td>\n",
       "      <td>-</td>\n",
       "      <td>KLF16</td>\n",
       "    </tr>\n",
       "    <tr>\n",
       "      <th>4</th>\n",
       "      <td>chr1</td>\n",
       "      <td>11110</td>\n",
       "      <td>11121</td>\n",
       "      <td>MA1513.1</td>\n",
       "      <td>313</td>\n",
       "      <td>-</td>\n",
       "      <td>KLF15</td>\n",
       "    </tr>\n",
       "    <tr>\n",
       "      <th>...</th>\n",
       "      <td>...</td>\n",
       "      <td>...</td>\n",
       "      <td>...</td>\n",
       "      <td>...</td>\n",
       "      <td>...</td>\n",
       "      <td>...</td>\n",
       "      <td>...</td>\n",
       "    </tr>\n",
       "    <tr>\n",
       "      <th>3671</th>\n",
       "      <td>chr1</td>\n",
       "      <td>12113</td>\n",
       "      <td>12120</td>\n",
       "      <td>MA0848.1</td>\n",
       "      <td>253</td>\n",
       "      <td>-</td>\n",
       "      <td>FOXO4</td>\n",
       "    </tr>\n",
       "    <tr>\n",
       "      <th>3672</th>\n",
       "      <td>chr1</td>\n",
       "      <td>12113</td>\n",
       "      <td>12120</td>\n",
       "      <td>MA0849.1</td>\n",
       "      <td>259</td>\n",
       "      <td>-</td>\n",
       "      <td>FOXO6</td>\n",
       "    </tr>\n",
       "    <tr>\n",
       "      <th>3673</th>\n",
       "      <td>chr1</td>\n",
       "      <td>12113</td>\n",
       "      <td>12120</td>\n",
       "      <td>MA0850.1</td>\n",
       "      <td>227</td>\n",
       "      <td>-</td>\n",
       "      <td>FOXP3</td>\n",
       "    </tr>\n",
       "    <tr>\n",
       "      <th>3674</th>\n",
       "      <td>chr1</td>\n",
       "      <td>12115</td>\n",
       "      <td>12125</td>\n",
       "      <td>MA1638.1</td>\n",
       "      <td>238</td>\n",
       "      <td>-</td>\n",
       "      <td>HAND2</td>\n",
       "    </tr>\n",
       "    <tr>\n",
       "      <th>3675</th>\n",
       "      <td>chr1</td>\n",
       "      <td>12117</td>\n",
       "      <td>12129</td>\n",
       "      <td>MA1646.1</td>\n",
       "      <td>325</td>\n",
       "      <td>-</td>\n",
       "      <td>OSR2</td>\n",
       "    </tr>\n",
       "  </tbody>\n",
       "</table>\n",
       "<p>3676 rows × 7 columns</p>\n",
       "</div>"
      ],
      "text/plain": [
       "     chrom  start    end      name  score strand TFName\n",
       "0     chr1  11109  11120  MA0748.2    308      +    YY2\n",
       "1     chr1  11109  11121  MA1961.1    336      +  PATZ1\n",
       "2     chr1  11110  11119  MA0671.1    225      -   NFIX\n",
       "3     chr1  11110  11121  MA0741.1    326      -  KLF16\n",
       "4     chr1  11110  11121  MA1513.1    313      -  KLF15\n",
       "...    ...    ...    ...       ...    ...    ...    ...\n",
       "3671  chr1  12113  12120  MA0848.1    253      -  FOXO4\n",
       "3672  chr1  12113  12120  MA0849.1    259      -  FOXO6\n",
       "3673  chr1  12113  12120  MA0850.1    227      -  FOXP3\n",
       "3674  chr1  12115  12125  MA1638.1    238      -  HAND2\n",
       "3675  chr1  12117  12129  MA1646.1    325      -   OSR2\n",
       "\n",
       "[3676 rows x 7 columns]"
      ]
     },
     "execution_count": 15,
     "metadata": {},
     "output_type": "execute_result"
    }
   ],
   "source": [
    "bb_file = 'JASPAR2022_hg38.bb'\n",
    "bioframe.read_bigbed(bb_file, \"chr1\", start=11118, end=12118)"
   ]
  },
  {
   "cell_type": "code",
   "execution_count": 45,
   "metadata": {},
   "outputs": [
    {
     "ename": "UnicodeDecodeError",
     "evalue": "'utf-8' codec can't decode byte 0xeb in position 0: invalid continuation byte",
     "output_type": "error",
     "traceback": [
      "\u001b[0;31m---------------------------------------------------------------------------\u001b[0m",
      "\u001b[0;31mUnicodeDecodeError\u001b[0m                        Traceback (most recent call last)",
      "Cell \u001b[0;32mIn [45], line 1\u001b[0m\n\u001b[0;32m----> 1\u001b[0m bioframe\u001b[39m.\u001b[39;49mread_chromsizes(bb_file)\n",
      "File \u001b[0;32m~/.conda/envs/spring_dev/lib/python3.8/site-packages/bioframe/io/fileops.py:128\u001b[0m, in \u001b[0;36mread_chromsizes\u001b[0;34m(filepath_or, filter_chroms, chrom_patterns, natsort, as_bed, **kwargs)\u001b[0m\n\u001b[1;32m    125\u001b[0m \u001b[39mif\u001b[39;00m \u001b[39misinstance\u001b[39m(filepath_or, \u001b[39mstr\u001b[39m) \u001b[39mand\u001b[39;00m filepath_or\u001b[39m.\u001b[39mendswith(\u001b[39m\"\u001b[39m\u001b[39m.gz\u001b[39m\u001b[39m\"\u001b[39m):\n\u001b[1;32m    126\u001b[0m     kwargs\u001b[39m.\u001b[39msetdefault(\u001b[39m\"\u001b[39m\u001b[39mcompression\u001b[39m\u001b[39m\"\u001b[39m, \u001b[39m\"\u001b[39m\u001b[39mgzip\u001b[39m\u001b[39m\"\u001b[39m)\n\u001b[0;32m--> 128\u001b[0m chromtable \u001b[39m=\u001b[39m pd\u001b[39m.\u001b[39;49mread_csv(\n\u001b[1;32m    129\u001b[0m     filepath_or,\n\u001b[1;32m    130\u001b[0m     sep\u001b[39m=\u001b[39;49m\u001b[39m\"\u001b[39;49m\u001b[39m\\t\u001b[39;49;00m\u001b[39m\"\u001b[39;49m,\n\u001b[1;32m    131\u001b[0m     usecols\u001b[39m=\u001b[39;49m[\u001b[39m0\u001b[39;49m, \u001b[39m1\u001b[39;49m],\n\u001b[1;32m    132\u001b[0m     names\u001b[39m=\u001b[39;49m[\u001b[39m\"\u001b[39;49m\u001b[39mname\u001b[39;49m\u001b[39m\"\u001b[39;49m, \u001b[39m\"\u001b[39;49m\u001b[39mlength\u001b[39;49m\u001b[39m\"\u001b[39;49m],\n\u001b[1;32m    133\u001b[0m     dtype\u001b[39m=\u001b[39;49m{\u001b[39m\"\u001b[39;49m\u001b[39mname\u001b[39;49m\u001b[39m\"\u001b[39;49m: \u001b[39mstr\u001b[39;49m},\n\u001b[1;32m    134\u001b[0m     \u001b[39m*\u001b[39;49m\u001b[39m*\u001b[39;49mkwargs\n\u001b[1;32m    135\u001b[0m )\n\u001b[1;32m    137\u001b[0m \u001b[39mif\u001b[39;00m filter_chroms:\n\u001b[1;32m    138\u001b[0m     parts \u001b[39m=\u001b[39m []\n",
      "File \u001b[0;32m~/.conda/envs/spring_dev/lib/python3.8/site-packages/pandas/util/_decorators.py:211\u001b[0m, in \u001b[0;36mdeprecate_kwarg.<locals>._deprecate_kwarg.<locals>.wrapper\u001b[0;34m(*args, **kwargs)\u001b[0m\n\u001b[1;32m    209\u001b[0m     \u001b[39melse\u001b[39;00m:\n\u001b[1;32m    210\u001b[0m         kwargs[new_arg_name] \u001b[39m=\u001b[39m new_arg_value\n\u001b[0;32m--> 211\u001b[0m \u001b[39mreturn\u001b[39;00m func(\u001b[39m*\u001b[39;49margs, \u001b[39m*\u001b[39;49m\u001b[39m*\u001b[39;49mkwargs)\n",
      "File \u001b[0;32m~/.conda/envs/spring_dev/lib/python3.8/site-packages/pandas/util/_decorators.py:331\u001b[0m, in \u001b[0;36mdeprecate_nonkeyword_arguments.<locals>.decorate.<locals>.wrapper\u001b[0;34m(*args, **kwargs)\u001b[0m\n\u001b[1;32m    325\u001b[0m \u001b[39mif\u001b[39;00m \u001b[39mlen\u001b[39m(args) \u001b[39m>\u001b[39m num_allow_args:\n\u001b[1;32m    326\u001b[0m     warnings\u001b[39m.\u001b[39mwarn(\n\u001b[1;32m    327\u001b[0m         msg\u001b[39m.\u001b[39mformat(arguments\u001b[39m=\u001b[39m_format_argument_list(allow_args)),\n\u001b[1;32m    328\u001b[0m         \u001b[39mFutureWarning\u001b[39;00m,\n\u001b[1;32m    329\u001b[0m         stacklevel\u001b[39m=\u001b[39mfind_stack_level(),\n\u001b[1;32m    330\u001b[0m     )\n\u001b[0;32m--> 331\u001b[0m \u001b[39mreturn\u001b[39;00m func(\u001b[39m*\u001b[39;49margs, \u001b[39m*\u001b[39;49m\u001b[39m*\u001b[39;49mkwargs)\n",
      "File \u001b[0;32m~/.conda/envs/spring_dev/lib/python3.8/site-packages/pandas/io/parsers/readers.py:950\u001b[0m, in \u001b[0;36mread_csv\u001b[0;34m(filepath_or_buffer, sep, delimiter, header, names, index_col, usecols, squeeze, prefix, mangle_dupe_cols, dtype, engine, converters, true_values, false_values, skipinitialspace, skiprows, skipfooter, nrows, na_values, keep_default_na, na_filter, verbose, skip_blank_lines, parse_dates, infer_datetime_format, keep_date_col, date_parser, dayfirst, cache_dates, iterator, chunksize, compression, thousands, decimal, lineterminator, quotechar, quoting, doublequote, escapechar, comment, encoding, encoding_errors, dialect, error_bad_lines, warn_bad_lines, on_bad_lines, delim_whitespace, low_memory, memory_map, float_precision, storage_options)\u001b[0m\n\u001b[1;32m    935\u001b[0m kwds_defaults \u001b[39m=\u001b[39m _refine_defaults_read(\n\u001b[1;32m    936\u001b[0m     dialect,\n\u001b[1;32m    937\u001b[0m     delimiter,\n\u001b[0;32m   (...)\u001b[0m\n\u001b[1;32m    946\u001b[0m     defaults\u001b[39m=\u001b[39m{\u001b[39m\"\u001b[39m\u001b[39mdelimiter\u001b[39m\u001b[39m\"\u001b[39m: \u001b[39m\"\u001b[39m\u001b[39m,\u001b[39m\u001b[39m\"\u001b[39m},\n\u001b[1;32m    947\u001b[0m )\n\u001b[1;32m    948\u001b[0m kwds\u001b[39m.\u001b[39mupdate(kwds_defaults)\n\u001b[0;32m--> 950\u001b[0m \u001b[39mreturn\u001b[39;00m _read(filepath_or_buffer, kwds)\n",
      "File \u001b[0;32m~/.conda/envs/spring_dev/lib/python3.8/site-packages/pandas/io/parsers/readers.py:605\u001b[0m, in \u001b[0;36m_read\u001b[0;34m(filepath_or_buffer, kwds)\u001b[0m\n\u001b[1;32m    602\u001b[0m _validate_names(kwds\u001b[39m.\u001b[39mget(\u001b[39m\"\u001b[39m\u001b[39mnames\u001b[39m\u001b[39m\"\u001b[39m, \u001b[39mNone\u001b[39;00m))\n\u001b[1;32m    604\u001b[0m \u001b[39m# Create the parser.\u001b[39;00m\n\u001b[0;32m--> 605\u001b[0m parser \u001b[39m=\u001b[39m TextFileReader(filepath_or_buffer, \u001b[39m*\u001b[39;49m\u001b[39m*\u001b[39;49mkwds)\n\u001b[1;32m    607\u001b[0m \u001b[39mif\u001b[39;00m chunksize \u001b[39mor\u001b[39;00m iterator:\n\u001b[1;32m    608\u001b[0m     \u001b[39mreturn\u001b[39;00m parser\n",
      "File \u001b[0;32m~/.conda/envs/spring_dev/lib/python3.8/site-packages/pandas/io/parsers/readers.py:1442\u001b[0m, in \u001b[0;36mTextFileReader.__init__\u001b[0;34m(self, f, engine, **kwds)\u001b[0m\n\u001b[1;32m   1439\u001b[0m     \u001b[39mself\u001b[39m\u001b[39m.\u001b[39moptions[\u001b[39m\"\u001b[39m\u001b[39mhas_index_names\u001b[39m\u001b[39m\"\u001b[39m] \u001b[39m=\u001b[39m kwds[\u001b[39m\"\u001b[39m\u001b[39mhas_index_names\u001b[39m\u001b[39m\"\u001b[39m]\n\u001b[1;32m   1441\u001b[0m \u001b[39mself\u001b[39m\u001b[39m.\u001b[39mhandles: IOHandles \u001b[39m|\u001b[39m \u001b[39mNone\u001b[39;00m \u001b[39m=\u001b[39m \u001b[39mNone\u001b[39;00m\n\u001b[0;32m-> 1442\u001b[0m \u001b[39mself\u001b[39m\u001b[39m.\u001b[39m_engine \u001b[39m=\u001b[39m \u001b[39mself\u001b[39;49m\u001b[39m.\u001b[39;49m_make_engine(f, \u001b[39mself\u001b[39;49m\u001b[39m.\u001b[39;49mengine)\n",
      "File \u001b[0;32m~/.conda/envs/spring_dev/lib/python3.8/site-packages/pandas/io/parsers/readers.py:1753\u001b[0m, in \u001b[0;36mTextFileReader._make_engine\u001b[0;34m(self, f, engine)\u001b[0m\n\u001b[1;32m   1750\u001b[0m     \u001b[39mraise\u001b[39;00m \u001b[39mValueError\u001b[39;00m(msg)\n\u001b[1;32m   1752\u001b[0m \u001b[39mtry\u001b[39;00m:\n\u001b[0;32m-> 1753\u001b[0m     \u001b[39mreturn\u001b[39;00m mapping[engine](f, \u001b[39m*\u001b[39;49m\u001b[39m*\u001b[39;49m\u001b[39mself\u001b[39;49m\u001b[39m.\u001b[39;49moptions)\n\u001b[1;32m   1754\u001b[0m \u001b[39mexcept\u001b[39;00m \u001b[39mException\u001b[39;00m:\n\u001b[1;32m   1755\u001b[0m     \u001b[39mif\u001b[39;00m \u001b[39mself\u001b[39m\u001b[39m.\u001b[39mhandles \u001b[39mis\u001b[39;00m \u001b[39mnot\u001b[39;00m \u001b[39mNone\u001b[39;00m:\n",
      "File \u001b[0;32m~/.conda/envs/spring_dev/lib/python3.8/site-packages/pandas/io/parsers/c_parser_wrapper.py:79\u001b[0m, in \u001b[0;36mCParserWrapper.__init__\u001b[0;34m(self, src, **kwds)\u001b[0m\n\u001b[1;32m     76\u001b[0m     kwds\u001b[39m.\u001b[39mpop(key, \u001b[39mNone\u001b[39;00m)\n\u001b[1;32m     78\u001b[0m kwds[\u001b[39m\"\u001b[39m\u001b[39mdtype\u001b[39m\u001b[39m\"\u001b[39m] \u001b[39m=\u001b[39m ensure_dtype_objs(kwds\u001b[39m.\u001b[39mget(\u001b[39m\"\u001b[39m\u001b[39mdtype\u001b[39m\u001b[39m\"\u001b[39m, \u001b[39mNone\u001b[39;00m))\n\u001b[0;32m---> 79\u001b[0m \u001b[39mself\u001b[39m\u001b[39m.\u001b[39m_reader \u001b[39m=\u001b[39m parsers\u001b[39m.\u001b[39;49mTextReader(src, \u001b[39m*\u001b[39;49m\u001b[39m*\u001b[39;49mkwds)\n\u001b[1;32m     81\u001b[0m \u001b[39mself\u001b[39m\u001b[39m.\u001b[39munnamed_cols \u001b[39m=\u001b[39m \u001b[39mself\u001b[39m\u001b[39m.\u001b[39m_reader\u001b[39m.\u001b[39munnamed_cols\n\u001b[1;32m     83\u001b[0m \u001b[39m# error: Cannot determine type of 'names'\u001b[39;00m\n",
      "File \u001b[0;32m~/.conda/envs/spring_dev/lib/python3.8/site-packages/pandas/_libs/parsers.pyx:547\u001b[0m, in \u001b[0;36mpandas._libs.parsers.TextReader.__cinit__\u001b[0;34m()\u001b[0m\n",
      "File \u001b[0;32m~/.conda/envs/spring_dev/lib/python3.8/site-packages/pandas/_libs/parsers.pyx:737\u001b[0m, in \u001b[0;36mpandas._libs.parsers.TextReader._get_header\u001b[0;34m()\u001b[0m\n",
      "File \u001b[0;32m~/.conda/envs/spring_dev/lib/python3.8/site-packages/pandas/_libs/parsers.pyx:852\u001b[0m, in \u001b[0;36mpandas._libs.parsers.TextReader._tokenize_rows\u001b[0;34m()\u001b[0m\n",
      "File \u001b[0;32m~/.conda/envs/spring_dev/lib/python3.8/site-packages/pandas/_libs/parsers.pyx:1965\u001b[0m, in \u001b[0;36mpandas._libs.parsers.raise_parser_error\u001b[0;34m()\u001b[0m\n",
      "\u001b[0;31mUnicodeDecodeError\u001b[0m: 'utf-8' codec can't decode byte 0xeb in position 0: invalid continuation byte"
     ]
    }
   ],
   "source": [
    "bioframe.read_chromsizes(bb_file)"
   ]
  },
  {
   "cell_type": "code",
   "execution_count": 10,
   "metadata": {},
   "outputs": [
    {
     "data": {
      "text/html": [
       "<div>\n",
       "<style scoped>\n",
       "    .dataframe tbody tr th:only-of-type {\n",
       "        vertical-align: middle;\n",
       "    }\n",
       "\n",
       "    .dataframe tbody tr th {\n",
       "        vertical-align: top;\n",
       "    }\n",
       "\n",
       "    .dataframe thead th {\n",
       "        text-align: right;\n",
       "    }\n",
       "</style>\n",
       "<table border=\"1\" class=\"dataframe\">\n",
       "  <thead>\n",
       "    <tr style=\"text-align: right;\">\n",
       "      <th></th>\n",
       "      <th>chrom</th>\n",
       "      <th>start</th>\n",
       "      <th>end</th>\n",
       "      <th>name</th>\n",
       "      <th>score</th>\n",
       "      <th>strand</th>\n",
       "      <th>TFName</th>\n",
       "    </tr>\n",
       "  </thead>\n",
       "  <tbody>\n",
       "    <tr>\n",
       "      <th>0</th>\n",
       "      <td>chr1</td>\n",
       "      <td>11109</td>\n",
       "      <td>11120</td>\n",
       "      <td>MA0748.2</td>\n",
       "      <td>308</td>\n",
       "      <td>+</td>\n",
       "      <td>YY2</td>\n",
       "    </tr>\n",
       "    <tr>\n",
       "      <th>1</th>\n",
       "      <td>chr1</td>\n",
       "      <td>11109</td>\n",
       "      <td>11121</td>\n",
       "      <td>MA1961.1</td>\n",
       "      <td>336</td>\n",
       "      <td>+</td>\n",
       "      <td>PATZ1</td>\n",
       "    </tr>\n",
       "    <tr>\n",
       "      <th>2</th>\n",
       "      <td>chr1</td>\n",
       "      <td>11110</td>\n",
       "      <td>11119</td>\n",
       "      <td>MA0671.1</td>\n",
       "      <td>225</td>\n",
       "      <td>-</td>\n",
       "      <td>NFIX</td>\n",
       "    </tr>\n",
       "    <tr>\n",
       "      <th>3</th>\n",
       "      <td>chr1</td>\n",
       "      <td>11110</td>\n",
       "      <td>11121</td>\n",
       "      <td>MA0741.1</td>\n",
       "      <td>326</td>\n",
       "      <td>-</td>\n",
       "      <td>KLF16</td>\n",
       "    </tr>\n",
       "    <tr>\n",
       "      <th>4</th>\n",
       "      <td>chr1</td>\n",
       "      <td>11110</td>\n",
       "      <td>11121</td>\n",
       "      <td>MA1513.1</td>\n",
       "      <td>313</td>\n",
       "      <td>-</td>\n",
       "      <td>KLF15</td>\n",
       "    </tr>\n",
       "    <tr>\n",
       "      <th>...</th>\n",
       "      <td>...</td>\n",
       "      <td>...</td>\n",
       "      <td>...</td>\n",
       "      <td>...</td>\n",
       "      <td>...</td>\n",
       "      <td>...</td>\n",
       "      <td>...</td>\n",
       "    </tr>\n",
       "    <tr>\n",
       "      <th>3671</th>\n",
       "      <td>chr1</td>\n",
       "      <td>12113</td>\n",
       "      <td>12120</td>\n",
       "      <td>MA0848.1</td>\n",
       "      <td>253</td>\n",
       "      <td>-</td>\n",
       "      <td>FOXO4</td>\n",
       "    </tr>\n",
       "    <tr>\n",
       "      <th>3672</th>\n",
       "      <td>chr1</td>\n",
       "      <td>12113</td>\n",
       "      <td>12120</td>\n",
       "      <td>MA0849.1</td>\n",
       "      <td>259</td>\n",
       "      <td>-</td>\n",
       "      <td>FOXO6</td>\n",
       "    </tr>\n",
       "    <tr>\n",
       "      <th>3673</th>\n",
       "      <td>chr1</td>\n",
       "      <td>12113</td>\n",
       "      <td>12120</td>\n",
       "      <td>MA0850.1</td>\n",
       "      <td>227</td>\n",
       "      <td>-</td>\n",
       "      <td>FOXP3</td>\n",
       "    </tr>\n",
       "    <tr>\n",
       "      <th>3674</th>\n",
       "      <td>chr1</td>\n",
       "      <td>12115</td>\n",
       "      <td>12125</td>\n",
       "      <td>MA1638.1</td>\n",
       "      <td>238</td>\n",
       "      <td>-</td>\n",
       "      <td>HAND2</td>\n",
       "    </tr>\n",
       "    <tr>\n",
       "      <th>3675</th>\n",
       "      <td>chr1</td>\n",
       "      <td>12117</td>\n",
       "      <td>12129</td>\n",
       "      <td>MA1646.1</td>\n",
       "      <td>325</td>\n",
       "      <td>-</td>\n",
       "      <td>OSR2</td>\n",
       "    </tr>\n",
       "  </tbody>\n",
       "</table>\n",
       "<p>3676 rows × 7 columns</p>\n",
       "</div>"
      ],
      "text/plain": [
       "     chrom  start    end      name  score strand TFName\n",
       "0     chr1  11109  11120  MA0748.2    308      +    YY2\n",
       "1     chr1  11109  11121  MA1961.1    336      +  PATZ1\n",
       "2     chr1  11110  11119  MA0671.1    225      -   NFIX\n",
       "3     chr1  11110  11121  MA0741.1    326      -  KLF16\n",
       "4     chr1  11110  11121  MA1513.1    313      -  KLF15\n",
       "...    ...    ...    ...       ...    ...    ...    ...\n",
       "3671  chr1  12113  12120  MA0848.1    253      -  FOXO4\n",
       "3672  chr1  12113  12120  MA0849.1    259      -  FOXO6\n",
       "3673  chr1  12113  12120  MA0850.1    227      -  FOXP3\n",
       "3674  chr1  12115  12125  MA1638.1    238      -  HAND2\n",
       "3675  chr1  12117  12129  MA1646.1    325      -   OSR2\n",
       "\n",
       "[3676 rows x 7 columns]"
      ]
     },
     "execution_count": 10,
     "metadata": {},
     "output_type": "execute_result"
    }
   ],
   "source": [
    "bb_url = 'http://expdata.cmmt.ubc.ca/JASPAR/downloads/UCSC_tracks/2022/JASPAR2022_hg38.bb'\n",
    "bioframe.read_bigbed(bb_url, \"chr1\", start=11118, end=12118)"
   ]
  },
  {
   "cell_type": "code",
   "execution_count": 11,
   "metadata": {},
   "outputs": [],
   "source": [
    "df_chr1 = bioframe.read_table('promoters_by_chromosome/hg38_fp_chr1.bed', schema='bed')\n",
    "df_chr1['name'] = df_chr1['name'].apply(lambda x: x.split('.')[0])\n",
    "df_chr1.drop(columns=['score', 'strand'], inplace=True)\n",
    "df_chr1.set_index('name', inplace=True)"
   ]
  },
  {
   "cell_type": "code",
   "execution_count": 12,
   "metadata": {},
   "outputs": [
    {
     "data": {
      "text/html": [
       "<div>\n",
       "<style scoped>\n",
       "    .dataframe tbody tr th:only-of-type {\n",
       "        vertical-align: middle;\n",
       "    }\n",
       "\n",
       "    .dataframe tbody tr th {\n",
       "        vertical-align: top;\n",
       "    }\n",
       "\n",
       "    .dataframe thead th {\n",
       "        text-align: right;\n",
       "    }\n",
       "</style>\n",
       "<table border=\"1\" class=\"dataframe\">\n",
       "  <thead>\n",
       "    <tr style=\"text-align: right;\">\n",
       "      <th></th>\n",
       "      <th>chrom</th>\n",
       "      <th>start</th>\n",
       "      <th>end</th>\n",
       "    </tr>\n",
       "    <tr>\n",
       "      <th>name</th>\n",
       "      <th></th>\n",
       "      <th></th>\n",
       "      <th></th>\n",
       "    </tr>\n",
       "  </thead>\n",
       "  <tbody>\n",
       "    <tr>\n",
       "      <th>ENST00000456328</th>\n",
       "      <td>chr1</td>\n",
       "      <td>11118</td>\n",
       "      <td>12118</td>\n",
       "    </tr>\n",
       "    <tr>\n",
       "      <th>ENST00000450305</th>\n",
       "      <td>chr1</td>\n",
       "      <td>11259</td>\n",
       "      <td>12259</td>\n",
       "    </tr>\n",
       "    <tr>\n",
       "      <th>ENST00000488147</th>\n",
       "      <td>chr1</td>\n",
       "      <td>29570</td>\n",
       "      <td>30570</td>\n",
       "    </tr>\n",
       "    <tr>\n",
       "      <th>ENST00000619216</th>\n",
       "      <td>chr1</td>\n",
       "      <td>17436</td>\n",
       "      <td>18436</td>\n",
       "    </tr>\n",
       "    <tr>\n",
       "      <th>ENST00000473358</th>\n",
       "      <td>chr1</td>\n",
       "      <td>28803</td>\n",
       "      <td>29803</td>\n",
       "    </tr>\n",
       "  </tbody>\n",
       "</table>\n",
       "</div>"
      ],
      "text/plain": [
       "                chrom  start    end\n",
       "name                               \n",
       "ENST00000456328  chr1  11118  12118\n",
       "ENST00000450305  chr1  11259  12259\n",
       "ENST00000488147  chr1  29570  30570\n",
       "ENST00000619216  chr1  17436  18436\n",
       "ENST00000473358  chr1  28803  29803"
      ]
     },
     "execution_count": 12,
     "metadata": {},
     "output_type": "execute_result"
    }
   ],
   "source": [
    "df_chr1.head()"
   ]
  },
  {
   "cell_type": "code",
   "execution_count": 17,
   "metadata": {},
   "outputs": [],
   "source": [
    "tf_list = np.loadtxt('filtered_tfs_original.txt', dtype=str)"
   ]
  },
  {
   "cell_type": "code",
   "execution_count": 18,
   "metadata": {},
   "outputs": [],
   "source": [
    "tf_list = set(tf_list)"
   ]
  },
  {
   "cell_type": "code",
   "execution_count": 15,
   "metadata": {},
   "outputs": [],
   "source": [
    "test_motifs = bioframe.read_bigbed(bb_file, \"chr1\", start=11118, end=12118)"
   ]
  },
  {
   "cell_type": "code",
   "execution_count": 16,
   "metadata": {},
   "outputs": [
    {
     "data": {
      "text/html": [
       "<div>\n",
       "<style scoped>\n",
       "    .dataframe tbody tr th:only-of-type {\n",
       "        vertical-align: middle;\n",
       "    }\n",
       "\n",
       "    .dataframe tbody tr th {\n",
       "        vertical-align: top;\n",
       "    }\n",
       "\n",
       "    .dataframe thead th {\n",
       "        text-align: right;\n",
       "    }\n",
       "</style>\n",
       "<table border=\"1\" class=\"dataframe\">\n",
       "  <thead>\n",
       "    <tr style=\"text-align: right;\">\n",
       "      <th></th>\n",
       "      <th>chrom</th>\n",
       "      <th>start</th>\n",
       "      <th>end</th>\n",
       "      <th>name</th>\n",
       "      <th>score</th>\n",
       "      <th>strand</th>\n",
       "      <th>TFName</th>\n",
       "    </tr>\n",
       "  </thead>\n",
       "  <tbody>\n",
       "    <tr>\n",
       "      <th>0</th>\n",
       "      <td>chr1</td>\n",
       "      <td>11109</td>\n",
       "      <td>11120</td>\n",
       "      <td>MA0748.2</td>\n",
       "      <td>308</td>\n",
       "      <td>+</td>\n",
       "      <td>YY2</td>\n",
       "    </tr>\n",
       "    <tr>\n",
       "      <th>1</th>\n",
       "      <td>chr1</td>\n",
       "      <td>11109</td>\n",
       "      <td>11121</td>\n",
       "      <td>MA1961.1</td>\n",
       "      <td>336</td>\n",
       "      <td>+</td>\n",
       "      <td>PATZ1</td>\n",
       "    </tr>\n",
       "    <tr>\n",
       "      <th>2</th>\n",
       "      <td>chr1</td>\n",
       "      <td>11110</td>\n",
       "      <td>11119</td>\n",
       "      <td>MA0671.1</td>\n",
       "      <td>225</td>\n",
       "      <td>-</td>\n",
       "      <td>NFIX</td>\n",
       "    </tr>\n",
       "    <tr>\n",
       "      <th>3</th>\n",
       "      <td>chr1</td>\n",
       "      <td>11110</td>\n",
       "      <td>11121</td>\n",
       "      <td>MA0741.1</td>\n",
       "      <td>326</td>\n",
       "      <td>-</td>\n",
       "      <td>KLF16</td>\n",
       "    </tr>\n",
       "    <tr>\n",
       "      <th>4</th>\n",
       "      <td>chr1</td>\n",
       "      <td>11110</td>\n",
       "      <td>11121</td>\n",
       "      <td>MA1513.1</td>\n",
       "      <td>313</td>\n",
       "      <td>-</td>\n",
       "      <td>KLF15</td>\n",
       "    </tr>\n",
       "  </tbody>\n",
       "</table>\n",
       "</div>"
      ],
      "text/plain": [
       "  chrom  start    end      name  score strand TFName\n",
       "0  chr1  11109  11120  MA0748.2    308      +    YY2\n",
       "1  chr1  11109  11121  MA1961.1    336      +  PATZ1\n",
       "2  chr1  11110  11119  MA0671.1    225      -   NFIX\n",
       "3  chr1  11110  11121  MA0741.1    326      -  KLF16\n",
       "4  chr1  11110  11121  MA1513.1    313      -  KLF15"
      ]
     },
     "execution_count": 16,
     "metadata": {},
     "output_type": "execute_result"
    }
   ],
   "source": [
    "test_motifs.head()"
   ]
  },
  {
   "cell_type": "code",
   "execution_count": 17,
   "metadata": {},
   "outputs": [],
   "source": [
    "max_scores = test_motifs[test_motifs['TFName'].isin(tf_list)].groupby('TFName')[['score', 'name']].max()"
   ]
  },
  {
   "cell_type": "code",
   "execution_count": 18,
   "metadata": {},
   "outputs": [
    {
     "data": {
      "text/html": [
       "<div>\n",
       "<style scoped>\n",
       "    .dataframe tbody tr th:only-of-type {\n",
       "        vertical-align: middle;\n",
       "    }\n",
       "\n",
       "    .dataframe tbody tr th {\n",
       "        vertical-align: top;\n",
       "    }\n",
       "\n",
       "    .dataframe thead th {\n",
       "        text-align: right;\n",
       "    }\n",
       "</style>\n",
       "<table border=\"1\" class=\"dataframe\">\n",
       "  <thead>\n",
       "    <tr style=\"text-align: right;\">\n",
       "      <th></th>\n",
       "      <th>score</th>\n",
       "      <th>name</th>\n",
       "    </tr>\n",
       "    <tr>\n",
       "      <th>TFName</th>\n",
       "      <th></th>\n",
       "      <th></th>\n",
       "    </tr>\n",
       "  </thead>\n",
       "  <tbody>\n",
       "    <tr>\n",
       "      <th>ASCL1</th>\n",
       "      <td>458</td>\n",
       "      <td>MA1631.1</td>\n",
       "    </tr>\n",
       "    <tr>\n",
       "      <th>ATOH7</th>\n",
       "      <td>471</td>\n",
       "      <td>MA1468.1</td>\n",
       "    </tr>\n",
       "    <tr>\n",
       "      <th>Ascl2</th>\n",
       "      <td>424</td>\n",
       "      <td>MA0816.1</td>\n",
       "    </tr>\n",
       "    <tr>\n",
       "      <th>BCL6</th>\n",
       "      <td>454</td>\n",
       "      <td>MA0463.2</td>\n",
       "    </tr>\n",
       "    <tr>\n",
       "      <th>BHLHA15</th>\n",
       "      <td>407</td>\n",
       "      <td>MA0607.2</td>\n",
       "    </tr>\n",
       "    <tr>\n",
       "      <th>...</th>\n",
       "      <td>...</td>\n",
       "      <td>...</td>\n",
       "    </tr>\n",
       "    <tr>\n",
       "      <th>ZNF682</th>\n",
       "      <td>501</td>\n",
       "      <td>MA1599.1</td>\n",
       "    </tr>\n",
       "    <tr>\n",
       "      <th>ZNF768</th>\n",
       "      <td>430</td>\n",
       "      <td>MA1731.1</td>\n",
       "    </tr>\n",
       "    <tr>\n",
       "      <th>Zfp335</th>\n",
       "      <td>402</td>\n",
       "      <td>MA2002.1</td>\n",
       "    </tr>\n",
       "    <tr>\n",
       "      <th>Zfx</th>\n",
       "      <td>512</td>\n",
       "      <td>MA0146.2</td>\n",
       "    </tr>\n",
       "    <tr>\n",
       "      <th>Zic2</th>\n",
       "      <td>457</td>\n",
       "      <td>MA1629.1</td>\n",
       "    </tr>\n",
       "  </tbody>\n",
       "</table>\n",
       "<p>146 rows × 2 columns</p>\n",
       "</div>"
      ],
      "text/plain": [
       "         score      name\n",
       "TFName                  \n",
       "ASCL1      458  MA1631.1\n",
       "ATOH7      471  MA1468.1\n",
       "Ascl2      424  MA0816.1\n",
       "BCL6       454  MA0463.2\n",
       "BHLHA15    407  MA0607.2\n",
       "...        ...       ...\n",
       "ZNF682     501  MA1599.1\n",
       "ZNF768     430  MA1731.1\n",
       "Zfp335     402  MA2002.1\n",
       "Zfx        512  MA0146.2\n",
       "Zic2       457  MA1629.1\n",
       "\n",
       "[146 rows x 2 columns]"
      ]
     },
     "execution_count": 18,
     "metadata": {},
     "output_type": "execute_result"
    }
   ],
   "source": [
    "max_scores[max_scores['score'] >= 400]"
   ]
  },
  {
   "cell_type": "code",
   "execution_count": 19,
   "metadata": {},
   "outputs": [
    {
     "name": "stdout",
     "output_type": "stream",
     "text": [
      "Elapsed time: 0 m 4.75 s\n"
     ]
    }
   ],
   "source": [
    "start_time = time.time()\n",
    "edges = pd.DataFrame()\n",
    "for transcript in df_chr1.index[:100]:\n",
    "    start,end = df_chr1.loc[transcript][['start', 'end']]\n",
    "    motifs = bioframe.read_bigbed(bb_file, \"chr1\", start=start, end=end)\n",
    "    max_scores = motifs[motifs['TFName'].isin(tf_list)].groupby('TFName')[['score', 'name']].max()\n",
    "    max_scores = max_scores[max_scores['score'] >= 400]\n",
    "    max_scores.reset_index(inplace=True)\n",
    "    max_scores['transcript'] = transcript\n",
    "    edges = pd.concat((edges, max_scores))\n",
    "elapsed = time.time() - start_time\n",
    "print ('Elapsed time: {:n} m {:.2f} s'.format(elapsed // 60, elapsed % 60))"
   ]
  },
  {
   "cell_type": "code",
   "execution_count": 20,
   "metadata": {},
   "outputs": [
    {
     "data": {
      "text/html": [
       "<div>\n",
       "<style scoped>\n",
       "    .dataframe tbody tr th:only-of-type {\n",
       "        vertical-align: middle;\n",
       "    }\n",
       "\n",
       "    .dataframe tbody tr th {\n",
       "        vertical-align: top;\n",
       "    }\n",
       "\n",
       "    .dataframe thead th {\n",
       "        text-align: right;\n",
       "    }\n",
       "</style>\n",
       "<table border=\"1\" class=\"dataframe\">\n",
       "  <thead>\n",
       "    <tr style=\"text-align: right;\">\n",
       "      <th></th>\n",
       "      <th>TFName</th>\n",
       "      <th>score</th>\n",
       "      <th>name</th>\n",
       "      <th>transcript</th>\n",
       "    </tr>\n",
       "  </thead>\n",
       "  <tbody>\n",
       "    <tr>\n",
       "      <th>0</th>\n",
       "      <td>ASCL1</td>\n",
       "      <td>458</td>\n",
       "      <td>MA1631.1</td>\n",
       "      <td>ENST00000456328</td>\n",
       "    </tr>\n",
       "    <tr>\n",
       "      <th>1</th>\n",
       "      <td>ATOH7</td>\n",
       "      <td>471</td>\n",
       "      <td>MA1468.1</td>\n",
       "      <td>ENST00000456328</td>\n",
       "    </tr>\n",
       "    <tr>\n",
       "      <th>2</th>\n",
       "      <td>Ascl2</td>\n",
       "      <td>424</td>\n",
       "      <td>MA0816.1</td>\n",
       "      <td>ENST00000456328</td>\n",
       "    </tr>\n",
       "    <tr>\n",
       "      <th>3</th>\n",
       "      <td>BCL6</td>\n",
       "      <td>454</td>\n",
       "      <td>MA0463.2</td>\n",
       "      <td>ENST00000456328</td>\n",
       "    </tr>\n",
       "    <tr>\n",
       "      <th>4</th>\n",
       "      <td>BHLHA15</td>\n",
       "      <td>407</td>\n",
       "      <td>MA0607.2</td>\n",
       "      <td>ENST00000456328</td>\n",
       "    </tr>\n",
       "    <tr>\n",
       "      <th>...</th>\n",
       "      <td>...</td>\n",
       "      <td>...</td>\n",
       "      <td>...</td>\n",
       "      <td>...</td>\n",
       "    </tr>\n",
       "    <tr>\n",
       "      <th>136</th>\n",
       "      <td>ZNF701</td>\n",
       "      <td>413</td>\n",
       "      <td>MA1987.1</td>\n",
       "      <td>ENST00000379409</td>\n",
       "    </tr>\n",
       "    <tr>\n",
       "      <th>137</th>\n",
       "      <td>ZNF708</td>\n",
       "      <td>433</td>\n",
       "      <td>MA1730.1</td>\n",
       "      <td>ENST00000379409</td>\n",
       "    </tr>\n",
       "    <tr>\n",
       "      <th>138</th>\n",
       "      <td>ZNF740</td>\n",
       "      <td>434</td>\n",
       "      <td>MA0753.2</td>\n",
       "      <td>ENST00000379409</td>\n",
       "    </tr>\n",
       "    <tr>\n",
       "      <th>139</th>\n",
       "      <td>ZNF768</td>\n",
       "      <td>517</td>\n",
       "      <td>MA1731.1</td>\n",
       "      <td>ENST00000379409</td>\n",
       "    </tr>\n",
       "    <tr>\n",
       "      <th>140</th>\n",
       "      <td>Zfx</td>\n",
       "      <td>518</td>\n",
       "      <td>MA0146.2</td>\n",
       "      <td>ENST00000379409</td>\n",
       "    </tr>\n",
       "  </tbody>\n",
       "</table>\n",
       "<p>14048 rows × 4 columns</p>\n",
       "</div>"
      ],
      "text/plain": [
       "      TFName  score      name       transcript\n",
       "0      ASCL1    458  MA1631.1  ENST00000456328\n",
       "1      ATOH7    471  MA1468.1  ENST00000456328\n",
       "2      Ascl2    424  MA0816.1  ENST00000456328\n",
       "3       BCL6    454  MA0463.2  ENST00000456328\n",
       "4    BHLHA15    407  MA0607.2  ENST00000456328\n",
       "..       ...    ...       ...              ...\n",
       "136   ZNF701    413  MA1987.1  ENST00000379409\n",
       "137   ZNF708    433  MA1730.1  ENST00000379409\n",
       "138   ZNF740    434  MA0753.2  ENST00000379409\n",
       "139   ZNF768    517  MA1731.1  ENST00000379409\n",
       "140      Zfx    518  MA0146.2  ENST00000379409\n",
       "\n",
       "[14048 rows x 4 columns]"
      ]
     },
     "execution_count": 20,
     "metadata": {},
     "output_type": "execute_result"
    }
   ],
   "source": [
    "edges"
   ]
  },
  {
   "cell_type": "code",
   "execution_count": 21,
   "metadata": {},
   "outputs": [],
   "source": [
    "df_chr21 = bioframe.read_table('promoters_by_chromosome/hg38_fp_chr21.bed', schema='bed')\n",
    "df_chr21['name'] = df_chr21['name'].apply(lambda x: x.split('.')[0])\n",
    "df_chr21.drop(columns=['score', 'strand'], inplace=True)\n",
    "df_chr21.set_index('name', inplace=True)"
   ]
  },
  {
   "cell_type": "code",
   "execution_count": 38,
   "metadata": {},
   "outputs": [
    {
     "name": "stdout",
     "output_type": "stream",
     "text": [
      "Elapsed time: 2 m 3.52 s\n"
     ]
    }
   ],
   "source": [
    "start_time = time.time()\n",
    "edges_21 = pd.DataFrame()\n",
    "for transcript in df_chr21.index:\n",
    "    start,end = df_chr21.loc[transcript][['start', 'end']]\n",
    "    motifs = bioframe.read_bigbed(bb_file, \"chr21\", start=start, end=end)\n",
    "    max_scores = motifs[motifs['TFName'].isin(tf_list)].groupby('TFName')[['score', 'name']].max()\n",
    "    max_scores = max_scores[max_scores['score'] >= 400]\n",
    "    max_scores.reset_index(inplace=True)\n",
    "    max_scores['transcript'] = transcript\n",
    "    edges_21 = pd.concat((edges_21, max_scores), ignore_index=True, copy=False)\n",
    "elapsed = time.time() - start_time\n",
    "print ('Elapsed time: {:n} m {:.2f} s'.format(elapsed // 60, elapsed % 60))"
   ]
  },
  {
   "cell_type": "code",
   "execution_count": 39,
   "metadata": {},
   "outputs": [
    {
     "data": {
      "text/html": [
       "<div>\n",
       "<style scoped>\n",
       "    .dataframe tbody tr th:only-of-type {\n",
       "        vertical-align: middle;\n",
       "    }\n",
       "\n",
       "    .dataframe tbody tr th {\n",
       "        vertical-align: top;\n",
       "    }\n",
       "\n",
       "    .dataframe thead th {\n",
       "        text-align: right;\n",
       "    }\n",
       "</style>\n",
       "<table border=\"1\" class=\"dataframe\">\n",
       "  <thead>\n",
       "    <tr style=\"text-align: right;\">\n",
       "      <th></th>\n",
       "      <th>TFName</th>\n",
       "      <th>score</th>\n",
       "      <th>name</th>\n",
       "      <th>transcript</th>\n",
       "    </tr>\n",
       "  </thead>\n",
       "  <tbody>\n",
       "    <tr>\n",
       "      <th>0</th>\n",
       "      <td>ASCL1</td>\n",
       "      <td>448</td>\n",
       "      <td>MA1631.1</td>\n",
       "      <td>ENST00000624081</td>\n",
       "    </tr>\n",
       "    <tr>\n",
       "      <th>1</th>\n",
       "      <td>ATF6</td>\n",
       "      <td>411</td>\n",
       "      <td>MA1466.1</td>\n",
       "      <td>ENST00000624081</td>\n",
       "    </tr>\n",
       "    <tr>\n",
       "      <th>2</th>\n",
       "      <td>Bcl11B</td>\n",
       "      <td>598</td>\n",
       "      <td>MA1989.1</td>\n",
       "      <td>ENST00000624081</td>\n",
       "    </tr>\n",
       "    <tr>\n",
       "      <th>3</th>\n",
       "      <td>CDX2</td>\n",
       "      <td>450</td>\n",
       "      <td>MA0465.2</td>\n",
       "      <td>ENST00000624081</td>\n",
       "    </tr>\n",
       "    <tr>\n",
       "      <th>4</th>\n",
       "      <td>CTCF</td>\n",
       "      <td>520</td>\n",
       "      <td>MA0139.1</td>\n",
       "      <td>ENST00000624081</td>\n",
       "    </tr>\n",
       "    <tr>\n",
       "      <th>...</th>\n",
       "      <td>...</td>\n",
       "      <td>...</td>\n",
       "      <td>...</td>\n",
       "      <td>...</td>\n",
       "    </tr>\n",
       "    <tr>\n",
       "      <th>227482</th>\n",
       "      <td>ZNF384</td>\n",
       "      <td>415</td>\n",
       "      <td>MA1125.1</td>\n",
       "      <td>ENST00000427757</td>\n",
       "    </tr>\n",
       "    <tr>\n",
       "      <th>227483</th>\n",
       "      <td>ZNF416</td>\n",
       "      <td>511</td>\n",
       "      <td>MA1979.1</td>\n",
       "      <td>ENST00000427757</td>\n",
       "    </tr>\n",
       "    <tr>\n",
       "      <th>227484</th>\n",
       "      <td>ZNF418</td>\n",
       "      <td>590</td>\n",
       "      <td>MA1980.1</td>\n",
       "      <td>ENST00000427757</td>\n",
       "    </tr>\n",
       "    <tr>\n",
       "      <th>227485</th>\n",
       "      <td>ZNF701</td>\n",
       "      <td>484</td>\n",
       "      <td>MA1987.1</td>\n",
       "      <td>ENST00000427757</td>\n",
       "    </tr>\n",
       "    <tr>\n",
       "      <th>227486</th>\n",
       "      <td>ZNF768</td>\n",
       "      <td>412</td>\n",
       "      <td>MA1731.1</td>\n",
       "      <td>ENST00000427757</td>\n",
       "    </tr>\n",
       "  </tbody>\n",
       "</table>\n",
       "<p>227487 rows × 4 columns</p>\n",
       "</div>"
      ],
      "text/plain": [
       "        TFName  score      name       transcript\n",
       "0        ASCL1    448  MA1631.1  ENST00000624081\n",
       "1         ATF6    411  MA1466.1  ENST00000624081\n",
       "2       Bcl11B    598  MA1989.1  ENST00000624081\n",
       "3         CDX2    450  MA0465.2  ENST00000624081\n",
       "4         CTCF    520  MA0139.1  ENST00000624081\n",
       "...        ...    ...       ...              ...\n",
       "227482  ZNF384    415  MA1125.1  ENST00000427757\n",
       "227483  ZNF416    511  MA1979.1  ENST00000427757\n",
       "227484  ZNF418    590  MA1980.1  ENST00000427757\n",
       "227485  ZNF701    484  MA1987.1  ENST00000427757\n",
       "227486  ZNF768    412  MA1731.1  ENST00000427757\n",
       "\n",
       "[227487 rows x 4 columns]"
      ]
     },
     "execution_count": 39,
     "metadata": {},
     "output_type": "execute_result"
    }
   ],
   "source": [
    "edges_21"
   ]
  },
  {
   "cell_type": "code",
   "execution_count": 24,
   "metadata": {},
   "outputs": [],
   "source": [
    "# start_time = time.time()\n",
    "# edges_21 = pd.DataFrame()\n",
    "# for transcript in df_chr21.index[:100]:\n",
    "#     start,end = df_chr21.loc[transcript][['start', 'end']]\n",
    "#     motifs = bioframe.read_bigbed(bb_url, \"chr21\", start=start, end=end)\n",
    "#     max_scores = motifs[motifs['TFName'].isin(tf_list)].groupby('TFName')[['score', 'name']].max()\n",
    "#     max_scores = max_scores[max_scores['score'] >= 400]\n",
    "#     max_scores.reset_index(inplace=True)\n",
    "#     max_scores['transcript'] = transcript\n",
    "#     edges_21 = pd.concat((edges_21, max_scores))\n",
    "# elapsed = time.time() - start_time\n",
    "# print ('Elapsed time: {:n} m {:.2f} s'.format(elapsed // 60, elapsed % 60))"
   ]
  },
  {
   "cell_type": "code",
   "execution_count": 13,
   "metadata": {},
   "outputs": [],
   "source": [
    "def filter_edges(bb_ref, bed_df, chrom, start_ind, final_ind, score_threshold=400):\n",
    "    df = pd.DataFrame()\n",
    "    for transcript in bed_df.index[start_ind:final_ind]:\n",
    "        start,end = bed_df.loc[transcript][['start', 'end']]\n",
    "        motifs = bioframe.read_bigbed(bb_ref, chrom, start=start, end=end)\n",
    "        max_scores = motifs[motifs['TFName'].isin(tf_list)].groupby('TFName')[['score', 'name']].max()\n",
    "        max_scores = max_scores[max_scores['score'] >= score_threshold]\n",
    "        max_scores.reset_index(inplace=True)\n",
    "        max_scores['transcript'] = transcript\n",
    "        df = pd.concat((df, max_scores), ignore_index=True, copy=False)\n",
    "    return df"
   ]
  },
  {
   "cell_type": "code",
   "execution_count": 33,
   "metadata": {},
   "outputs": [
    {
     "data": {
      "text/plain": [
       "1590"
      ]
     },
     "execution_count": 33,
     "metadata": {},
     "output_type": "execute_result"
    }
   ],
   "source": [
    "len(df_chr21)"
   ]
  },
  {
   "cell_type": "code",
   "execution_count": 44,
   "metadata": {},
   "outputs": [
    {
     "name": "stdout",
     "output_type": "stream",
     "text": [
      "Elapsed time: 2 m 1.80 s\n"
     ]
    }
   ],
   "source": [
    "start_time = time.time()\n",
    "\n",
    "edges_21_alt = filter_edges(bb_file, df_chr21, 'chr21', 0, len(df_chr21.index))\n",
    "\n",
    "elapsed = time.time() - start_time\n",
    "print ('Elapsed time: {:n} m {:.2f} s'.format(elapsed // 60, elapsed % 60))"
   ]
  },
  {
   "cell_type": "code",
   "execution_count": 45,
   "metadata": {},
   "outputs": [
    {
     "data": {
      "text/html": [
       "<div>\n",
       "<style scoped>\n",
       "    .dataframe tbody tr th:only-of-type {\n",
       "        vertical-align: middle;\n",
       "    }\n",
       "\n",
       "    .dataframe tbody tr th {\n",
       "        vertical-align: top;\n",
       "    }\n",
       "\n",
       "    .dataframe thead th {\n",
       "        text-align: right;\n",
       "    }\n",
       "</style>\n",
       "<table border=\"1\" class=\"dataframe\">\n",
       "  <thead>\n",
       "    <tr style=\"text-align: right;\">\n",
       "      <th></th>\n",
       "      <th>TFName</th>\n",
       "      <th>score</th>\n",
       "      <th>name</th>\n",
       "      <th>transcript</th>\n",
       "    </tr>\n",
       "  </thead>\n",
       "  <tbody>\n",
       "    <tr>\n",
       "      <th>0</th>\n",
       "      <td>ASCL1</td>\n",
       "      <td>448</td>\n",
       "      <td>MA1631.1</td>\n",
       "      <td>ENST00000624081</td>\n",
       "    </tr>\n",
       "    <tr>\n",
       "      <th>1</th>\n",
       "      <td>ATF6</td>\n",
       "      <td>411</td>\n",
       "      <td>MA1466.1</td>\n",
       "      <td>ENST00000624081</td>\n",
       "    </tr>\n",
       "    <tr>\n",
       "      <th>2</th>\n",
       "      <td>Bcl11B</td>\n",
       "      <td>598</td>\n",
       "      <td>MA1989.1</td>\n",
       "      <td>ENST00000624081</td>\n",
       "    </tr>\n",
       "    <tr>\n",
       "      <th>3</th>\n",
       "      <td>CDX2</td>\n",
       "      <td>450</td>\n",
       "      <td>MA0465.2</td>\n",
       "      <td>ENST00000624081</td>\n",
       "    </tr>\n",
       "    <tr>\n",
       "      <th>4</th>\n",
       "      <td>CTCF</td>\n",
       "      <td>520</td>\n",
       "      <td>MA0139.1</td>\n",
       "      <td>ENST00000624081</td>\n",
       "    </tr>\n",
       "    <tr>\n",
       "      <th>...</th>\n",
       "      <td>...</td>\n",
       "      <td>...</td>\n",
       "      <td>...</td>\n",
       "      <td>...</td>\n",
       "    </tr>\n",
       "    <tr>\n",
       "      <th>227482</th>\n",
       "      <td>ZNF384</td>\n",
       "      <td>415</td>\n",
       "      <td>MA1125.1</td>\n",
       "      <td>ENST00000427757</td>\n",
       "    </tr>\n",
       "    <tr>\n",
       "      <th>227483</th>\n",
       "      <td>ZNF416</td>\n",
       "      <td>511</td>\n",
       "      <td>MA1979.1</td>\n",
       "      <td>ENST00000427757</td>\n",
       "    </tr>\n",
       "    <tr>\n",
       "      <th>227484</th>\n",
       "      <td>ZNF418</td>\n",
       "      <td>590</td>\n",
       "      <td>MA1980.1</td>\n",
       "      <td>ENST00000427757</td>\n",
       "    </tr>\n",
       "    <tr>\n",
       "      <th>227485</th>\n",
       "      <td>ZNF701</td>\n",
       "      <td>484</td>\n",
       "      <td>MA1987.1</td>\n",
       "      <td>ENST00000427757</td>\n",
       "    </tr>\n",
       "    <tr>\n",
       "      <th>227486</th>\n",
       "      <td>ZNF768</td>\n",
       "      <td>412</td>\n",
       "      <td>MA1731.1</td>\n",
       "      <td>ENST00000427757</td>\n",
       "    </tr>\n",
       "  </tbody>\n",
       "</table>\n",
       "<p>227487 rows × 4 columns</p>\n",
       "</div>"
      ],
      "text/plain": [
       "        TFName  score      name       transcript\n",
       "0        ASCL1    448  MA1631.1  ENST00000624081\n",
       "1         ATF6    411  MA1466.1  ENST00000624081\n",
       "2       Bcl11B    598  MA1989.1  ENST00000624081\n",
       "3         CDX2    450  MA0465.2  ENST00000624081\n",
       "4         CTCF    520  MA0139.1  ENST00000624081\n",
       "...        ...    ...       ...              ...\n",
       "227482  ZNF384    415  MA1125.1  ENST00000427757\n",
       "227483  ZNF416    511  MA1979.1  ENST00000427757\n",
       "227484  ZNF418    590  MA1980.1  ENST00000427757\n",
       "227485  ZNF701    484  MA1987.1  ENST00000427757\n",
       "227486  ZNF768    412  MA1731.1  ENST00000427757\n",
       "\n",
       "[227487 rows x 4 columns]"
      ]
     },
     "execution_count": 45,
     "metadata": {},
     "output_type": "execute_result"
    }
   ],
   "source": [
    "edges_21_alt"
   ]
  },
  {
   "cell_type": "code",
   "execution_count": 125,
   "metadata": {},
   "outputs": [
    {
     "name": "stdout",
     "output_type": "stream",
     "text": [
      "Elapsed time: 0 m 10.20 s\n"
     ]
    }
   ],
   "source": [
    "start_time = time.time()\n",
    "\n",
    "n_processes = 16\n",
    "chunk_size = 10\n",
    "\n",
    "chunk_divisions = [i for i in range(0,len(df_chr21),chunk_size)]\n",
    "\n",
    "p = Pool(n_processes)\n",
    "\n",
    "def temp_func(x):\n",
    "    return filter_edges(bb_file, df_chr21, 'chr21', x, x+chunk_size)\n",
    "\n",
    "# time.sleep(0.1)\n",
    "\n",
    "result = p.map_async(temp_func, chunk_divisions, chunksize=n_processes)\n",
    "edges_21_list = result.get()\n",
    "\n",
    "elapsed = time.time() - start_time\n",
    "print ('Elapsed time: {:n} m {:.2f} s'.format(elapsed // 60, elapsed % 60))"
   ]
  },
  {
   "cell_type": "code",
   "execution_count": 129,
   "metadata": {},
   "outputs": [
    {
     "data": {
      "text/plain": [
       "25.96752779915716"
      ]
     },
     "execution_count": 129,
     "metadata": {},
     "output_type": "execute_result"
    }
   ],
   "source": [
    "(len(df_chr1) / 16) ** 0.5"
   ]
  },
  {
   "cell_type": "code",
   "execution_count": 130,
   "metadata": {},
   "outputs": [
    {
     "name": "stdout",
     "output_type": "stream",
     "text": [
      "Elapsed time: 0 m 24.93 s\n"
     ]
    }
   ],
   "source": [
    "start_time = time.time()\n",
    "\n",
    "n_processes = 16\n",
    "chunk_size = 26\n",
    "\n",
    "chunk_divisions = [i for i in range(0,len(df_chr1),chunk_size)]\n",
    "\n",
    "p = Pool(n_processes)\n",
    "\n",
    "def temp_func(x):\n",
    "    return filter_edges(bb_file, df_chr1, 'chr1', x, x+chunk_size)\n",
    "\n",
    "time.sleep(0.1)\n",
    "\n",
    "result = p.map_async(temp_func, chunk_divisions, chunksize=n_processes)\n",
    "edges_1_list = result.get()\n",
    "\n",
    "elapsed = time.time() - start_time\n",
    "print ('Elapsed time: {:n} m {:.2f} s'.format(elapsed // 60, elapsed % 60))"
   ]
  },
  {
   "cell_type": "code",
   "execution_count": 132,
   "metadata": {},
   "outputs": [
    {
     "data": {
      "text/html": [
       "<div>\n",
       "<style scoped>\n",
       "    .dataframe tbody tr th:only-of-type {\n",
       "        vertical-align: middle;\n",
       "    }\n",
       "\n",
       "    .dataframe tbody tr th {\n",
       "        vertical-align: top;\n",
       "    }\n",
       "\n",
       "    .dataframe thead th {\n",
       "        text-align: right;\n",
       "    }\n",
       "</style>\n",
       "<table border=\"1\" class=\"dataframe\">\n",
       "  <thead>\n",
       "    <tr style=\"text-align: right;\">\n",
       "      <th></th>\n",
       "      <th>TFName</th>\n",
       "      <th>score</th>\n",
       "      <th>name</th>\n",
       "      <th>transcript</th>\n",
       "    </tr>\n",
       "  </thead>\n",
       "  <tbody>\n",
       "    <tr>\n",
       "      <th>0</th>\n",
       "      <td>ASCL1</td>\n",
       "      <td>448</td>\n",
       "      <td>MA1631.1</td>\n",
       "      <td>ENST00000624081</td>\n",
       "    </tr>\n",
       "    <tr>\n",
       "      <th>1</th>\n",
       "      <td>ATF6</td>\n",
       "      <td>411</td>\n",
       "      <td>MA1466.1</td>\n",
       "      <td>ENST00000624081</td>\n",
       "    </tr>\n",
       "    <tr>\n",
       "      <th>2</th>\n",
       "      <td>Bcl11B</td>\n",
       "      <td>598</td>\n",
       "      <td>MA1989.1</td>\n",
       "      <td>ENST00000624081</td>\n",
       "    </tr>\n",
       "    <tr>\n",
       "      <th>3</th>\n",
       "      <td>CDX2</td>\n",
       "      <td>450</td>\n",
       "      <td>MA0465.2</td>\n",
       "      <td>ENST00000624081</td>\n",
       "    </tr>\n",
       "    <tr>\n",
       "      <th>4</th>\n",
       "      <td>CTCF</td>\n",
       "      <td>520</td>\n",
       "      <td>MA0139.1</td>\n",
       "      <td>ENST00000624081</td>\n",
       "    </tr>\n",
       "    <tr>\n",
       "      <th>...</th>\n",
       "      <td>...</td>\n",
       "      <td>...</td>\n",
       "      <td>...</td>\n",
       "      <td>...</td>\n",
       "    </tr>\n",
       "    <tr>\n",
       "      <th>227482</th>\n",
       "      <td>ZNF384</td>\n",
       "      <td>415</td>\n",
       "      <td>MA1125.1</td>\n",
       "      <td>ENST00000427757</td>\n",
       "    </tr>\n",
       "    <tr>\n",
       "      <th>227483</th>\n",
       "      <td>ZNF416</td>\n",
       "      <td>511</td>\n",
       "      <td>MA1979.1</td>\n",
       "      <td>ENST00000427757</td>\n",
       "    </tr>\n",
       "    <tr>\n",
       "      <th>227484</th>\n",
       "      <td>ZNF418</td>\n",
       "      <td>590</td>\n",
       "      <td>MA1980.1</td>\n",
       "      <td>ENST00000427757</td>\n",
       "    </tr>\n",
       "    <tr>\n",
       "      <th>227485</th>\n",
       "      <td>ZNF701</td>\n",
       "      <td>484</td>\n",
       "      <td>MA1987.1</td>\n",
       "      <td>ENST00000427757</td>\n",
       "    </tr>\n",
       "    <tr>\n",
       "      <th>227486</th>\n",
       "      <td>ZNF768</td>\n",
       "      <td>412</td>\n",
       "      <td>MA1731.1</td>\n",
       "      <td>ENST00000427757</td>\n",
       "    </tr>\n",
       "  </tbody>\n",
       "</table>\n",
       "<p>227487 rows × 4 columns</p>\n",
       "</div>"
      ],
      "text/plain": [
       "        TFName  score      name       transcript\n",
       "0        ASCL1    448  MA1631.1  ENST00000624081\n",
       "1         ATF6    411  MA1466.1  ENST00000624081\n",
       "2       Bcl11B    598  MA1989.1  ENST00000624081\n",
       "3         CDX2    450  MA0465.2  ENST00000624081\n",
       "4         CTCF    520  MA0139.1  ENST00000624081\n",
       "...        ...    ...       ...              ...\n",
       "227482  ZNF384    415  MA1125.1  ENST00000427757\n",
       "227483  ZNF416    511  MA1979.1  ENST00000427757\n",
       "227484  ZNF418    590  MA1980.1  ENST00000427757\n",
       "227485  ZNF701    484  MA1987.1  ENST00000427757\n",
       "227486  ZNF768    412  MA1731.1  ENST00000427757\n",
       "\n",
       "[227487 rows x 4 columns]"
      ]
     },
     "execution_count": 132,
     "metadata": {},
     "output_type": "execute_result"
    }
   ],
   "source": [
    "pd.concat(edges_1_list, ignore_index=True)"
   ]
  },
  {
   "cell_type": "code",
   "execution_count": 126,
   "metadata": {},
   "outputs": [
    {
     "data": {
      "text/html": [
       "<div>\n",
       "<style scoped>\n",
       "    .dataframe tbody tr th:only-of-type {\n",
       "        vertical-align: middle;\n",
       "    }\n",
       "\n",
       "    .dataframe tbody tr th {\n",
       "        vertical-align: top;\n",
       "    }\n",
       "\n",
       "    .dataframe thead th {\n",
       "        text-align: right;\n",
       "    }\n",
       "</style>\n",
       "<table border=\"1\" class=\"dataframe\">\n",
       "  <thead>\n",
       "    <tr style=\"text-align: right;\">\n",
       "      <th></th>\n",
       "      <th>TFName</th>\n",
       "      <th>score</th>\n",
       "      <th>name</th>\n",
       "      <th>transcript</th>\n",
       "    </tr>\n",
       "  </thead>\n",
       "  <tbody>\n",
       "    <tr>\n",
       "      <th>0</th>\n",
       "      <td>ASCL1</td>\n",
       "      <td>448</td>\n",
       "      <td>MA1631.1</td>\n",
       "      <td>ENST00000624081</td>\n",
       "    </tr>\n",
       "    <tr>\n",
       "      <th>1</th>\n",
       "      <td>ATF6</td>\n",
       "      <td>411</td>\n",
       "      <td>MA1466.1</td>\n",
       "      <td>ENST00000624081</td>\n",
       "    </tr>\n",
       "    <tr>\n",
       "      <th>2</th>\n",
       "      <td>Bcl11B</td>\n",
       "      <td>598</td>\n",
       "      <td>MA1989.1</td>\n",
       "      <td>ENST00000624081</td>\n",
       "    </tr>\n",
       "    <tr>\n",
       "      <th>3</th>\n",
       "      <td>CDX2</td>\n",
       "      <td>450</td>\n",
       "      <td>MA0465.2</td>\n",
       "      <td>ENST00000624081</td>\n",
       "    </tr>\n",
       "    <tr>\n",
       "      <th>4</th>\n",
       "      <td>CTCF</td>\n",
       "      <td>520</td>\n",
       "      <td>MA0139.1</td>\n",
       "      <td>ENST00000624081</td>\n",
       "    </tr>\n",
       "    <tr>\n",
       "      <th>...</th>\n",
       "      <td>...</td>\n",
       "      <td>...</td>\n",
       "      <td>...</td>\n",
       "      <td>...</td>\n",
       "    </tr>\n",
       "    <tr>\n",
       "      <th>227482</th>\n",
       "      <td>ZNF384</td>\n",
       "      <td>415</td>\n",
       "      <td>MA1125.1</td>\n",
       "      <td>ENST00000427757</td>\n",
       "    </tr>\n",
       "    <tr>\n",
       "      <th>227483</th>\n",
       "      <td>ZNF416</td>\n",
       "      <td>511</td>\n",
       "      <td>MA1979.1</td>\n",
       "      <td>ENST00000427757</td>\n",
       "    </tr>\n",
       "    <tr>\n",
       "      <th>227484</th>\n",
       "      <td>ZNF418</td>\n",
       "      <td>590</td>\n",
       "      <td>MA1980.1</td>\n",
       "      <td>ENST00000427757</td>\n",
       "    </tr>\n",
       "    <tr>\n",
       "      <th>227485</th>\n",
       "      <td>ZNF701</td>\n",
       "      <td>484</td>\n",
       "      <td>MA1987.1</td>\n",
       "      <td>ENST00000427757</td>\n",
       "    </tr>\n",
       "    <tr>\n",
       "      <th>227486</th>\n",
       "      <td>ZNF768</td>\n",
       "      <td>412</td>\n",
       "      <td>MA1731.1</td>\n",
       "      <td>ENST00000427757</td>\n",
       "    </tr>\n",
       "  </tbody>\n",
       "</table>\n",
       "<p>227487 rows × 4 columns</p>\n",
       "</div>"
      ],
      "text/plain": [
       "        TFName  score      name       transcript\n",
       "0        ASCL1    448  MA1631.1  ENST00000624081\n",
       "1         ATF6    411  MA1466.1  ENST00000624081\n",
       "2       Bcl11B    598  MA1989.1  ENST00000624081\n",
       "3         CDX2    450  MA0465.2  ENST00000624081\n",
       "4         CTCF    520  MA0139.1  ENST00000624081\n",
       "...        ...    ...       ...              ...\n",
       "227482  ZNF384    415  MA1125.1  ENST00000427757\n",
       "227483  ZNF416    511  MA1979.1  ENST00000427757\n",
       "227484  ZNF418    590  MA1980.1  ENST00000427757\n",
       "227485  ZNF701    484  MA1987.1  ENST00000427757\n",
       "227486  ZNF768    412  MA1731.1  ENST00000427757\n",
       "\n",
       "[227487 rows x 4 columns]"
      ]
     },
     "execution_count": 126,
     "metadata": {},
     "output_type": "execute_result"
    }
   ],
   "source": [
    "pd.concat(edges_21_list, ignore_index=True)"
   ]
  },
  {
   "cell_type": "code",
   "execution_count": 123,
   "metadata": {},
   "outputs": [],
   "source": [
    "time_to_finish_50 = {1: 84.89, 2: 41.04, 3: 31.05, 4: 21.39, 5: 24.51, 6: 16.93, 7: 19.14, 8: 22.57, 12: 32.58, 16: 41.76}"
   ]
  },
  {
   "cell_type": "code",
   "execution_count": 92,
   "metadata": {},
   "outputs": [],
   "source": [
    "time_to_finish_100 = {1: 79.84, 2: 39.54, 3: 33.44, 4: 20.89, 5: 28.38, 6: 31.02, 8: 43.1, 16: 82.6}"
   ]
  },
  {
   "cell_type": "code",
   "execution_count": 108,
   "metadata": {},
   "outputs": [],
   "source": [
    "time_to_finish_200 = {1: 90.94, 2: 42.00, 3: 33.1, 4: 41.05, 5: 52.87, 6: 62.08, 8: 83.24}"
   ]
  },
  {
   "cell_type": "code",
   "execution_count": 67,
   "metadata": {},
   "outputs": [],
   "source": [
    "import matplotlib.pyplot as plt\n",
    "\n",
    "%matplotlib inline"
   ]
  },
  {
   "cell_type": "code",
   "execution_count": 136,
   "metadata": {},
   "outputs": [
    {
     "data": {
      "text/plain": [
       "<matplotlib.legend.Legend at 0x7fa76d10fac0>"
      ]
     },
     "execution_count": 136,
     "metadata": {},
     "output_type": "execute_result"
    },
    {
     "data": {
      "image/png": "[encoded data removed]",
      "text/plain": [
       "<Figure size 640x480 with 1 Axes>"
      ]
     },
     "metadata": {},
     "output_type": "display_data"
    }
   ],
   "source": [
    "plt.plot(time_to_finish_50.keys(), [1/v for v in time_to_finish_50.values()], 'g.', alpha=0.7, ms=10, mew=2, label='Chunk size 50')\n",
    "plt.plot(time_to_finish_100.keys(), [1/v for v in time_to_finish_100.values()], 'b+', alpha=0.7, ms=10, mew=2, label='Chunk size 100')\n",
    "plt.plot(time_to_finish_200.keys(), [1/v for v in time_to_finish_200.values()], 'rx', alpha=0.7, ms=10, mew=2, label='Chunk size 200')\n",
    "plt.plot([0,8], [0,8/time_to_finish_50[1]], 'k--')\n",
    "plt.xlabel('Number of processes')\n",
    "plt.ylabel('Performance / s^(-1)')\n",
    "plt.xlim(0,17)\n",
    "plt.ylim(0,0.07)\n",
    "plt.grid()\n",
    "plt.legend()"
   ]
  },
  {
   "cell_type": "code",
   "execution_count": 6,
   "metadata": {},
   "outputs": [],
   "source": [
    "df_full = bioframe.read_table('hg38_genes_filtered_promoters_fixed.bed', schema='bed')\n",
    "df_full['name'] = df_full['name'].apply(lambda x: x.split('.')[0])\n",
    "df_full.drop(columns=['score', 'strand'], inplace=True)\n",
    "df_full.set_index('name', inplace=True)"
   ]
  },
  {
   "cell_type": "code",
   "execution_count": 7,
   "metadata": {},
   "outputs": [
    {
     "data": {
      "text/plain": [
       "85.3847908002356"
      ]
     },
     "execution_count": 7,
     "metadata": {},
     "output_type": "execute_result"
    }
   ],
   "source": [
    "(len(df_full) / 16) ** 0.5"
   ]
  },
  {
   "cell_type": "code",
   "execution_count": 8,
   "metadata": {},
   "outputs": [
    {
     "data": {
      "text/html": [
       "<div>\n",
       "<style scoped>\n",
       "    .dataframe tbody tr th:only-of-type {\n",
       "        vertical-align: middle;\n",
       "    }\n",
       "\n",
       "    .dataframe tbody tr th {\n",
       "        vertical-align: top;\n",
       "    }\n",
       "\n",
       "    .dataframe thead th {\n",
       "        text-align: right;\n",
       "    }\n",
       "</style>\n",
       "<table border=\"1\" class=\"dataframe\">\n",
       "  <thead>\n",
       "    <tr style=\"text-align: right;\">\n",
       "      <th></th>\n",
       "      <th>chrom</th>\n",
       "      <th>start</th>\n",
       "      <th>end</th>\n",
       "    </tr>\n",
       "    <tr>\n",
       "      <th>name</th>\n",
       "      <th></th>\n",
       "      <th></th>\n",
       "      <th></th>\n",
       "    </tr>\n",
       "  </thead>\n",
       "  <tbody>\n",
       "    <tr>\n",
       "      <th>ENST00000456328</th>\n",
       "      <td>chr1</td>\n",
       "      <td>11118</td>\n",
       "      <td>12118</td>\n",
       "    </tr>\n",
       "    <tr>\n",
       "      <th>ENST00000450305</th>\n",
       "      <td>chr1</td>\n",
       "      <td>11259</td>\n",
       "      <td>12259</td>\n",
       "    </tr>\n",
       "    <tr>\n",
       "      <th>ENST00000488147</th>\n",
       "      <td>chr1</td>\n",
       "      <td>29320</td>\n",
       "      <td>30320</td>\n",
       "    </tr>\n",
       "    <tr>\n",
       "      <th>ENST00000619216</th>\n",
       "      <td>chr1</td>\n",
       "      <td>17186</td>\n",
       "      <td>18186</td>\n",
       "    </tr>\n",
       "    <tr>\n",
       "      <th>ENST00000473358</th>\n",
       "      <td>chr1</td>\n",
       "      <td>28803</td>\n",
       "      <td>29803</td>\n",
       "    </tr>\n",
       "    <tr>\n",
       "      <th>...</th>\n",
       "      <td>...</td>\n",
       "      <td>...</td>\n",
       "      <td>...</td>\n",
       "    </tr>\n",
       "    <tr>\n",
       "      <th>ENST00000417047</th>\n",
       "      <td>chr1</td>\n",
       "      <td>248858413</td>\n",
       "      <td>248859413</td>\n",
       "    </tr>\n",
       "    <tr>\n",
       "      <th>ENST00000355360</th>\n",
       "      <td>chr1</td>\n",
       "      <td>248905445</td>\n",
       "      <td>248906445</td>\n",
       "    </tr>\n",
       "    <tr>\n",
       "      <th>ENST00000329291</th>\n",
       "      <td>chr1</td>\n",
       "      <td>248905484</td>\n",
       "      <td>248906484</td>\n",
       "    </tr>\n",
       "    <tr>\n",
       "      <th>ENST00000363625</th>\n",
       "      <td>chr1</td>\n",
       "      <td>248912545</td>\n",
       "      <td>248913545</td>\n",
       "    </tr>\n",
       "    <tr>\n",
       "      <th>ENST00000430973</th>\n",
       "      <td>chr1</td>\n",
       "      <td>248935830</td>\n",
       "      <td>248936830</td>\n",
       "    </tr>\n",
       "  </tbody>\n",
       "</table>\n",
       "<p>10789 rows × 3 columns</p>\n",
       "</div>"
      ],
      "text/plain": [
       "                chrom      start        end\n",
       "name                                       \n",
       "ENST00000456328  chr1      11118      12118\n",
       "ENST00000450305  chr1      11259      12259\n",
       "ENST00000488147  chr1      29320      30320\n",
       "ENST00000619216  chr1      17186      18186\n",
       "ENST00000473358  chr1      28803      29803\n",
       "...               ...        ...        ...\n",
       "ENST00000417047  chr1  248858413  248859413\n",
       "ENST00000355360  chr1  248905445  248906445\n",
       "ENST00000329291  chr1  248905484  248906484\n",
       "ENST00000363625  chr1  248912545  248913545\n",
       "ENST00000430973  chr1  248935830  248936830\n",
       "\n",
       "[10789 rows x 3 columns]"
      ]
     },
     "execution_count": 8,
     "metadata": {},
     "output_type": "execute_result"
    }
   ],
   "source": [
    "df_full[df_full['chrom'] == 'chr1']"
   ]
  },
  {
   "cell_type": "code",
   "execution_count": 9,
   "metadata": {},
   "outputs": [],
   "source": [
    "chr_list = ['chr{}'.format(i) for i in [j for j in range(1,23)] + ['M', 'X', 'Y']]"
   ]
  },
  {
   "cell_type": "code",
   "execution_count": 10,
   "metadata": {},
   "outputs": [],
   "source": [
    "from math import *"
   ]
  },
  {
   "cell_type": "code",
   "execution_count": 19,
   "metadata": {},
   "outputs": [
    {
     "name": "stdout",
     "output_type": "stream",
     "text": [
      "chr1\n",
      "10789\n",
      "chr2\n",
      "8175\n",
      "chr3\n",
      "6707\n",
      "chr4\n",
      "5075\n",
      "chr5\n",
      "5660\n",
      "chr6\n",
      "5853\n",
      "chr7\n",
      "5636\n",
      "chr8\n",
      "4709\n",
      "chr9\n",
      "4269\n",
      "chr10\n",
      "4575\n",
      "chr11\n",
      "6744\n",
      "chr12\n",
      "5939\n",
      "chr13\n",
      "2410\n",
      "chr14\n",
      "4272\n",
      "chr15\n",
      "4105\n",
      "chr16\n",
      "4838\n",
      "chr17\n",
      "6116\n",
      "chr18\n",
      "2239\n",
      "chr19\n",
      "6303\n",
      "chr20\n",
      "2858\n",
      "chr21\n",
      "1590\n",
      "chr22\n",
      "2527\n",
      "chrM\n",
      "37\n",
      "chrX\n",
      "4477\n",
      "chrY\n",
      "746\n",
      "Elapsed time: 10 m 35.65 s\n"
     ]
    }
   ],
   "source": [
    "start_time = time.time()\n",
    "\n",
    "n_processes = 16\n",
    "\n",
    "chr_list = ['chr{}'.format(i) for i in [j for j in range(1,23)] + ['M', 'X', 'Y']]\n",
    "\n",
    "results_list = []\n",
    "\n",
    "for chrom in chr_list:\n",
    "    print (chrom)\n",
    "\n",
    "    df_chrom = df_full[df_full['chrom'] == chrom]\n",
    "\n",
    "    print (len(df_chrom))\n",
    "    chunk_size = ceil(sqrt(len(df_chrom) / n_processes))\n",
    "\n",
    "    chunk_divisions = [i for i in range(0,len(df_chrom),chunk_size)]\n",
    "\n",
    "    p = Pool(n_processes)\n",
    "\n",
    "    def temp_func(x):\n",
    "        return filter_edges(bb_file, df_chrom, chrom, x, x+chunk_size)\n",
    "\n",
    "    time.sleep(0.5)\n",
    "\n",
    "    result = p.map_async(temp_func, chunk_divisions, chunksize=n_processes)\n",
    "    edges_chrom_list = result.get()\n",
    "\n",
    "    results_list += edges_chrom_list\n",
    "\n",
    "elapsed = time.time() - start_time\n",
    "print ('Elapsed time: {:n} m {:.2f} s'.format(elapsed // 60, elapsed % 60))"
   ]
  },
  {
   "cell_type": "code",
   "execution_count": 20,
   "metadata": {},
   "outputs": [],
   "source": [
    "df_all_edges = pd.concat(results_list, ignore_index=True)"
   ]
  },
  {
   "cell_type": "code",
   "execution_count": 21,
   "metadata": {},
   "outputs": [],
   "source": [
    "df_all_edges.to_csv('tf_transcript_edges.tsv', sep='\\t', index=False)"
   ]
  },
  {
   "cell_type": "code",
   "execution_count": 22,
   "metadata": {},
   "outputs": [],
   "source": [
    "df_all_edges = pd.read_csv('tf_transcript_edges.tsv', sep='\\t')"
   ]
  },
  {
   "cell_type": "code",
   "execution_count": 23,
   "metadata": {},
   "outputs": [
    {
     "data": {
      "text/html": [
       "<div>\n",
       "<style scoped>\n",
       "    .dataframe tbody tr th:only-of-type {\n",
       "        vertical-align: middle;\n",
       "    }\n",
       "\n",
       "    .dataframe tbody tr th {\n",
       "        vertical-align: top;\n",
       "    }\n",
       "\n",
       "    .dataframe thead th {\n",
       "        text-align: right;\n",
       "    }\n",
       "</style>\n",
       "<table border=\"1\" class=\"dataframe\">\n",
       "  <thead>\n",
       "    <tr style=\"text-align: right;\">\n",
       "      <th></th>\n",
       "      <th>TFName</th>\n",
       "      <th>score</th>\n",
       "      <th>name</th>\n",
       "      <th>transcript</th>\n",
       "    </tr>\n",
       "  </thead>\n",
       "  <tbody>\n",
       "    <tr>\n",
       "      <th>0</th>\n",
       "      <td>ASCL1</td>\n",
       "      <td>458</td>\n",
       "      <td>MA1631.1</td>\n",
       "      <td>ENST00000456328</td>\n",
       "    </tr>\n",
       "    <tr>\n",
       "      <th>1</th>\n",
       "      <td>ATOH7</td>\n",
       "      <td>471</td>\n",
       "      <td>MA1468.1</td>\n",
       "      <td>ENST00000456328</td>\n",
       "    </tr>\n",
       "    <tr>\n",
       "      <th>2</th>\n",
       "      <td>Ascl2</td>\n",
       "      <td>424</td>\n",
       "      <td>MA0816.1</td>\n",
       "      <td>ENST00000456328</td>\n",
       "    </tr>\n",
       "    <tr>\n",
       "      <th>3</th>\n",
       "      <td>BCL6</td>\n",
       "      <td>454</td>\n",
       "      <td>MA0463.2</td>\n",
       "      <td>ENST00000456328</td>\n",
       "    </tr>\n",
       "    <tr>\n",
       "      <th>4</th>\n",
       "      <td>BHLHA15</td>\n",
       "      <td>407</td>\n",
       "      <td>MA0607.2</td>\n",
       "      <td>ENST00000456328</td>\n",
       "    </tr>\n",
       "    <tr>\n",
       "      <th>...</th>\n",
       "      <td>...</td>\n",
       "      <td>...</td>\n",
       "      <td>...</td>\n",
       "      <td>...</td>\n",
       "    </tr>\n",
       "    <tr>\n",
       "      <th>16482946</th>\n",
       "      <td>ZNF692</td>\n",
       "      <td>465</td>\n",
       "      <td>MA1986.1</td>\n",
       "      <td>ENST00000507418</td>\n",
       "    </tr>\n",
       "    <tr>\n",
       "      <th>16482947</th>\n",
       "      <td>ZNF708</td>\n",
       "      <td>482</td>\n",
       "      <td>MA1730.1</td>\n",
       "      <td>ENST00000507418</td>\n",
       "    </tr>\n",
       "    <tr>\n",
       "      <th>16482948</th>\n",
       "      <td>Zfp335</td>\n",
       "      <td>483</td>\n",
       "      <td>MA2002.1</td>\n",
       "      <td>ENST00000507418</td>\n",
       "    </tr>\n",
       "    <tr>\n",
       "      <th>16482949</th>\n",
       "      <td>Zfx</td>\n",
       "      <td>512</td>\n",
       "      <td>MA0146.2</td>\n",
       "      <td>ENST00000507418</td>\n",
       "    </tr>\n",
       "    <tr>\n",
       "      <th>16482950</th>\n",
       "      <td>Zic2</td>\n",
       "      <td>489</td>\n",
       "      <td>MA1629.1</td>\n",
       "      <td>ENST00000507418</td>\n",
       "    </tr>\n",
       "  </tbody>\n",
       "</table>\n",
       "<p>16482951 rows × 4 columns</p>\n",
       "</div>"
      ],
      "text/plain": [
       "           TFName  score      name       transcript\n",
       "0           ASCL1    458  MA1631.1  ENST00000456328\n",
       "1           ATOH7    471  MA1468.1  ENST00000456328\n",
       "2           Ascl2    424  MA0816.1  ENST00000456328\n",
       "3            BCL6    454  MA0463.2  ENST00000456328\n",
       "4         BHLHA15    407  MA0607.2  ENST00000456328\n",
       "...           ...    ...       ...              ...\n",
       "16482946   ZNF692    465  MA1986.1  ENST00000507418\n",
       "16482947   ZNF708    482  MA1730.1  ENST00000507418\n",
       "16482948   Zfp335    483  MA2002.1  ENST00000507418\n",
       "16482949      Zfx    512  MA0146.2  ENST00000507418\n",
       "16482950     Zic2    489  MA1629.1  ENST00000507418\n",
       "\n",
       "[16482951 rows x 4 columns]"
      ]
     },
     "execution_count": 23,
     "metadata": {},
     "output_type": "execute_result"
    }
   ],
   "source": [
    "df_all_edges\n",
    "# 16482951"
   ]
  },
  {
   "cell_type": "code",
   "execution_count": 25,
   "metadata": {},
   "outputs": [
    {
     "name": "stdout",
     "output_type": "stream",
     "text": [
      "Using: JASPAR2022\n",
      "All motif versions: 1205\n",
      "Motif base IDs: 841\n",
      "Unique motifs: 791\n",
      "Motifs without heterodimers: 723\n",
      "Non-human motifs: 103\n",
      "Names missing from the homologene database:\n",
      "Znf423 ['O08961']\n",
      "mix-a ['P21711']\n",
      "Dux ['A1JVI8']\n",
      "Retrieving results from UniProt...\n",
      "Retrying in 3s\n",
      "Retrying in 3s\n",
      "Retrying in 3s\n",
      "Fetched: 3 / 3\n",
      "Duplicate names:\n",
      "   Original Name Adjusted Name  Group ID Human Name  Trivial\n",
      "31         Nr2f6         Nr2f6    7706.0      NR2F6     True\n",
      "37         Nr2F6         Nr2f6    7706.0      NR2F6     True\n",
      "66         Ptf1a         Ptf1a   10304.0      PTF1A     True\n",
      "67         Ptf1A         Ptf1a   10304.0      PTF1A     True\n",
      "Final number of IDs which will be replaced by human homologs: 87\n",
      "Final number of total matrix IDs: 707\n"
     ]
    }
   ],
   "source": [
    "from sponge.sponge import Sponge\n",
    "\n",
    "sponge_obj = Sponge()\n",
    "sponge_obj.select_tfs()\n",
    "sponge_obj.find_human_homologs()\n",
    "\n",
    "tf_names_list = [i.name for i in sponge_obj.motifs if i.matrix_id in sponge_obj.matrix_ids] \n",
    "tf_humanised_names_list = [i if i not in sponge_obj.animal_to_human else sponge_obj.animal_to_human[i] for i in tf_names_list]"
   ]
  },
  {
   "cell_type": "code",
   "execution_count": 26,
   "metadata": {},
   "outputs": [],
   "source": [
    "df_all_edges['TFName'] = df_all_edges['TFName'].apply(lambda x: sponge_obj.animal_to_human[x] if x in sponge_obj.animal_to_human else x)"
   ]
  },
  {
   "cell_type": "code",
   "execution_count": 27,
   "metadata": {},
   "outputs": [],
   "source": [
    "annotations = pd.read_csv('gencode_annotations_filtered.tsv', sep='\\t')"
   ]
  },
  {
   "cell_type": "code",
   "execution_count": 28,
   "metadata": {},
   "outputs": [
    {
     "data": {
      "text/html": [
       "<div>\n",
       "<style scoped>\n",
       "    .dataframe tbody tr th:only-of-type {\n",
       "        vertical-align: middle;\n",
       "    }\n",
       "\n",
       "    .dataframe tbody tr th {\n",
       "        vertical-align: top;\n",
       "    }\n",
       "\n",
       "    .dataframe thead th {\n",
       "        text-align: right;\n",
       "    }\n",
       "</style>\n",
       "<table border=\"1\" class=\"dataframe\">\n",
       "  <thead>\n",
       "    <tr style=\"text-align: right;\">\n",
       "      <th></th>\n",
       "      <th>Gene stable ID</th>\n",
       "      <th>Transcript stable ID</th>\n",
       "      <th>GENCODE basic annotation</th>\n",
       "      <th>Transcript support level (TSL)</th>\n",
       "      <th>Ensembl Canonical</th>\n",
       "      <th>Gene name</th>\n",
       "      <th>Gene type</th>\n",
       "    </tr>\n",
       "  </thead>\n",
       "  <tbody>\n",
       "    <tr>\n",
       "      <th>0</th>\n",
       "      <td>ENSG00000160072</td>\n",
       "      <td>ENST00000673477</td>\n",
       "      <td>GENCODE basic</td>\n",
       "      <td>NaN</td>\n",
       "      <td>1.0</td>\n",
       "      <td>ATAD3B</td>\n",
       "      <td>protein_coding</td>\n",
       "    </tr>\n",
       "    <tr>\n",
       "      <th>1</th>\n",
       "      <td>ENSG00000160072</td>\n",
       "      <td>ENST00000308647</td>\n",
       "      <td>GENCODE basic</td>\n",
       "      <td>tsl1 (assigned to previous version 7)</td>\n",
       "      <td>NaN</td>\n",
       "      <td>ATAD3B</td>\n",
       "      <td>protein_coding</td>\n",
       "    </tr>\n",
       "    <tr>\n",
       "      <th>2</th>\n",
       "      <td>ENSG00000279928</td>\n",
       "      <td>ENST00000624431</td>\n",
       "      <td>GENCODE basic</td>\n",
       "      <td>tslNA</td>\n",
       "      <td>1.0</td>\n",
       "      <td>DDX11L17</td>\n",
       "      <td>unprocessed_pseudogene</td>\n",
       "    </tr>\n",
       "    <tr>\n",
       "      <th>3</th>\n",
       "      <td>ENSG00000228037</td>\n",
       "      <td>ENST00000424215</td>\n",
       "      <td>GENCODE basic</td>\n",
       "      <td>tsl5</td>\n",
       "      <td>1.0</td>\n",
       "      <td>NaN</td>\n",
       "      <td>lncRNA</td>\n",
       "    </tr>\n",
       "    <tr>\n",
       "      <th>4</th>\n",
       "      <td>ENSG00000142611</td>\n",
       "      <td>ENST00000511072</td>\n",
       "      <td>GENCODE basic</td>\n",
       "      <td>tsl5</td>\n",
       "      <td>NaN</td>\n",
       "      <td>PRDM16</td>\n",
       "      <td>protein_coding</td>\n",
       "    </tr>\n",
       "  </tbody>\n",
       "</table>\n",
       "</div>"
      ],
      "text/plain": [
       "    Gene stable ID Transcript stable ID GENCODE basic annotation  \\\n",
       "0  ENSG00000160072      ENST00000673477            GENCODE basic   \n",
       "1  ENSG00000160072      ENST00000308647            GENCODE basic   \n",
       "2  ENSG00000279928      ENST00000624431            GENCODE basic   \n",
       "3  ENSG00000228037      ENST00000424215            GENCODE basic   \n",
       "4  ENSG00000142611      ENST00000511072            GENCODE basic   \n",
       "\n",
       "          Transcript support level (TSL)  Ensembl Canonical Gene name  \\\n",
       "0                                    NaN                1.0    ATAD3B   \n",
       "1  tsl1 (assigned to previous version 7)                NaN    ATAD3B   \n",
       "2                                  tslNA                1.0  DDX11L17   \n",
       "3                                   tsl5                1.0       NaN   \n",
       "4                                   tsl5                NaN    PRDM16   \n",
       "\n",
       "                Gene type  \n",
       "0          protein_coding  \n",
       "1          protein_coding  \n",
       "2  unprocessed_pseudogene  \n",
       "3                  lncRNA  \n",
       "4          protein_coding  "
      ]
     },
     "execution_count": 28,
     "metadata": {},
     "output_type": "execute_result"
    }
   ],
   "source": [
    "annotations.head()"
   ]
  },
  {
   "cell_type": "code",
   "execution_count": 29,
   "metadata": {},
   "outputs": [],
   "source": [
    "annotations.drop(columns=['GENCODE basic annotation', 'Transcript support level (TSL)', 'Ensembl Canonical'], inplace=True)"
   ]
  },
  {
   "cell_type": "code",
   "execution_count": 30,
   "metadata": {},
   "outputs": [
    {
     "data": {
      "text/plain": [
       "ENST00000673477    1\n",
       "ENST00000495472    1\n",
       "ENST00000231948    1\n",
       "ENST00000639284    1\n",
       "ENST00000625495    1\n",
       "                  ..\n",
       "ENST00000219821    1\n",
       "ENST00000542583    1\n",
       "ENST00000381414    1\n",
       "ENST00000541464    1\n",
       "ENST00000700901    1\n",
       "Name: Transcript stable ID, Length: 117592, dtype: int64"
      ]
     },
     "execution_count": 30,
     "metadata": {},
     "output_type": "execute_result"
    }
   ],
   "source": [
    "annotations['Transcript stable ID'].value_counts()"
   ]
  },
  {
   "cell_type": "code",
   "execution_count": 31,
   "metadata": {},
   "outputs": [],
   "source": [
    "full_frame = df_all_edges.join(other=annotations.set_index('Transcript stable ID'), on='transcript')"
   ]
  },
  {
   "cell_type": "code",
   "execution_count": 32,
   "metadata": {},
   "outputs": [
    {
     "data": {
      "text/html": [
       "<div>\n",
       "<style scoped>\n",
       "    .dataframe tbody tr th:only-of-type {\n",
       "        vertical-align: middle;\n",
       "    }\n",
       "\n",
       "    .dataframe tbody tr th {\n",
       "        vertical-align: top;\n",
       "    }\n",
       "\n",
       "    .dataframe thead th {\n",
       "        text-align: right;\n",
       "    }\n",
       "</style>\n",
       "<table border=\"1\" class=\"dataframe\">\n",
       "  <thead>\n",
       "    <tr style=\"text-align: right;\">\n",
       "      <th></th>\n",
       "      <th>TFName</th>\n",
       "      <th>score</th>\n",
       "      <th>name</th>\n",
       "      <th>transcript</th>\n",
       "      <th>Gene stable ID</th>\n",
       "      <th>Gene name</th>\n",
       "      <th>Gene type</th>\n",
       "    </tr>\n",
       "  </thead>\n",
       "  <tbody>\n",
       "    <tr>\n",
       "      <th>0</th>\n",
       "      <td>ASCL1</td>\n",
       "      <td>458</td>\n",
       "      <td>MA1631.1</td>\n",
       "      <td>ENST00000456328</td>\n",
       "      <td>ENSG00000290825</td>\n",
       "      <td>DDX11L2</td>\n",
       "      <td>lncRNA</td>\n",
       "    </tr>\n",
       "    <tr>\n",
       "      <th>1</th>\n",
       "      <td>ATOH7</td>\n",
       "      <td>471</td>\n",
       "      <td>MA1468.1</td>\n",
       "      <td>ENST00000456328</td>\n",
       "      <td>ENSG00000290825</td>\n",
       "      <td>DDX11L2</td>\n",
       "      <td>lncRNA</td>\n",
       "    </tr>\n",
       "    <tr>\n",
       "      <th>2</th>\n",
       "      <td>ASCL2</td>\n",
       "      <td>424</td>\n",
       "      <td>MA0816.1</td>\n",
       "      <td>ENST00000456328</td>\n",
       "      <td>ENSG00000290825</td>\n",
       "      <td>DDX11L2</td>\n",
       "      <td>lncRNA</td>\n",
       "    </tr>\n",
       "    <tr>\n",
       "      <th>3</th>\n",
       "      <td>BCL6</td>\n",
       "      <td>454</td>\n",
       "      <td>MA0463.2</td>\n",
       "      <td>ENST00000456328</td>\n",
       "      <td>ENSG00000290825</td>\n",
       "      <td>DDX11L2</td>\n",
       "      <td>lncRNA</td>\n",
       "    </tr>\n",
       "    <tr>\n",
       "      <th>4</th>\n",
       "      <td>BHLHA15</td>\n",
       "      <td>407</td>\n",
       "      <td>MA0607.2</td>\n",
       "      <td>ENST00000456328</td>\n",
       "      <td>ENSG00000290825</td>\n",
       "      <td>DDX11L2</td>\n",
       "      <td>lncRNA</td>\n",
       "    </tr>\n",
       "    <tr>\n",
       "      <th>...</th>\n",
       "      <td>...</td>\n",
       "      <td>...</td>\n",
       "      <td>...</td>\n",
       "      <td>...</td>\n",
       "      <td>...</td>\n",
       "      <td>...</td>\n",
       "      <td>...</td>\n",
       "    </tr>\n",
       "    <tr>\n",
       "      <th>16482946</th>\n",
       "      <td>ZNF692</td>\n",
       "      <td>465</td>\n",
       "      <td>MA1986.1</td>\n",
       "      <td>ENST00000507418</td>\n",
       "      <td>ENSG00000227159</td>\n",
       "      <td>DDX11L16</td>\n",
       "      <td>unprocessed_pseudogene</td>\n",
       "    </tr>\n",
       "    <tr>\n",
       "      <th>16482947</th>\n",
       "      <td>ZNF708</td>\n",
       "      <td>482</td>\n",
       "      <td>MA1730.1</td>\n",
       "      <td>ENST00000507418</td>\n",
       "      <td>ENSG00000227159</td>\n",
       "      <td>DDX11L16</td>\n",
       "      <td>unprocessed_pseudogene</td>\n",
       "    </tr>\n",
       "    <tr>\n",
       "      <th>16482948</th>\n",
       "      <td>ZNF335</td>\n",
       "      <td>483</td>\n",
       "      <td>MA2002.1</td>\n",
       "      <td>ENST00000507418</td>\n",
       "      <td>ENSG00000227159</td>\n",
       "      <td>DDX11L16</td>\n",
       "      <td>unprocessed_pseudogene</td>\n",
       "    </tr>\n",
       "    <tr>\n",
       "      <th>16482949</th>\n",
       "      <td>ZFX</td>\n",
       "      <td>512</td>\n",
       "      <td>MA0146.2</td>\n",
       "      <td>ENST00000507418</td>\n",
       "      <td>ENSG00000227159</td>\n",
       "      <td>DDX11L16</td>\n",
       "      <td>unprocessed_pseudogene</td>\n",
       "    </tr>\n",
       "    <tr>\n",
       "      <th>16482950</th>\n",
       "      <td>ZIC2</td>\n",
       "      <td>489</td>\n",
       "      <td>MA1629.1</td>\n",
       "      <td>ENST00000507418</td>\n",
       "      <td>ENSG00000227159</td>\n",
       "      <td>DDX11L16</td>\n",
       "      <td>unprocessed_pseudogene</td>\n",
       "    </tr>\n",
       "  </tbody>\n",
       "</table>\n",
       "<p>16482951 rows × 7 columns</p>\n",
       "</div>"
      ],
      "text/plain": [
       "           TFName  score      name       transcript   Gene stable ID  \\\n",
       "0           ASCL1    458  MA1631.1  ENST00000456328  ENSG00000290825   \n",
       "1           ATOH7    471  MA1468.1  ENST00000456328  ENSG00000290825   \n",
       "2           ASCL2    424  MA0816.1  ENST00000456328  ENSG00000290825   \n",
       "3            BCL6    454  MA0463.2  ENST00000456328  ENSG00000290825   \n",
       "4         BHLHA15    407  MA0607.2  ENST00000456328  ENSG00000290825   \n",
       "...           ...    ...       ...              ...              ...   \n",
       "16482946   ZNF692    465  MA1986.1  ENST00000507418  ENSG00000227159   \n",
       "16482947   ZNF708    482  MA1730.1  ENST00000507418  ENSG00000227159   \n",
       "16482948   ZNF335    483  MA2002.1  ENST00000507418  ENSG00000227159   \n",
       "16482949      ZFX    512  MA0146.2  ENST00000507418  ENSG00000227159   \n",
       "16482950     ZIC2    489  MA1629.1  ENST00000507418  ENSG00000227159   \n",
       "\n",
       "         Gene name               Gene type  \n",
       "0          DDX11L2                  lncRNA  \n",
       "1          DDX11L2                  lncRNA  \n",
       "2          DDX11L2                  lncRNA  \n",
       "3          DDX11L2                  lncRNA  \n",
       "4          DDX11L2                  lncRNA  \n",
       "...            ...                     ...  \n",
       "16482946  DDX11L16  unprocessed_pseudogene  \n",
       "16482947  DDX11L16  unprocessed_pseudogene  \n",
       "16482948  DDX11L16  unprocessed_pseudogene  \n",
       "16482949  DDX11L16  unprocessed_pseudogene  \n",
       "16482950  DDX11L16  unprocessed_pseudogene  \n",
       "\n",
       "[16482951 rows x 7 columns]"
      ]
     },
     "execution_count": 32,
     "metadata": {},
     "output_type": "execute_result"
    }
   ],
   "source": [
    "full_frame"
   ]
  },
  {
   "cell_type": "code",
   "execution_count": 33,
   "metadata": {},
   "outputs": [
    {
     "data": {
      "text/plain": [
       "TFName                  0\n",
       "score                   0\n",
       "name                    0\n",
       "transcript              0\n",
       "Gene stable ID      74010\n",
       "Gene name         3470779\n",
       "Gene type           74010\n",
       "dtype: int64"
      ]
     },
     "execution_count": 33,
     "metadata": {},
     "output_type": "execute_result"
    }
   ],
   "source": [
    "full_frame.isna().sum()"
   ]
  },
  {
   "cell_type": "code",
   "execution_count": 34,
   "metadata": {},
   "outputs": [
    {
     "data": {
      "text/plain": [
       "array(['ENST00000431321', 'ENST00000692781', 'ENST00000692936',\n",
       "       'ENST00000589964', 'ENST00000403496', 'ENST00000689509',\n",
       "       'ENST00000687023', 'ENST00000702677', 'ENST00000689308',\n",
       "       'ENST00000649325'], dtype=object)"
      ]
     },
     "execution_count": 34,
     "metadata": {},
     "output_type": "execute_result"
    }
   ],
   "source": [
    "full_frame[full_frame['Gene stable ID'].isna()]['transcript'].unique()[:10]"
   ]
  },
  {
   "cell_type": "code",
   "execution_count": 35,
   "metadata": {},
   "outputs": [],
   "source": [
    "full_frame.dropna(subset='Gene stable ID', inplace=True)"
   ]
  },
  {
   "cell_type": "code",
   "execution_count": 36,
   "metadata": {},
   "outputs": [
    {
     "data": {
      "text/plain": [
       "TFName                  0\n",
       "score                   0\n",
       "name                    0\n",
       "transcript              0\n",
       "Gene stable ID          0\n",
       "Gene name         3396769\n",
       "Gene type               0\n",
       "dtype: int64"
      ]
     },
     "execution_count": 36,
     "metadata": {},
     "output_type": "execute_result"
    }
   ],
   "source": [
    "full_frame.isna().sum()"
   ]
  },
  {
   "cell_type": "code",
   "execution_count": 37,
   "metadata": {},
   "outputs": [],
   "source": [
    "full_frame.sort_values('score', ascending=False, inplace=True)"
   ]
  },
  {
   "cell_type": "code",
   "execution_count": 38,
   "metadata": {},
   "outputs": [],
   "source": [
    "full_frame_2 = full_frame.drop_duplicates(subset=['TFName', 'Gene stable ID']).copy()"
   ]
  },
  {
   "cell_type": "code",
   "execution_count": 39,
   "metadata": {},
   "outputs": [
    {
     "data": {
      "text/html": [
       "<div>\n",
       "<style scoped>\n",
       "    .dataframe tbody tr th:only-of-type {\n",
       "        vertical-align: middle;\n",
       "    }\n",
       "\n",
       "    .dataframe tbody tr th {\n",
       "        vertical-align: top;\n",
       "    }\n",
       "\n",
       "    .dataframe thead th {\n",
       "        text-align: right;\n",
       "    }\n",
       "</style>\n",
       "<table border=\"1\" class=\"dataframe\">\n",
       "  <thead>\n",
       "    <tr style=\"text-align: right;\">\n",
       "      <th></th>\n",
       "      <th>TFName</th>\n",
       "      <th>score</th>\n",
       "      <th>name</th>\n",
       "      <th>transcript</th>\n",
       "      <th>Gene stable ID</th>\n",
       "      <th>Gene name</th>\n",
       "      <th>Gene type</th>\n",
       "    </tr>\n",
       "  </thead>\n",
       "  <tbody>\n",
       "    <tr>\n",
       "      <th>4546422</th>\n",
       "      <td>CTCF</td>\n",
       "      <td>1000</td>\n",
       "      <td>MA1930.1</td>\n",
       "      <td>ENST00000701025</td>\n",
       "      <td>ENSG00000287709</td>\n",
       "      <td>NaN</td>\n",
       "      <td>lncRNA</td>\n",
       "    </tr>\n",
       "    <tr>\n",
       "      <th>11289872</th>\n",
       "      <td>EWSR1-FLI1</td>\n",
       "      <td>1000</td>\n",
       "      <td>MA0149.1</td>\n",
       "      <td>ENST00000554173</td>\n",
       "      <td>ENSG00000140093</td>\n",
       "      <td>SERPINA10</td>\n",
       "      <td>protein_coding</td>\n",
       "    </tr>\n",
       "    <tr>\n",
       "      <th>14719800</th>\n",
       "      <td>ZNF140</td>\n",
       "      <td>1000</td>\n",
       "      <td>MA1589.1</td>\n",
       "      <td>ENST00000593427</td>\n",
       "      <td>ENSG00000268205</td>\n",
       "      <td>NaN</td>\n",
       "      <td>lncRNA</td>\n",
       "    </tr>\n",
       "    <tr>\n",
       "      <th>6459328</th>\n",
       "      <td>EWSR1-FLI1</td>\n",
       "      <td>1000</td>\n",
       "      <td>MA0149.1</td>\n",
       "      <td>ENST00000689825</td>\n",
       "      <td>ENSG00000286923</td>\n",
       "      <td>NaN</td>\n",
       "      <td>lncRNA</td>\n",
       "    </tr>\n",
       "    <tr>\n",
       "      <th>9144284</th>\n",
       "      <td>ZNF16</td>\n",
       "      <td>1000</td>\n",
       "      <td>MA1654.1</td>\n",
       "      <td>ENST00000384297</td>\n",
       "      <td>ENSG00000207024</td>\n",
       "      <td>Y_RNA</td>\n",
       "      <td>misc_RNA</td>\n",
       "    </tr>\n",
       "    <tr>\n",
       "      <th>...</th>\n",
       "      <td>...</td>\n",
       "      <td>...</td>\n",
       "      <td>...</td>\n",
       "      <td>...</td>\n",
       "      <td>...</td>\n",
       "      <td>...</td>\n",
       "      <td>...</td>\n",
       "    </tr>\n",
       "    <tr>\n",
       "      <th>13822437</th>\n",
       "      <td>ELF1</td>\n",
       "      <td>400</td>\n",
       "      <td>MA0473.3</td>\n",
       "      <td>ENST00000649298</td>\n",
       "      <td>ENSG00000267134</td>\n",
       "      <td>LINC01924</td>\n",
       "      <td>lncRNA</td>\n",
       "    </tr>\n",
       "    <tr>\n",
       "      <th>6764639</th>\n",
       "      <td>BACH1</td>\n",
       "      <td>400</td>\n",
       "      <td>MA1633.2</td>\n",
       "      <td>ENST00000449315</td>\n",
       "      <td>ENSG00000233489</td>\n",
       "      <td>PAXBP1P1</td>\n",
       "      <td>processed_pseudogene</td>\n",
       "    </tr>\n",
       "    <tr>\n",
       "      <th>16242297</th>\n",
       "      <td>NEUROG1</td>\n",
       "      <td>400</td>\n",
       "      <td>MA0623.2</td>\n",
       "      <td>ENST00000441066</td>\n",
       "      <td>ENSG00000230973</td>\n",
       "      <td>NaN</td>\n",
       "      <td>processed_pseudogene</td>\n",
       "    </tr>\n",
       "    <tr>\n",
       "      <th>5175974</th>\n",
       "      <td>NFKB2</td>\n",
       "      <td>400</td>\n",
       "      <td>MA0778.1</td>\n",
       "      <td>ENST00000380106</td>\n",
       "      <td>ENSG00000205444</td>\n",
       "      <td>KU-MEL-3</td>\n",
       "      <td>lncRNA</td>\n",
       "    </tr>\n",
       "    <tr>\n",
       "      <th>13822460</th>\n",
       "      <td>NR2F2</td>\n",
       "      <td>400</td>\n",
       "      <td>MA1111.1</td>\n",
       "      <td>ENST00000649298</td>\n",
       "      <td>ENSG00000267134</td>\n",
       "      <td>LINC01924</td>\n",
       "      <td>lncRNA</td>\n",
       "    </tr>\n",
       "  </tbody>\n",
       "</table>\n",
       "<p>10072419 rows × 7 columns</p>\n",
       "</div>"
      ],
      "text/plain": [
       "              TFName  score      name       transcript   Gene stable ID  \\\n",
       "4546422         CTCF   1000  MA1930.1  ENST00000701025  ENSG00000287709   \n",
       "11289872  EWSR1-FLI1   1000  MA0149.1  ENST00000554173  ENSG00000140093   \n",
       "14719800      ZNF140   1000  MA1589.1  ENST00000593427  ENSG00000268205   \n",
       "6459328   EWSR1-FLI1   1000  MA0149.1  ENST00000689825  ENSG00000286923   \n",
       "9144284        ZNF16   1000  MA1654.1  ENST00000384297  ENSG00000207024   \n",
       "...              ...    ...       ...              ...              ...   \n",
       "13822437        ELF1    400  MA0473.3  ENST00000649298  ENSG00000267134   \n",
       "6764639        BACH1    400  MA1633.2  ENST00000449315  ENSG00000233489   \n",
       "16242297     NEUROG1    400  MA0623.2  ENST00000441066  ENSG00000230973   \n",
       "5175974        NFKB2    400  MA0778.1  ENST00000380106  ENSG00000205444   \n",
       "13822460       NR2F2    400  MA1111.1  ENST00000649298  ENSG00000267134   \n",
       "\n",
       "          Gene name             Gene type  \n",
       "4546422         NaN                lncRNA  \n",
       "11289872  SERPINA10        protein_coding  \n",
       "14719800        NaN                lncRNA  \n",
       "6459328         NaN                lncRNA  \n",
       "9144284       Y_RNA              misc_RNA  \n",
       "...             ...                   ...  \n",
       "13822437  LINC01924                lncRNA  \n",
       "6764639    PAXBP1P1  processed_pseudogene  \n",
       "16242297        NaN  processed_pseudogene  \n",
       "5175974    KU-MEL-3                lncRNA  \n",
       "13822460  LINC01924                lncRNA  \n",
       "\n",
       "[10072419 rows x 7 columns]"
      ]
     },
     "execution_count": 39,
     "metadata": {},
     "output_type": "execute_result"
    }
   ],
   "source": [
    "full_frame_2"
   ]
  },
  {
   "cell_type": "code",
   "execution_count": 40,
   "metadata": {},
   "outputs": [],
   "source": [
    "full_frame_2['Gene name'] = full_frame_2['Gene name'].fillna(full_frame_2['Gene stable ID'])"
   ]
  },
  {
   "cell_type": "code",
   "execution_count": 41,
   "metadata": {},
   "outputs": [
    {
     "data": {
      "text/plain": [
       "672"
      ]
     },
     "execution_count": 41,
     "metadata": {},
     "output_type": "execute_result"
    }
   ],
   "source": [
    "full_frame_2['TFName'].nunique()"
   ]
  },
  {
   "cell_type": "code",
   "execution_count": 42,
   "metadata": {},
   "outputs": [
    {
     "data": {
      "text/plain": [
       "62466"
      ]
     },
     "execution_count": 42,
     "metadata": {},
     "output_type": "execute_result"
    }
   ],
   "source": [
    "full_frame_2['Gene stable ID'].nunique()"
   ]
  },
  {
   "cell_type": "code",
   "execution_count": 43,
   "metadata": {},
   "outputs": [],
   "source": [
    "full_frame_2['edge'] = 1"
   ]
  },
  {
   "cell_type": "code",
   "execution_count": 44,
   "metadata": {},
   "outputs": [],
   "source": [
    "full_frame_2.sort_values(by=['TFName', 'Gene stable ID']).to_csv(\n",
    "    'tf_prior_2.tsv', sep='\\t', columns=['TFName', 'Gene stable ID', 'edge'], \n",
    "    header=False, index=False\n",
    ")"
   ]
  },
  {
   "cell_type": "code",
   "execution_count": 64,
   "metadata": {},
   "outputs": [],
   "source": [
    "old_version = pd.read_csv('tf_prior.tsv', sep='\\t', header=None)"
   ]
  },
  {
   "cell_type": "code",
   "execution_count": 65,
   "metadata": {},
   "outputs": [],
   "source": [
    "new_version = pd.read_csv('tf_prior_2.tsv', sep='\\t', header=None)"
   ]
  },
  {
   "cell_type": "code",
   "execution_count": 71,
   "metadata": {},
   "outputs": [
    {
     "data": {
      "text/plain": [
       "672"
      ]
     },
     "execution_count": 71,
     "metadata": {},
     "output_type": "execute_result"
    }
   ],
   "source": [
    "old_version[0].nunique()"
   ]
  },
  {
   "cell_type": "code",
   "execution_count": 72,
   "metadata": {},
   "outputs": [
    {
     "data": {
      "text/plain": [
       "672"
      ]
     },
     "execution_count": 72,
     "metadata": {},
     "output_type": "execute_result"
    }
   ],
   "source": [
    "new_version[0].nunique()"
   ]
  },
  {
   "cell_type": "code",
   "execution_count": 73,
   "metadata": {},
   "outputs": [],
   "source": [
    "old_tfs = set(old_version[0].unique())"
   ]
  },
  {
   "cell_type": "code",
   "execution_count": 74,
   "metadata": {},
   "outputs": [],
   "source": [
    "new_tfs = set(new_version[0].unique())"
   ]
  },
  {
   "cell_type": "code",
   "execution_count": 75,
   "metadata": {},
   "outputs": [
    {
     "data": {
      "text/plain": [
       "set()"
      ]
     },
     "execution_count": 75,
     "metadata": {},
     "output_type": "execute_result"
    }
   ],
   "source": [
    "old_tfs - new_tfs"
   ]
  },
  {
   "cell_type": "code",
   "execution_count": 76,
   "metadata": {},
   "outputs": [
    {
     "data": {
      "text/plain": [
       "set()"
      ]
     },
     "execution_count": 76,
     "metadata": {},
     "output_type": "execute_result"
    }
   ],
   "source": [
    "new_tfs - old_tfs"
   ]
  },
  {
   "cell_type": "code",
   "execution_count": 77,
   "metadata": {},
   "outputs": [
    {
     "data": {
      "text/plain": [
       "707"
      ]
     },
     "execution_count": 77,
     "metadata": {},
     "output_type": "execute_result"
    }
   ],
   "source": [
    "len(tf_names_list)"
   ]
  },
  {
   "cell_type": "code",
   "execution_count": 83,
   "metadata": {},
   "outputs": [],
   "source": [
    "ov2 = old_version.rename(columns={0: 'tf',  1: 'gene',  2: 'edge'}).set_index(['tf', 'gene'])"
   ]
  },
  {
   "cell_type": "code",
   "execution_count": 84,
   "metadata": {},
   "outputs": [],
   "source": [
    "nv2 = new_version.rename(columns={0: 'tf',  1: 'gene',  2: 'edge'}).set_index(['tf', 'gene'])"
   ]
  },
  {
   "cell_type": "code",
   "execution_count": 86,
   "metadata": {},
   "outputs": [],
   "source": [
    "comparison = ov2.join(nv2, rsuffix='_new', lsuffix='_old', how='outer')"
   ]
  },
  {
   "cell_type": "code",
   "execution_count": 88,
   "metadata": {},
   "outputs": [
    {
     "data": {
      "text/plain": [
       "edge_old    159261\n",
       "edge_new         0\n",
       "dtype: int64"
      ]
     },
     "execution_count": 88,
     "metadata": {},
     "output_type": "execute_result"
    }
   ],
   "source": [
    "comparison.isna().sum()"
   ]
  },
  {
   "cell_type": "code",
   "execution_count": 52,
   "metadata": {},
   "outputs": [],
   "source": [
    "name_id_matching = full_frame_2.groupby(['Gene name', 'Gene stable ID'])['Gene name'].count()"
   ]
  },
  {
   "cell_type": "code",
   "execution_count": 53,
   "metadata": {},
   "outputs": [],
   "source": [
    "id_to_name = {i[1]: i[0] for i in name_id_matching.groupby(level=0).idxmax().values}"
   ]
  },
  {
   "cell_type": "code",
   "execution_count": 54,
   "metadata": {},
   "outputs": [],
   "source": [
    "name_frame = full_frame_2.copy()"
   ]
  },
  {
   "cell_type": "code",
   "execution_count": 55,
   "metadata": {},
   "outputs": [],
   "source": [
    "name_frame['Gene name'] = name_frame['Gene stable ID'].apply(\n",
    "    lambda x: id_to_name[x] if x in id_to_name else np.nan)"
   ]
  },
  {
   "cell_type": "code",
   "execution_count": 56,
   "metadata": {},
   "outputs": [],
   "source": [
    "name_frame.dropna(subset='Gene name', inplace=True)"
   ]
  },
  {
   "cell_type": "code",
   "execution_count": 57,
   "metadata": {},
   "outputs": [
    {
     "data": {
      "text/html": [
       "<div>\n",
       "<style scoped>\n",
       "    .dataframe tbody tr th:only-of-type {\n",
       "        vertical-align: middle;\n",
       "    }\n",
       "\n",
       "    .dataframe tbody tr th {\n",
       "        vertical-align: top;\n",
       "    }\n",
       "\n",
       "    .dataframe thead th {\n",
       "        text-align: right;\n",
       "    }\n",
       "</style>\n",
       "<table border=\"1\" class=\"dataframe\">\n",
       "  <thead>\n",
       "    <tr style=\"text-align: right;\">\n",
       "      <th></th>\n",
       "      <th>TFName</th>\n",
       "      <th>score</th>\n",
       "      <th>name</th>\n",
       "      <th>transcript</th>\n",
       "      <th>Gene stable ID</th>\n",
       "      <th>Gene name</th>\n",
       "      <th>Gene type</th>\n",
       "    </tr>\n",
       "  </thead>\n",
       "  <tbody>\n",
       "    <tr>\n",
       "      <th>4546422</th>\n",
       "      <td>CTCF</td>\n",
       "      <td>1000</td>\n",
       "      <td>MA1930.1</td>\n",
       "      <td>ENST00000701025</td>\n",
       "      <td>ENSG00000287709</td>\n",
       "      <td>ENSG00000287709</td>\n",
       "      <td>lncRNA</td>\n",
       "    </tr>\n",
       "    <tr>\n",
       "      <th>11289872</th>\n",
       "      <td>EWSR1-FLI1</td>\n",
       "      <td>1000</td>\n",
       "      <td>MA0149.1</td>\n",
       "      <td>ENST00000554173</td>\n",
       "      <td>ENSG00000140093</td>\n",
       "      <td>SERPINA10</td>\n",
       "      <td>protein_coding</td>\n",
       "    </tr>\n",
       "    <tr>\n",
       "      <th>14719800</th>\n",
       "      <td>ZNF140</td>\n",
       "      <td>1000</td>\n",
       "      <td>MA1589.1</td>\n",
       "      <td>ENST00000593427</td>\n",
       "      <td>ENSG00000268205</td>\n",
       "      <td>ENSG00000268205</td>\n",
       "      <td>lncRNA</td>\n",
       "    </tr>\n",
       "    <tr>\n",
       "      <th>6459328</th>\n",
       "      <td>EWSR1-FLI1</td>\n",
       "      <td>1000</td>\n",
       "      <td>MA0149.1</td>\n",
       "      <td>ENST00000689825</td>\n",
       "      <td>ENSG00000286923</td>\n",
       "      <td>ENSG00000286923</td>\n",
       "      <td>lncRNA</td>\n",
       "    </tr>\n",
       "    <tr>\n",
       "      <th>15566481</th>\n",
       "      <td>EWSR1-FLI1</td>\n",
       "      <td>1000</td>\n",
       "      <td>MA0149.1</td>\n",
       "      <td>ENST00000383888</td>\n",
       "      <td>ENSG00000206615</td>\n",
       "      <td>RNU6-338P</td>\n",
       "      <td>snRNA</td>\n",
       "    </tr>\n",
       "    <tr>\n",
       "      <th>...</th>\n",
       "      <td>...</td>\n",
       "      <td>...</td>\n",
       "      <td>...</td>\n",
       "      <td>...</td>\n",
       "      <td>...</td>\n",
       "      <td>...</td>\n",
       "      <td>...</td>\n",
       "    </tr>\n",
       "    <tr>\n",
       "      <th>13822437</th>\n",
       "      <td>ELF1</td>\n",
       "      <td>400</td>\n",
       "      <td>MA0473.3</td>\n",
       "      <td>ENST00000649298</td>\n",
       "      <td>ENSG00000267134</td>\n",
       "      <td>LINC01924</td>\n",
       "      <td>lncRNA</td>\n",
       "    </tr>\n",
       "    <tr>\n",
       "      <th>6764639</th>\n",
       "      <td>BACH1</td>\n",
       "      <td>400</td>\n",
       "      <td>MA1633.2</td>\n",
       "      <td>ENST00000449315</td>\n",
       "      <td>ENSG00000233489</td>\n",
       "      <td>PAXBP1P1</td>\n",
       "      <td>processed_pseudogene</td>\n",
       "    </tr>\n",
       "    <tr>\n",
       "      <th>16242297</th>\n",
       "      <td>NEUROG1</td>\n",
       "      <td>400</td>\n",
       "      <td>MA0623.2</td>\n",
       "      <td>ENST00000441066</td>\n",
       "      <td>ENSG00000230973</td>\n",
       "      <td>ENSG00000230973</td>\n",
       "      <td>processed_pseudogene</td>\n",
       "    </tr>\n",
       "    <tr>\n",
       "      <th>5175974</th>\n",
       "      <td>NFKB2</td>\n",
       "      <td>400</td>\n",
       "      <td>MA0778.1</td>\n",
       "      <td>ENST00000380106</td>\n",
       "      <td>ENSG00000205444</td>\n",
       "      <td>KU-MEL-3</td>\n",
       "      <td>lncRNA</td>\n",
       "    </tr>\n",
       "    <tr>\n",
       "      <th>13822460</th>\n",
       "      <td>NR2F2</td>\n",
       "      <td>400</td>\n",
       "      <td>MA1111.1</td>\n",
       "      <td>ENST00000649298</td>\n",
       "      <td>ENSG00000267134</td>\n",
       "      <td>LINC01924</td>\n",
       "      <td>lncRNA</td>\n",
       "    </tr>\n",
       "  </tbody>\n",
       "</table>\n",
       "<p>9869104 rows × 7 columns</p>\n",
       "</div>"
      ],
      "text/plain": [
       "              TFName  score      name       transcript   Gene stable ID  \\\n",
       "4546422         CTCF   1000  MA1930.1  ENST00000701025  ENSG00000287709   \n",
       "11289872  EWSR1-FLI1   1000  MA0149.1  ENST00000554173  ENSG00000140093   \n",
       "14719800      ZNF140   1000  MA1589.1  ENST00000593427  ENSG00000268205   \n",
       "6459328   EWSR1-FLI1   1000  MA0149.1  ENST00000689825  ENSG00000286923   \n",
       "15566481  EWSR1-FLI1   1000  MA0149.1  ENST00000383888  ENSG00000206615   \n",
       "...              ...    ...       ...              ...              ...   \n",
       "13822437        ELF1    400  MA0473.3  ENST00000649298  ENSG00000267134   \n",
       "6764639        BACH1    400  MA1633.2  ENST00000449315  ENSG00000233489   \n",
       "16242297     NEUROG1    400  MA0623.2  ENST00000441066  ENSG00000230973   \n",
       "5175974        NFKB2    400  MA0778.1  ENST00000380106  ENSG00000205444   \n",
       "13822460       NR2F2    400  MA1111.1  ENST00000649298  ENSG00000267134   \n",
       "\n",
       "                Gene name             Gene type  \n",
       "4546422   ENSG00000287709                lncRNA  \n",
       "11289872        SERPINA10        protein_coding  \n",
       "14719800  ENSG00000268205                lncRNA  \n",
       "6459328   ENSG00000286923                lncRNA  \n",
       "15566481        RNU6-338P                 snRNA  \n",
       "...                   ...                   ...  \n",
       "13822437        LINC01924                lncRNA  \n",
       "6764639          PAXBP1P1  processed_pseudogene  \n",
       "16242297  ENSG00000230973  processed_pseudogene  \n",
       "5175974          KU-MEL-3                lncRNA  \n",
       "13822460        LINC01924                lncRNA  \n",
       "\n",
       "[9869104 rows x 7 columns]"
      ]
     },
     "execution_count": 57,
     "metadata": {},
     "output_type": "execute_result"
    }
   ],
   "source": [
    "name_frame"
   ]
  },
  {
   "cell_type": "code",
   "execution_count": 58,
   "metadata": {},
   "outputs": [],
   "source": [
    "name_frame['Edge'] = 1"
   ]
  },
  {
   "cell_type": "code",
   "execution_count": 60,
   "metadata": {},
   "outputs": [],
   "source": [
    "name_frame.sort_values(by=['TFName', 'Gene name'], inplace=True)"
   ]
  },
  {
   "cell_type": "code",
   "execution_count": 62,
   "metadata": {},
   "outputs": [],
   "source": [
    "name_frame.to_csv('tf_prior_names_fixed.tsv', columns=['TFName', 'Gene name', 'Edge'], \n",
    "                  sep='\\t', header=None, index=False)"
   ]
  },
  {
   "cell_type": "code",
   "execution_count": 66,
   "metadata": {},
   "outputs": [],
   "source": [
    "ppi_df = pd.read_csv('ppi_prior.tsv', sep='\\t', header=None)"
   ]
  },
  {
   "cell_type": "code",
   "execution_count": 71,
   "metadata": {},
   "outputs": [],
   "source": [
    "ppi_tfs = set(ppi_df[0].unique()).union(set(ppi_df[1].unique()))"
   ]
  },
  {
   "cell_type": "code",
   "execution_count": 72,
   "metadata": {},
   "outputs": [
    {
     "data": {
      "text/plain": [
       "631"
      ]
     },
     "execution_count": 72,
     "metadata": {},
     "output_type": "execute_result"
    }
   ],
   "source": [
    "len(ppi_tfs)"
   ]
  },
  {
   "cell_type": "code",
   "execution_count": 73,
   "metadata": {},
   "outputs": [],
   "source": [
    "present_tfs = name_frame['TFName'].unique()"
   ]
  },
  {
   "cell_type": "code",
   "execution_count": 75,
   "metadata": {},
   "outputs": [
    {
     "data": {
      "text/plain": [
       "672"
      ]
     },
     "execution_count": 75,
     "metadata": {},
     "output_type": "execute_result"
    }
   ],
   "source": [
    "len(present_tfs)"
   ]
  },
  {
   "cell_type": "code",
   "execution_count": 76,
   "metadata": {},
   "outputs": [],
   "source": [
    "str_network = pd.read_csv('string_interactions_short.tsv', sep='\\t')"
   ]
  },
  {
   "cell_type": "code",
   "execution_count": 77,
   "metadata": {},
   "outputs": [],
   "source": [
    "str_rename = {'SOX4': 'SRY', 'T': 'TBXT', 'HGNC:9982': 'RFX1'}"
   ]
  },
  {
   "cell_type": "code",
   "execution_count": 78,
   "metadata": {},
   "outputs": [],
   "source": [
    "str_network['#node1'].replace(str_rename, inplace=True)"
   ]
  },
  {
   "cell_type": "code",
   "execution_count": 79,
   "metadata": {},
   "outputs": [],
   "source": [
    "str_network['node2'].replace(str_rename, inplace=True)"
   ]
  },
  {
   "cell_type": "code",
   "execution_count": 80,
   "metadata": {},
   "outputs": [],
   "source": [
    "str_network_2 = str_network[str_network['#node1'].isin(present_tfs) & str_network['node2'].isin(present_tfs)].copy()"
   ]
  },
  {
   "cell_type": "code",
   "execution_count": 81,
   "metadata": {},
   "outputs": [],
   "source": [
    "str_network_2['edge'] = 1"
   ]
  },
  {
   "cell_type": "code",
   "execution_count": 82,
   "metadata": {},
   "outputs": [],
   "source": [
    "new_ppi_tfs = set(str_network_2['#node1'].unique()).union(set(str_network_2['node2'].unique()))"
   ]
  },
  {
   "cell_type": "code",
   "execution_count": 83,
   "metadata": {},
   "outputs": [
    {
     "data": {
      "text/plain": [
       "631"
      ]
     },
     "execution_count": 83,
     "metadata": {},
     "output_type": "execute_result"
    }
   ],
   "source": [
    "len(new_ppi_tfs)"
   ]
  },
  {
   "cell_type": "code",
   "execution_count": 84,
   "metadata": {},
   "outputs": [
    {
     "data": {
      "text/plain": [
       "set()"
      ]
     },
     "execution_count": 84,
     "metadata": {},
     "output_type": "execute_result"
    }
   ],
   "source": [
    "ppi_tfs - new_ppi_tfs"
   ]
  },
  {
   "cell_type": "code",
   "execution_count": 85,
   "metadata": {},
   "outputs": [],
   "source": [
    "# str_network_2.sort_values(['#node1', 'node2']).to_csv('ppi_prior_fixed.tsv', columns=['#node1', 'node2', 'edge'], sep='\\t', header=None, index=False)"
   ]
  }
 ],
 "metadata": {
  "kernelspec": {
   "display_name": "spring_dev",
   "language": "python",
   "name": "python3"
  },
  "language_info": {
   "codemirror_mode": {
    "name": "ipython",
    "version": 3
   },
   "file_extension": ".py",
   "mimetype": "text/x-python",
   "name": "python",
   "nbconvert_exporter": "python",
   "pygments_lexer": "ipython3",
   "version": "3.8.15"
  },
  "orig_nbformat": 4,
  "vscode": {
   "interpreter": {
    "hash": "a9d6f1964c63bb6c6c221844abfe27f117b66e961563836b0ce887f1fbb684c9"
   }
  }
 },
 "nbformat": 4,
 "nbformat_minor": 2
}
